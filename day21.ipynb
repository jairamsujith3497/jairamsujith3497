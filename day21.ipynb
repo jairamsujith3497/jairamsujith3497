{
  "nbformat": 4,
  "nbformat_minor": 0,
  "metadata": {
    "colab": {
      "provenance": [],
      "authorship_tag": "ABX9TyP1vPhBv8SEhayZtnQupjJI",
      "include_colab_link": true
    },
    "kernelspec": {
      "name": "python3",
      "display_name": "Python 3"
    },
    "language_info": {
      "name": "python"
    }
  },
  "cells": [
    {
      "cell_type": "markdown",
      "metadata": {
        "id": "view-in-github",
        "colab_type": "text"
      },
      "source": [
        "<a href=\"https://colab.research.google.com/github/jairamsujith3497/jairamsujith3497/blob/main/day21.ipynb\" target=\"_parent\"><img src=\"https://colab.research.google.com/assets/colab-badge.svg\" alt=\"Open In Colab\"/></a>"
      ]
    },
    {
      "cell_type": "markdown",
      "source": [
        "Sets ante oka unordered collection of unique elements mowa, ante oka element set ki rendu rendu moodu moodu undav okate untadi and then ee particular order lone align ayyi undali ee elements ani em ledu, vaatiki istam ochinattu avi undachu.\n",
        "\n",
        "In Python, sets are defined using curly braces `{}` or by using the `set()` constructor."
      ],
      "metadata": {
        "id": "kIjJCva9lVgo"
      }
    },
    {
      "cell_type": "code",
      "source": [
        "myset = {1,2,3,4,5}\n",
        "anotherset =([6,7,8,9,0])"
      ],
      "metadata": {
        "id": "5p6vD5FclYYJ"
      },
      "execution_count": null,
      "outputs": []
    },
    {
      "cell_type": "code",
      "source": [
        "my_set = {1,2,3}\n",
        "print(my_set)\n",
        "my_set.add(4)\n",
        "my_set.add(5)\n",
        "print(my_set)"
      ],
      "metadata": {
        "colab": {
          "base_uri": "https://localhost:8080/"
        },
        "id": "QRKlT7jwlpDR",
        "outputId": "183789a6-5abc-4cc5-eeae-12c5bb01e81e"
      },
      "execution_count": 2,
      "outputs": [
        {
          "output_type": "stream",
          "name": "stdout",
          "text": [
            "{1, 2, 3}\n",
            "{1, 2, 3, 4, 5}\n"
          ]
        }
      ]
    },
    {
      "cell_type": "markdown",
      "source": [
        "#practise questions"
      ],
      "metadata": {
        "id": "diVGlxHHo66N"
      }
    },
    {
      "cell_type": "code",
      "source": [
        "empty_set ={}\n",
        "print(empty_set)"
      ],
      "metadata": {
        "colab": {
          "base_uri": "https://localhost:8080/"
        },
        "id": "No3vDDYVo930",
        "outputId": "4e952341-43e6-482c-c97b-a8aeb5ba128a"
      },
      "execution_count": 3,
      "outputs": [
        {
          "output_type": "stream",
          "name": "stdout",
          "text": [
            "{}\n"
          ]
        }
      ]
    },
    {
      "cell_type": "markdown",
      "source": [
        "Question 2: Adding elements to a set\n",
        "Expected Input: Set: {1, 2, 3}, Element to add: 4\n",
        "Expected Output: Set: {1, 2, 3, 4}"
      ],
      "metadata": {
        "id": "YZ1n33UNpKXT"
      }
    },
    {
      "cell_type": "code",
      "source": [
        "set = {1,2,3}\n",
        "set.add(4)\n",
        "print(set)"
      ],
      "metadata": {
        "colab": {
          "base_uri": "https://localhost:8080/"
        },
        "id": "SwFIes9upLc0",
        "outputId": "e412164e-53a5-4b80-ec5c-2375e04b33cb"
      },
      "execution_count": 5,
      "outputs": [
        {
          "output_type": "stream",
          "name": "stdout",
          "text": [
            "{1, 2, 3, 4}\n"
          ]
        }
      ]
    },
    {
      "cell_type": "markdown",
      "source": [
        "Question 3: Removing an element from a set\n",
        "Expected Input: Set: {1, 2, 3, 4}, Element to remove: 3\n",
        "Expected Output: Set: {1, 2, 4}"
      ],
      "metadata": {
        "id": "thy1gZnmphJv"
      }
    },
    {
      "cell_type": "code",
      "source": [
        "set = {1,2,3,4}\n",
        "set.remove(3)\n",
        "print(set)"
      ],
      "metadata": {
        "colab": {
          "base_uri": "https://localhost:8080/"
        },
        "id": "ts6Y_VkHpjPQ",
        "outputId": "9ce1a6b3-aef0-4e75-de53-c9831ec9213a"
      },
      "execution_count": 6,
      "outputs": [
        {
          "output_type": "stream",
          "name": "stdout",
          "text": [
            "{1, 2, 4}\n"
          ]
        }
      ]
    },
    {
      "cell_type": "markdown",
      "source": [
        "Question 4: Removing a non-existent element from a set\n",
        "Expected Input: Set: {1, 2, 3, 4}, Element to remove: 5\n",
        "Expected Output: Set: {1, 2, 3, 4}"
      ],
      "metadata": {
        "id": "UsNOioRSppWv"
      }
    },
    {
      "cell_type": "code",
      "source": [
        "set = {1,2,3,4}\n",
        "set.remove(5)\n",
        "print(set)"
      ],
      "metadata": {
        "colab": {
          "base_uri": "https://localhost:8080/",
          "height": 176
        },
        "id": "gX59iWvgp_sj",
        "outputId": "38b60a2c-2865-4009-d000-d732dff0a0d6"
      },
      "execution_count": 7,
      "outputs": [
        {
          "output_type": "error",
          "ename": "KeyError",
          "evalue": "5",
          "traceback": [
            "\u001b[0;31m---------------------------------------------------------------------------\u001b[0m",
            "\u001b[0;31mKeyError\u001b[0m                                  Traceback (most recent call last)",
            "\u001b[0;32m<ipython-input-7-bb37faec2c2d>\u001b[0m in \u001b[0;36m<cell line: 0>\u001b[0;34m()\u001b[0m\n\u001b[1;32m      1\u001b[0m \u001b[0mset\u001b[0m \u001b[0;34m=\u001b[0m \u001b[0;34m{\u001b[0m\u001b[0;36m1\u001b[0m\u001b[0;34m,\u001b[0m\u001b[0;36m2\u001b[0m\u001b[0;34m,\u001b[0m\u001b[0;36m3\u001b[0m\u001b[0;34m,\u001b[0m\u001b[0;36m4\u001b[0m\u001b[0;34m}\u001b[0m\u001b[0;34m\u001b[0m\u001b[0;34m\u001b[0m\u001b[0m\n\u001b[0;32m----> 2\u001b[0;31m \u001b[0mset\u001b[0m\u001b[0;34m.\u001b[0m\u001b[0mremove\u001b[0m\u001b[0;34m(\u001b[0m\u001b[0;36m5\u001b[0m\u001b[0;34m)\u001b[0m\u001b[0;34m\u001b[0m\u001b[0;34m\u001b[0m\u001b[0m\n\u001b[0m\u001b[1;32m      3\u001b[0m \u001b[0mprint\u001b[0m\u001b[0;34m(\u001b[0m\u001b[0mset\u001b[0m\u001b[0;34m)\u001b[0m\u001b[0;34m\u001b[0m\u001b[0;34m\u001b[0m\u001b[0m\n",
            "\u001b[0;31mKeyError\u001b[0m: 5"
          ]
        }
      ]
    },
    {
      "cell_type": "markdown",
      "source": [
        "Question 5: Creating a set from a list\n",
        "Expected Input: List: [5, 10, 15, 20]\n",
        "Expected Output: Set: {5, 10, 15, 20}"
      ],
      "metadata": {
        "id": "U9SXa0fmqOdC"
      }
    },
    {
      "cell_type": "code",
      "source": [
        "# Input list\n",
        "input_list = [5, 10, 15, 20]\n",
        "\n",
        "# Convert the list to a set\n",
        "output_set = set(input_list)\n",
        "\n",
        "# Print the resulting set\n",
        "print(\"Set:\", output_set)\n"
      ],
      "metadata": {
        "colab": {
          "base_uri": "https://localhost:8080/",
          "height": 211
        },
        "id": "YqrNJetgrBES",
        "outputId": "ff1bb4d9-cbf3-43ec-dbc2-f8e5c5de62d2"
      },
      "execution_count": 9,
      "outputs": [
        {
          "output_type": "error",
          "ename": "TypeError",
          "evalue": "'set' object is not callable",
          "traceback": [
            "\u001b[0;31m---------------------------------------------------------------------------\u001b[0m",
            "\u001b[0;31mTypeError\u001b[0m                                 Traceback (most recent call last)",
            "\u001b[0;32m<ipython-input-9-f35821216a7c>\u001b[0m in \u001b[0;36m<cell line: 0>\u001b[0;34m()\u001b[0m\n\u001b[1;32m      3\u001b[0m \u001b[0;34m\u001b[0m\u001b[0m\n\u001b[1;32m      4\u001b[0m \u001b[0;31m# Convert the list to a set\u001b[0m\u001b[0;34m\u001b[0m\u001b[0;34m\u001b[0m\u001b[0m\n\u001b[0;32m----> 5\u001b[0;31m \u001b[0moutput_set\u001b[0m \u001b[0;34m=\u001b[0m \u001b[0mset\u001b[0m\u001b[0;34m(\u001b[0m\u001b[0minput_list\u001b[0m\u001b[0;34m)\u001b[0m\u001b[0;34m\u001b[0m\u001b[0;34m\u001b[0m\u001b[0m\n\u001b[0m\u001b[1;32m      6\u001b[0m \u001b[0;34m\u001b[0m\u001b[0m\n\u001b[1;32m      7\u001b[0m \u001b[0;31m# Print the resulting set\u001b[0m\u001b[0;34m\u001b[0m\u001b[0;34m\u001b[0m\u001b[0m\n",
            "\u001b[0;31mTypeError\u001b[0m: 'set' object is not callable"
          ]
        }
      ]
    },
    {
      "cell_type": "markdown",
      "source": [
        "Question 6: Adding multiple elements to a set\n",
        "Expected Input: Set: {1, 2, 3}, Elements to add: {4, 5}\n",
        "Expected Output: Set: {1, 2, 3, 4, 5}"
      ],
      "metadata": {
        "id": "ET1Td4D1rLXb"
      }
    },
    {
      "cell_type": "code",
      "source": [
        "set = {1,2,3}\n",
        "set.update({4,5})\n",
        "print(set)"
      ],
      "metadata": {
        "colab": {
          "base_uri": "https://localhost:8080/"
        },
        "id": "O6OIakLyrOkB",
        "outputId": "3dcdf234-5c91-47ee-d350-a103aed0a07c"
      },
      "execution_count": 10,
      "outputs": [
        {
          "output_type": "stream",
          "name": "stdout",
          "text": [
            "{1, 2, 3, 4, 5}\n"
          ]
        }
      ]
    },
    {
      "cell_type": "markdown",
      "source": [
        "Question 7: Removing elements using discard()\n",
        "Expected Input: Set: {10, 20, 30, 40}, Elements to remove: {20, 50}\n",
        "Expected Output: Set: {10, 30, 40}"
      ],
      "metadata": {
        "id": "eBhIwbQ4rYf7"
      }
    },
    {
      "cell_type": "code",
      "source": [
        "set = {10,20,30,40}\n",
        "set.remove(20)\n",
        "print(set)"
      ],
      "metadata": {
        "colab": {
          "base_uri": "https://localhost:8080/"
        },
        "id": "EyMt3TVSrbLz",
        "outputId": "5c57833d-55a8-4c02-da28-7720ad347bc7"
      },
      "execution_count": 11,
      "outputs": [
        {
          "output_type": "stream",
          "name": "stdout",
          "text": [
            "{40, 10, 30}\n"
          ]
        }
      ]
    }
  ]
}