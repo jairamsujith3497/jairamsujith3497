{
  "nbformat": 4,
  "nbformat_minor": 0,
  "metadata": {
    "colab": {
      "provenance": [],
      "authorship_tag": "ABX9TyObN4UCMVgV7NGJp3zlMXcc",
      "include_colab_link": true
    },
    "kernelspec": {
      "name": "python3",
      "display_name": "Python 3"
    },
    "language_info": {
      "name": "python"
    }
  },
  "cells": [
    {
      "cell_type": "markdown",
      "metadata": {
        "id": "view-in-github",
        "colab_type": "text"
      },
      "source": [
        "<a href=\"https://colab.research.google.com/github/jairamsujith3497/jairamsujith3497/blob/main/loop_control_sts.ipynb\" target=\"_parent\"><img src=\"https://colab.research.google.com/assets/colab-badge.svg\" alt=\"Open In Colab\"/></a>"
      ]
    },
    {
      "cell_type": "markdown",
      "source": [
        "break ,continue,pass\n",
        "these are the statments\n",
        "\n",
        "break Statement:\n",
        "The break statement is used to terminate a loop prematurely when a certain condition is met.\n",
        "\n",
        "\n",
        "continue Statement:\n",
        "The continue statement is used to skip the current iteration of a loop and move to the next iteration.\n",
        "\n",
        "pass Statement:\n",
        "The pass statement is used as a placeholder when you don't want to execute any code inside a loop or a conditional block."
      ],
      "metadata": {
        "id": "3PKz1070Sh5n"
      }
    },
    {
      "cell_type": "code",
      "source": [
        "for num in range(1,6):\n",
        "  if num == 4:\n",
        "    break\n",
        "  print(num)"
      ],
      "metadata": {
        "colab": {
          "base_uri": "https://localhost:8080/"
        },
        "id": "OwzUYi8XSwAz",
        "outputId": "cc84523a-2269-4c3e-a94d-1370f88149db"
      },
      "execution_count": 1,
      "outputs": [
        {
          "output_type": "stream",
          "name": "stdout",
          "text": [
            "1\n",
            "2\n",
            "3\n"
          ]
        }
      ]
    },
    {
      "cell_type": "code",
      "source": [
        "for num in range(1,8):\n",
        "  if num %2==0:\n",
        "    continue\n",
        "  print(num)"
      ],
      "metadata": {
        "colab": {
          "base_uri": "https://localhost:8080/"
        },
        "id": "nQk_BSJ8S_zR",
        "outputId": "a6d673b6-83f8-4bc8-cc1d-0a72280b961f"
      },
      "execution_count": 2,
      "outputs": [
        {
          "output_type": "stream",
          "name": "stdout",
          "text": [
            "1\n",
            "3\n",
            "5\n",
            "7\n"
          ]
        }
      ]
    },
    {
      "cell_type": "code",
      "source": [
        "# Example: Using 'pass' to do nothing inside the loop\n",
        "for num in range(1, 6):\n",
        "    pass"
      ],
      "metadata": {
        "id": "DdhTZPj2TjDs"
      },
      "execution_count": 4,
      "outputs": []
    },
    {
      "cell_type": "markdown",
      "source": [
        "practise questions\n",
        "\n",
        "Write a Python program to print all numbers from 1 to 10, but stop the loop immediately when reaching 5 using the break statement."
      ],
      "metadata": {
        "id": "nKA7Rd-LT_OB"
      }
    },
    {
      "cell_type": "code",
      "source": [
        "for num in range(1,11):\n",
        "  if num == 5:\n",
        "    break\n",
        "  print(num)"
      ],
      "metadata": {
        "colab": {
          "base_uri": "https://localhost:8080/"
        },
        "id": "Bu4Qi4-qUDCQ",
        "outputId": "c947ebf5-41cd-45fc-f4ef-6efbd4d86445"
      },
      "execution_count": 5,
      "outputs": [
        {
          "output_type": "stream",
          "name": "stdout",
          "text": [
            "1\n",
            "2\n",
            "3\n",
            "4\n"
          ]
        }
      ]
    },
    {
      "cell_type": "markdown",
      "source": [
        "2. Given a list of numbers [1, 2, 3, 4, 5], use a `for` loop to print the elements one by one. However, if the element is 3, skip it using the `continue` statement.\n",
        "Note: Mowa nuv ee problem lo list ni create cheyyali ante my_list = [1,2,3,4,5] ani raayi, in detailed lists gurinchi further reels lo maatladta.\n",
        "    \n",
        "    Expected Output:\n",
        "    \n",
        "    ```\n",
        "    1\n",
        "    2\n",
        "    4\n",
        "    5\n",
        "    ```"
      ],
      "metadata": {
        "id": "WPqQxO7sUQK9"
      }
    },
    {
      "cell_type": "code",
      "source": [
        "list = [1,2,3,4,5]\n",
        "\n",
        "for num in list:\n",
        "  if num ==3:\n",
        "    continue\n",
        "  print(num)"
      ],
      "metadata": {
        "colab": {
          "base_uri": "https://localhost:8080/"
        },
        "id": "dqTDjpl2UWd7",
        "outputId": "968f120c-a818-45b1-cfd1-03093fcfb09d"
      },
      "execution_count": 6,
      "outputs": [
        {
          "output_type": "stream",
          "name": "stdout",
          "text": [
            "1\n",
            "2\n",
            "4\n",
            "5\n"
          ]
        }
      ]
    },
    {
      "cell_type": "markdown",
      "source": [
        "3. Write a Python function that takes a string as input and checks if it contains the letter 'o'. If it does, print \"Found 'o'\" and use the `break` statement to stop searching.\n",
        "    \n",
        "    Input: \"Hello, World!\"\n",
        "    Expected Output:\n",
        "    \n",
        "    ```\n",
        "    Found 'o'\n",
        "    ```"
      ],
      "metadata": {
        "id": "DG4vnn6pUskJ"
      }
    },
    {
      "cell_type": "code",
      "source": [
        "str = \"hello,world!\"\n",
        "\n",
        "for char in str:\n",
        "  if char ==\"o\":\n",
        "    break\n",
        "  print(\"Found o\")"
      ],
      "metadata": {
        "colab": {
          "base_uri": "https://localhost:8080/"
        },
        "id": "UlSXguQzUwC7",
        "outputId": "1788cbec-5ee3-4078-a3f7-b2d9a8102900"
      },
      "execution_count": 8,
      "outputs": [
        {
          "output_type": "stream",
          "name": "stdout",
          "text": [
            "Found o\n",
            "Found o\n",
            "Found o\n",
            "Found o\n"
          ]
        }
      ]
    },
    {
      "cell_type": "markdown",
      "source": [
        "Given a list of numbers [1, 2, 3, 4, 5], use a for loop to double each element and print the result. However, if the element is 4, use the continue statement to skip it."
      ],
      "metadata": {
        "id": "m4pMioIcVc_3"
      }
    },
    {
      "cell_type": "code",
      "source": [
        "numbers = [1,2,3,4,5]\n",
        "\n",
        "for num in numbers:\n",
        "  if num ==4:\n",
        "    continue\n",
        "  double = num *2\n",
        "  print(double)"
      ],
      "metadata": {
        "colab": {
          "base_uri": "https://localhost:8080/"
        },
        "id": "F4BlLw5LVgc8",
        "outputId": "e00ec763-7a09-4b68-b18d-27c9e0cded5a"
      },
      "execution_count": 15,
      "outputs": [
        {
          "output_type": "stream",
          "name": "stdout",
          "text": [
            "2\n",
            "4\n",
            "6\n",
            "10\n"
          ]
        }
      ]
    },
    {
      "cell_type": "markdown",
      "source": [
        "Write a Python program to print all numbers from 1 to 20 using a while loop. However, stop the loop when reaching 15 using the break statement.\n"
      ],
      "metadata": {
        "id": "g-5BrLeUaECp"
      }
    },
    {
      "cell_type": "code",
      "source": [
        "num =1\n",
        "while num in range(1,21):\n",
        "  if num == 15:\n",
        "    break\n",
        "  print(num)\n",
        "  num +=1"
      ],
      "metadata": {
        "colab": {
          "base_uri": "https://localhost:8080/"
        },
        "id": "7Ms7BzgkaFwR",
        "outputId": "026d3d23-2b39-412e-ae49-d44411609d19"
      },
      "execution_count": 3,
      "outputs": [
        {
          "output_type": "stream",
          "name": "stdout",
          "text": [
            "1\n",
            "2\n",
            "3\n",
            "4\n",
            "5\n",
            "6\n",
            "7\n",
            "8\n",
            "9\n",
            "10\n",
            "11\n",
            "12\n",
            "13\n",
            "14\n"
          ]
        }
      ]
    }
  ]
}