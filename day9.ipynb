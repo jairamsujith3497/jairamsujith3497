{
  "nbformat": 4,
  "nbformat_minor": 0,
  "metadata": {
    "colab": {
      "provenance": [],
      "authorship_tag": "ABX9TyNTOBvVfUx/7wIfy2redest",
      "include_colab_link": true
    },
    "kernelspec": {
      "name": "python3",
      "display_name": "Python 3"
    },
    "language_info": {
      "name": "python"
    }
  },
  "cells": [
    {
      "cell_type": "markdown",
      "metadata": {
        "id": "view-in-github",
        "colab_type": "text"
      },
      "source": [
        "<a href=\"https://colab.research.google.com/github/jairamsujith3497/jairamsujith3497/blob/main/day9.ipynb\" target=\"_parent\"><img src=\"https://colab.research.google.com/assets/colab-badge.svg\" alt=\"Open In Colab\"/></a>"
      ]
    },
    {
      "cell_type": "markdown",
      "source": [
        "if ,elif,else"
      ],
      "metadata": {
        "id": "73KcHhiY7XM8"
      }
    },
    {
      "cell_type": "code",
      "source": [
        "age = 18\n",
        "\n",
        "if age>=18:\n",
        "  print(\"you can vote\")"
      ],
      "metadata": {
        "colab": {
          "base_uri": "https://localhost:8080/"
        },
        "id": "5RBUZWRL7cmB",
        "outputId": "12bf2a07-435b-45af-ff29-6d451a4b5f41"
      },
      "execution_count": 1,
      "outputs": [
        {
          "output_type": "stream",
          "name": "stdout",
          "text": [
            "you can vote\n"
          ]
        }
      ]
    },
    {
      "cell_type": "code",
      "source": [
        "age =15\n",
        "\n",
        "if age>=18:\n",
        "  print(\"you can vote\")\n",
        "else:\n",
        "  print(\"you are minor\")"
      ],
      "metadata": {
        "colab": {
          "base_uri": "https://localhost:8080/"
        },
        "id": "-DKb9Ycs7t6E",
        "outputId": "386acf7c-2e52-46a8-ff37-6171bff8fbec"
      },
      "execution_count": 3,
      "outputs": [
        {
          "output_type": "stream",
          "name": "stdout",
          "text": [
            "you are minor\n"
          ]
        }
      ]
    },
    {
      "cell_type": "code",
      "source": [
        "age = int(input(\"enter your age:\"))\n",
        "\n",
        "if age<18:\n",
        "  print(\"you are minor\")\n",
        "elif age>=18 and age<=60:\n",
        "  print(\"you are adult\")\n",
        "\n",
        "else:\n",
        "  print(\"you are senior citizen\")"
      ],
      "metadata": {
        "colab": {
          "base_uri": "https://localhost:8080/"
        },
        "id": "xcaxiXWl759a",
        "outputId": "4cc38997-85fe-4215-f537-d9e5ec973e62"
      },
      "execution_count": 4,
      "outputs": [
        {
          "output_type": "stream",
          "name": "stdout",
          "text": [
            "enter your age:21\n",
            "you are adult\n"
          ]
        }
      ]
    },
    {
      "cell_type": "markdown",
      "source": [
        "Question 1:\n",
        "Write a program that takes a number as input and prints \"Even\" if it's an even number, and \"Odd\" if it's an odd number.\n",
        "Expected Input:\n",
        "Enter a number: 7\n",
        "\n",
        "​\n",
        "Expected Output:\n",
        "Odd\n"
      ],
      "metadata": {
        "id": "IY4ljY0F8Whi"
      }
    },
    {
      "cell_type": "code",
      "source": [
        "n = int(input(\"enter a number:\"))\n",
        "\n",
        "if n%2 == 0:\n",
        "  print(\"even\")\n",
        "else:\n",
        "  print(\"odd\")"
      ],
      "metadata": {
        "colab": {
          "base_uri": "https://localhost:8080/"
        },
        "id": "7Alc5Nmn8h8C",
        "outputId": "0d92831a-5b70-41d3-e023-bb4687baaa2c"
      },
      "execution_count": 6,
      "outputs": [
        {
          "output_type": "stream",
          "name": "stdout",
          "text": [
            "enter a number:6\n",
            "even\n"
          ]
        }
      ]
    },
    {
      "cell_type": "code",
      "source": [
        "n1 = int(input(\"enter a num\"))\n",
        "n2 = int(input(\"enter a num\"))\n",
        "if n1>n2:\n",
        "  print(n1)\n",
        "else:\n",
        "  print(n2)"
      ],
      "metadata": {
        "colab": {
          "base_uri": "https://localhost:8080/"
        },
        "id": "EilaoQsD81He",
        "outputId": "d014ac59-3082-4258-e7f2-be0bf6514898"
      },
      "execution_count": 8,
      "outputs": [
        {
          "output_type": "stream",
          "name": "stdout",
          "text": [
            "enter a num17\n",
            "enter a num21\n",
            "21\n"
          ]
        }
      ]
    },
    {
      "cell_type": "markdown",
      "source": [
        "Question 3:\n",
        "Write a program that takes a character as input and prints \"Vowel\" if it's a vowel (a, e, i, o, u), and \"Consonant\" otherwise.\n",
        "Expected Input:\n",
        "Enter a character: a"
      ],
      "metadata": {
        "id": "MBBw25fT9Shv"
      }
    },
    {
      "cell_type": "code",
      "source": [
        "a =input(\"enter a character\")\n",
        "\n",
        "if a in 'aeiou':\n",
        "  print(\"vowel\")\n",
        "else:\n",
        "  print(\"consonant\")"
      ],
      "metadata": {
        "colab": {
          "base_uri": "https://localhost:8080/"
        },
        "id": "wQw33FFt9MRB",
        "outputId": "9347e7e8-bc16-4fa3-a561-54d84256e20f"
      },
      "execution_count": 12,
      "outputs": [
        {
          "output_type": "stream",
          "name": "stdout",
          "text": [
            "enter a characterl\n",
            "consonant\n"
          ]
        }
      ]
    },
    {
      "cell_type": "markdown",
      "source": [
        "Question 4:\n",
        "Write a program that takes a year as input and prints \"Leap Year\" if it's a leap year, and \"Not a Leap Year\" otherwise.\n",
        "Expected Input:\n",
        "Enter a year: 2024\n",
        "\n",
        "​\n",
        "Expected Output:\n",
        "Leap Year\n"
      ],
      "metadata": {
        "id": "ywMFKIN095-B"
      }
    },
    {
      "cell_type": "code",
      "source": [
        "a = int(input(\"enter a year\"))\n",
        "\n",
        "if a%4 == 0 and a%100 !=0 or a%400 ==0:\n",
        "  print(\"leap year\")\n",
        "else:\n",
        "  print(\"not a leap year\")"
      ],
      "metadata": {
        "colab": {
          "base_uri": "https://localhost:8080/"
        },
        "id": "bP2p2rIu961Z",
        "outputId": "dd74e9ea-a766-4508-c8f5-48b7eedd2a65"
      },
      "execution_count": 15,
      "outputs": [
        {
          "output_type": "stream",
          "name": "stdout",
          "text": [
            "enter a year2017\n",
            "not a leap year\n"
          ]
        }
      ]
    },
    {
      "cell_type": "markdown",
      "source": [
        "Write a program that takes a grade as input (A, B, C, D, or F) and prints \"Pass\" if it's A, B, C, or D, and \"Fail\" if it's F."
      ],
      "metadata": {
        "id": "_lwIFgYL-2ot"
      }
    },
    {
      "cell_type": "code",
      "source": [
        "grade = str(input(\"enter the grade:\"))\n",
        "\n",
        "if grade in 'ABCD':\n",
        "  print(\"pass\")\n",
        "else:\n",
        "  print(\"fail\")"
      ],
      "metadata": {
        "colab": {
          "base_uri": "https://localhost:8080/"
        },
        "id": "Lq-WH8mV-3gT",
        "outputId": "6eb220fc-2059-49b3-881f-26b5ef41fbfe"
      },
      "execution_count": 16,
      "outputs": [
        {
          "output_type": "stream",
          "name": "stdout",
          "text": [
            "enter the grade:f\n",
            "fail\n"
          ]
        }
      ]
    }
  ]
}