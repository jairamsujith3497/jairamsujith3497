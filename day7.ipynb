{
  "nbformat": 4,
  "nbformat_minor": 0,
  "metadata": {
    "colab": {
      "provenance": [],
      "authorship_tag": "ABX9TyPCu4i5qy6Lia3W1zkx0UH6",
      "include_colab_link": true
    },
    "kernelspec": {
      "name": "python3",
      "display_name": "Python 3"
    },
    "language_info": {
      "name": "python"
    }
  },
  "cells": [
    {
      "cell_type": "markdown",
      "metadata": {
        "id": "view-in-github",
        "colab_type": "text"
      },
      "source": [
        "<a href=\"https://colab.research.google.com/github/jairamsujith3497/jairamsujith3497/blob/main/day7.ipynb\" target=\"_parent\"><img src=\"https://colab.research.google.com/assets/colab-badge.svg\" alt=\"Open In Colab\"/></a>"
      ]
    },
    {
      "cell_type": "markdown",
      "source": [
        "### Relational Operators\n",
        "\n",
        "when we to compare two different values we use this comparission operator.\n",
        "\n",
        "we have 6 types opf operators:\n",
        "\n",
        "\n",
        "\n",
        "- Equal to (==)\n",
        "- Not equal to (!=)\n",
        "- Greater than (>)\n",
        "- Less than (<)\n",
        "- Greater than or equal to (>=)\n",
        "- Less than or equal to (<=)"
      ],
      "metadata": {
        "id": "p6qRjhsHbfUO"
      }
    },
    {
      "cell_type": "code",
      "source": [
        "x = 5\n",
        "y= 7\n",
        "print(x == y)\n",
        "print(x != y)\n",
        "print(x>y)\n",
        "print(x<y)\n",
        "print(x>=y)\n",
        "print(x<=y)"
      ],
      "metadata": {
        "colab": {
          "base_uri": "https://localhost:8080/"
        },
        "id": "FDFiw58ubmSD",
        "outputId": "86e332ce-f2a1-4a2d-ca94-185334f3a8d9"
      },
      "execution_count": 3,
      "outputs": [
        {
          "output_type": "stream",
          "name": "stdout",
          "text": [
            "False\n",
            "True\n",
            "False\n",
            "True\n",
            "False\n",
            "True\n"
          ]
        }
      ]
    },
    {
      "cell_type": "code",
      "source": [
        "a = 5\n",
        "b = 2-7\n",
        "print(a)\n",
        "print(b)\n",
        "print(a == b)\n",
        "print(a!=b)\n",
        "print(a>b)\n",
        "print(a<b)\n",
        "print(a>=b)\n",
        "print(a<=b)"
      ],
      "metadata": {
        "colab": {
          "base_uri": "https://localhost:8080/"
        },
        "id": "uxIdxvGXb4VA",
        "outputId": "5ef3a446-5dd0-4265-a90f-418ff161efe8"
      },
      "execution_count": 5,
      "outputs": [
        {
          "output_type": "stream",
          "name": "stdout",
          "text": [
            "5\n",
            "-5\n",
            "False\n",
            "True\n",
            "True\n",
            "False\n",
            "True\n",
            "False\n"
          ]
        }
      ]
    },
    {
      "cell_type": "markdown",
      "source": [
        "### Questions to practice (Day 7):\n",
        "\n",
        "1. Example: Greater than operator (>)\n",
        "Input: 5 > 3\n",
        "Output: True"
      ],
      "metadata": {
        "id": "SfmLKfG5cSqI"
      }
    },
    {
      "cell_type": "code",
      "source": [
        "a = 5\n",
        "b = 3\n",
        "print(a>b)"
      ],
      "metadata": {
        "colab": {
          "base_uri": "https://localhost:8080/"
        },
        "id": "ckx4rhIucTkQ",
        "outputId": "9cd5e82e-39a8-49a7-f1da-b9996e407346"
      },
      "execution_count": 6,
      "outputs": [
        {
          "output_type": "stream",
          "name": "stdout",
          "text": [
            "True\n"
          ]
        }
      ]
    },
    {
      "cell_type": "markdown",
      "source": [
        "2.Example: Less than operator (<)\n",
        "Input: 10 < 20\n",
        "Output: True"
      ],
      "metadata": {
        "id": "7lFt4qWycZIv"
      }
    },
    {
      "cell_type": "code",
      "source": [
        "print(10<20)"
      ],
      "metadata": {
        "colab": {
          "base_uri": "https://localhost:8080/"
        },
        "id": "SBFmFzGbcYod",
        "outputId": "30d136cb-1ca6-4156-bbab-5dc73ffcc4e8"
      },
      "execution_count": 7,
      "outputs": [
        {
          "output_type": "stream",
          "name": "stdout",
          "text": [
            "True\n"
          ]
        }
      ]
    },
    {
      "cell_type": "markdown",
      "source": [
        "3.Example: Greater than or equal to operator (>=)\n",
        "Input: 7 >= 7\n",
        "Output: True"
      ],
      "metadata": {
        "id": "cW1XssWfciVp"
      }
    },
    {
      "cell_type": "code",
      "source": [
        "print(7>=7)"
      ],
      "metadata": {
        "colab": {
          "base_uri": "https://localhost:8080/"
        },
        "id": "f3SZwpoxc1To",
        "outputId": "f9db9a76-ab35-491e-834e-8f3ff0ed4027"
      },
      "execution_count": 9,
      "outputs": [
        {
          "output_type": "stream",
          "name": "stdout",
          "text": [
            "True\n"
          ]
        }
      ]
    },
    {
      "cell_type": "markdown",
      "source": [
        "4.Example: Less than or equal to operator (<=)\n",
        "Input: 15 <= 12\n",
        "Output: False"
      ],
      "metadata": {
        "id": "O3OkNxHzc6d2"
      }
    },
    {
      "cell_type": "code",
      "source": [
        "print(15<=12)"
      ],
      "metadata": {
        "colab": {
          "base_uri": "https://localhost:8080/"
        },
        "id": "Zq5-eNV3c_b5",
        "outputId": "48ca3581-4c24-4ce8-867d-b76ecbb8a370"
      },
      "execution_count": 10,
      "outputs": [
        {
          "output_type": "stream",
          "name": "stdout",
          "text": [
            "False\n"
          ]
        }
      ]
    },
    {
      "cell_type": "markdown",
      "source": [
        "5.Example: Equal to operator (==)\n",
        "Input: \"hello\" == \"hello\"\n",
        "Output: True"
      ],
      "metadata": {
        "id": "yRrvNGlqdCm8"
      }
    },
    {
      "cell_type": "code",
      "source": [
        "print(\"hello\"==\"hello\")"
      ],
      "metadata": {
        "colab": {
          "base_uri": "https://localhost:8080/"
        },
        "id": "J2FEM-VGdHEY",
        "outputId": "420c8678-ba65-441e-b0ee-996e2c912e4a"
      },
      "execution_count": 11,
      "outputs": [
        {
          "output_type": "stream",
          "name": "stdout",
          "text": [
            "True\n"
          ]
        }
      ]
    },
    {
      "cell_type": "markdown",
      "source": [
        "6.Example: Not equal to operator (!=)\n",
        "Input: 10 != 20\n",
        "Output: True"
      ],
      "metadata": {
        "id": "as1k1fhNdLHN"
      }
    },
    {
      "cell_type": "code",
      "source": [
        "a = 10\n",
        "b = 20\n",
        "print(a!=b)"
      ],
      "metadata": {
        "colab": {
          "base_uri": "https://localhost:8080/"
        },
        "id": "EgeOnWkMdOem",
        "outputId": "5c376aa7-0ddc-46da-bf52-b0eea03df644"
      },
      "execution_count": 12,
      "outputs": [
        {
          "output_type": "stream",
          "name": "stdout",
          "text": [
            "True\n"
          ]
        }
      ]
    },
    {
      "cell_type": "markdown",
      "source": [
        "7.Example: Comparing integers and floats\n",
        "Input: 5.0 > 4\n",
        "Output: True"
      ],
      "metadata": {
        "id": "W2yF05bRdVcr"
      }
    },
    {
      "cell_type": "code",
      "source": [
        "a = 5.0\n",
        "b = 4\n",
        "print(a>b)\n",
        "print(a<b)"
      ],
      "metadata": {
        "colab": {
          "base_uri": "https://localhost:8080/"
        },
        "id": "6V2nZN8DdZb_",
        "outputId": "13843855-c874-4f28-cb6b-13f86b2ca207"
      },
      "execution_count": 14,
      "outputs": [
        {
          "output_type": "stream",
          "name": "stdout",
          "text": [
            "True\n",
            "False\n"
          ]
        }
      ]
    },
    {
      "cell_type": "markdown",
      "source": [
        "8.Example: Comparing strings with different cases\n",
        "Input: \"Hello\" == \"hello\"\n",
        "Output: False"
      ],
      "metadata": {
        "id": "vMRBYoeZdiCK"
      }
    },
    {
      "cell_type": "code",
      "source": [
        "a = \"hello\"\n",
        "b = \"Hello\"\n",
        "print(a==b)"
      ],
      "metadata": {
        "colab": {
          "base_uri": "https://localhost:8080/"
        },
        "id": "DDJ_kHRWdnOd",
        "outputId": "d0c862f7-9d44-4e26-f533-b0c5e9837fc1"
      },
      "execution_count": 15,
      "outputs": [
        {
          "output_type": "stream",
          "name": "stdout",
          "text": [
            "False\n"
          ]
        }
      ]
    },
    {
      "cell_type": "markdown",
      "source": [
        "9.Example: Using relational operators with booleans\n",
        "Input: True == False\n",
        "Output: False"
      ],
      "metadata": {
        "id": "ZyMQSrRvdtVL"
      }
    },
    {
      "cell_type": "code",
      "source": [
        "print(True==False)"
      ],
      "metadata": {
        "colab": {
          "base_uri": "https://localhost:8080/"
        },
        "id": "-afXUG2Ldw0X",
        "outputId": "26a63ff8-fc10-4a89-a77f-94e307155282"
      },
      "execution_count": 17,
      "outputs": [
        {
          "output_type": "stream",
          "name": "stdout",
          "text": [
            "False\n"
          ]
        }
      ]
    },
    {
      "cell_type": "markdown",
      "source": [],
      "metadata": {
        "id": "BI17jnppdest"
      }
    },
    {
      "cell_type": "markdown",
      "source": [
        "10.Example: Comparing strings\n",
        "Input: \"apple\" < \"banana\"\n",
        "Output: True"
      ],
      "metadata": {
        "id": "MQ_KjyAOd5eu"
      }
    },
    {
      "cell_type": "code",
      "source": [
        "a=\"apple\"\n",
        "b =\"banana\"\n",
        "print(a<b)"
      ],
      "metadata": {
        "colab": {
          "base_uri": "https://localhost:8080/"
        },
        "id": "EgmrQydod-AZ",
        "outputId": "d0b7aa29-80e5-47df-86b6-4999b4d614b8"
      },
      "execution_count": 18,
      "outputs": [
        {
          "output_type": "stream",
          "name": "stdout",
          "text": [
            "True\n"
          ]
        }
      ]
    },
    {
      "cell_type": "markdown",
      "source": [
        "11.Example: Comparing None with a string\n",
        "Input: None == \"Python\"\n",
        "Output: False"
      ],
      "metadata": {
        "id": "AOARe0FXeDst"
      }
    },
    {
      "cell_type": "code",
      "source": [
        "a= None\n",
        "b=\"python\"\n",
        "print(a == b)"
      ],
      "metadata": {
        "colab": {
          "base_uri": "https://localhost:8080/"
        },
        "id": "6m1lspV_eIEr",
        "outputId": "5f9773ce-abd3-4960-82a5-83b7a5356fd3"
      },
      "execution_count": 19,
      "outputs": [
        {
          "output_type": "stream",
          "name": "stdout",
          "text": [
            "False\n"
          ]
        }
      ]
    },
    {
      "cell_type": "markdown",
      "source": [
        "12.Example: Mixing different types in comparisons\n",
        "Input: 5 > \"3\"\n",
        "Output: TypeError"
      ],
      "metadata": {
        "id": "roePjB1KeOd7"
      }
    },
    {
      "cell_type": "code",
      "source": [
        "print(5>\"3\")"
      ],
      "metadata": {
        "colab": {
          "base_uri": "https://localhost:8080/",
          "height": 144
        },
        "id": "S9ytE0zueSWe",
        "outputId": "9a503ad0-a4f9-43ea-ad40-b85b08c12725"
      },
      "execution_count": 20,
      "outputs": [
        {
          "output_type": "error",
          "ename": "TypeError",
          "evalue": "'>' not supported between instances of 'int' and 'str'",
          "traceback": [
            "\u001b[0;31m---------------------------------------------------------------------------\u001b[0m",
            "\u001b[0;31mTypeError\u001b[0m                                 Traceback (most recent call last)",
            "\u001b[0;32m<ipython-input-20-fe90f516031e>\u001b[0m in \u001b[0;36m<cell line: 1>\u001b[0;34m()\u001b[0m\n\u001b[0;32m----> 1\u001b[0;31m \u001b[0mprint\u001b[0m\u001b[0;34m(\u001b[0m\u001b[0;36m5\u001b[0m\u001b[0;34m>\u001b[0m\u001b[0;34m\"3\"\u001b[0m\u001b[0;34m)\u001b[0m\u001b[0;34m\u001b[0m\u001b[0;34m\u001b[0m\u001b[0m\n\u001b[0m",
            "\u001b[0;31mTypeError\u001b[0m: '>' not supported between instances of 'int' and 'str'"
          ]
        }
      ]
    },
    {
      "cell_type": "markdown",
      "source": [
        "13.Example: Using relational operators with negative numbers\n",
        "Input: -10 < -5\n",
        "Output: True"
      ],
      "metadata": {
        "id": "EctdkP4aeYEQ"
      }
    },
    {
      "cell_type": "code",
      "source": [
        "print(-10<-5)"
      ],
      "metadata": {
        "colab": {
          "base_uri": "https://localhost:8080/"
        },
        "id": "5wLINMJ-ebyj",
        "outputId": "8663d458-7092-4c5e-92d3-5e5394c82265"
      },
      "execution_count": 21,
      "outputs": [
        {
          "output_type": "stream",
          "name": "stdout",
          "text": [
            "True\n"
          ]
        }
      ]
    },
    {
      "cell_type": "code",
      "source": [
        "print(-10>-5)"
      ],
      "metadata": {
        "colab": {
          "base_uri": "https://localhost:8080/"
        },
        "id": "hqMNxlxxee4-",
        "outputId": "6c59aee0-7093-4a8d-a4de-1d378e7b24bc"
      },
      "execution_count": 22,
      "outputs": [
        {
          "output_type": "stream",
          "name": "stdout",
          "text": [
            "False\n"
          ]
        }
      ]
    },
    {
      "cell_type": "markdown",
      "source": [
        "14.Example: Comparing a string with a number\n",
        "Input: \"42\" == 42\n",
        "Output: False"
      ],
      "metadata": {
        "id": "VOMI6j9yehxF"
      }
    },
    {
      "cell_type": "code",
      "source": [
        "print(\"42\"==42)"
      ],
      "metadata": {
        "colab": {
          "base_uri": "https://localhost:8080/"
        },
        "id": "YQcM7FOCek7w",
        "outputId": "156293bb-fb75-40ec-f63b-53b1ecd6466a"
      },
      "execution_count": 23,
      "outputs": [
        {
          "output_type": "stream",
          "name": "stdout",
          "text": [
            "False\n"
          ]
        }
      ]
    },
    {
      "cell_type": "markdown",
      "source": [
        "15.Example: Using relational operators with floating-point precision\n",
        "Input: 0.1 + 0.1 + 0.1 == 0.3\n",
        "Output: False"
      ],
      "metadata": {
        "id": "xyrts6amepr3"
      }
    },
    {
      "cell_type": "code",
      "source": [
        "print(0.1+0.1+0.1==0.3)"
      ],
      "metadata": {
        "colab": {
          "base_uri": "https://localhost:8080/"
        },
        "id": "QjmbE0QmeteW",
        "outputId": "f8b38367-3961-44a2-dead-52e6e8182032"
      },
      "execution_count": 24,
      "outputs": [
        {
          "output_type": "stream",
          "name": "stdout",
          "text": [
            "False\n"
          ]
        }
      ]
    }
  ]
}