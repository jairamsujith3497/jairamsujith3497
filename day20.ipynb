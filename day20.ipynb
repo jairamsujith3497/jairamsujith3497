{
  "nbformat": 4,
  "nbformat_minor": 0,
  "metadata": {
    "colab": {
      "provenance": [],
      "authorship_tag": "ABX9TyO/hYyBWR2jj1T3MzH0z/XY",
      "include_colab_link": true
    },
    "kernelspec": {
      "name": "python3",
      "display_name": "Python 3"
    },
    "language_info": {
      "name": "python"
    }
  },
  "cells": [
    {
      "cell_type": "markdown",
      "metadata": {
        "id": "view-in-github",
        "colab_type": "text"
      },
      "source": [
        "<a href=\"https://colab.research.google.com/github/jairamsujith3497/jairamsujith3497/blob/main/day20.ipynb\" target=\"_parent\"><img src=\"https://colab.research.google.com/assets/colab-badge.svg\" alt=\"Open In Colab\"/></a>"
      ]
    },
    {
      "cell_type": "markdown",
      "source": [],
      "metadata": {
        "id": "qItdoKdBymQt"
      }
    },
    {
      "cell_type": "code",
      "source": [
        "student = {\n",
        "    \"name\": \"Dodagatta Nihar\",\n",
        "    \"age\": 25,\n",
        "    \"major\": \"Computer Science\",\n",
        "    \"gpa\": 3.8\n",
        "}\n",
        "\n",
        "student[\"gpa\"]=4.0\n",
        "print(student)\n",
        "\n",
        "student[\"university\"]=\"klu\"\n",
        "\n",
        "print(student)\n",
        "\n",
        "print(student.keys())\n",
        "print(student.values())\n",
        "\n"
      ],
      "metadata": {
        "colab": {
          "base_uri": "https://localhost:8080/"
        },
        "id": "n6GnjpOG1A-6",
        "outputId": "45c3383b-1652-4ee9-f765-13a5c15bf990"
      },
      "execution_count": 4,
      "outputs": [
        {
          "output_type": "stream",
          "name": "stdout",
          "text": [
            "{'name': 'Dodagatta Nihar', 'age': 25, 'major': 'Computer Science', 'gpa': 4.0}\n",
            "{'name': 'Dodagatta Nihar', 'age': 25, 'major': 'Computer Science', 'gpa': 4.0, 'university': 'klu'}\n",
            "dict_keys(['name', 'age', 'major', 'gpa', 'university'])\n",
            "dict_values(['Dodagatta Nihar', 25, 'Computer Science', 4.0, 'klu'])\n"
          ]
        }
      ]
    },
    {
      "cell_type": "markdown",
      "source": [
        "remove element and add element"
      ],
      "metadata": {
        "id": "8bC2Hixa2-KS"
      }
    },
    {
      "cell_type": "code",
      "source": [
        "student = {\n",
        "    \"name\":\"jairam sujith\",\n",
        "    \"age\":25,\n",
        "    \"course\":\"computer science\",\n",
        "    \"location\":\"hyderbad\"\n",
        "}\n",
        "\n",
        "if \"location\" in student:\n",
        "  print(\"he works in:\" ,student[\"location\"])\n",
        "\n",
        "#removes\n",
        "removed_value = student.pop(\"age\")\n",
        "print(\"we have kept his age private:\",removed_value)"
      ],
      "metadata": {
        "colab": {
          "base_uri": "https://localhost:8080/"
        },
        "id": "-n5lPlcb3CzG",
        "outputId": "12a97b85-ccc1-43bb-8ed5-fd50343b4105"
      },
      "execution_count": 9,
      "outputs": [
        {
          "output_type": "stream",
          "name": "stdout",
          "text": [
            "he works in: hyderbad\n",
            "we have kept his age private: 25\n"
          ]
        }
      ]
    },
    {
      "cell_type": "markdown",
      "source": [
        "### Questions to practice (Day - 20):\n",
        "\n",
        "1. Question: Given the initial dictionary `employee` as `{\"name\": \"Alice\", \"age\": 30}`, modify the value of the key \"age\" to 35.\n",
        "Expected Input: `employee = {\"name\": \"Alice\", \"age\": 30}`\n",
        "Expected Output: `{\"name\": \"Alice\", \"age\": 35}`"
      ],
      "metadata": {
        "id": "2f85kFA24E05"
      }
    },
    {
      "cell_type": "code",
      "source": [
        "employee ={\n",
        "    \"name\":\"Alice\",\n",
        "    \"age\":30\n",
        "}\n",
        "\n",
        "print(employee.keys())\n",
        "print(employee.values())\n",
        "\n",
        "employee[\"age\"]=35\n",
        "print(employee)"
      ],
      "metadata": {
        "colab": {
          "base_uri": "https://localhost:8080/"
        },
        "id": "u3dJwcPN4EeC",
        "outputId": "4f10e3a6-10b1-4c0d-9019-bcf7d518910a"
      },
      "execution_count": 14,
      "outputs": [
        {
          "output_type": "stream",
          "name": "stdout",
          "text": [
            "dict_keys(['name', 'age'])\n",
            "dict_values(['Alice', 30])\n",
            "{'name': 'Alice', 'age': 35}\n"
          ]
        }
      ]
    },
    {
      "cell_type": "markdown",
      "source": [
        "Question: Add a new key-value pair to the dictionary fruits, where the key is \"orange\" and the value is 3.\n",
        "Expected Input: fruits = {\"apple\": 5, \"banana\": 7}\n",
        "Expected Output: {\"apple\": 5, \"banana\": 7, \"orange\": 3}"
      ],
      "metadata": {
        "id": "uxEFNufj45-h"
      }
    },
    {
      "cell_type": "code",
      "source": [
        "fruits ={\n",
        "    \"apple\":5,\n",
        "    \"banana\":7\n",
        "    }\n",
        "print(fruits)\n",
        "fruits[\"orange\"]=3\n",
        "print(fruits)"
      ],
      "metadata": {
        "colab": {
          "base_uri": "https://localhost:8080/"
        },
        "id": "9AnyEsXS47kB",
        "outputId": "9daac707-fa20-4463-b2ad-8a90ac8f6a94"
      },
      "execution_count": 16,
      "outputs": [
        {
          "output_type": "stream",
          "name": "stdout",
          "text": [
            "{'apple': 5, 'banana': 7}\n",
            "{'apple': 5, 'banana': 7, 'orange': 3}\n"
          ]
        }
      ]
    },
    {
      "cell_type": "markdown",
      "source": [
        "Question: Given the dictionary inventory, remove the key \"sugar\" and its associated value from the dictionary.\n",
        "Expected Input: inventory = {\"apple\": 10, \"banana\": 15, \"sugar\": 2}\n",
        "Expected Output: {\"apple\": 10, \"banana\": 15}"
      ],
      "metadata": {
        "id": "YaglfHpQ5Zar"
      }
    },
    {
      "cell_type": "code",
      "source": [
        "inventory = {\n",
        "    \"apple\":10,\n",
        "    \"banana\":15,\n",
        "    \"sugar\":2\n",
        "}\n",
        "\n",
        "print(inventory)\n",
        "\n",
        "inventory.pop(\"sugar\")\n",
        "print(inventory)"
      ],
      "metadata": {
        "colab": {
          "base_uri": "https://localhost:8080/"
        },
        "id": "cn08p8fb5b4H",
        "outputId": "6cd4b407-36ac-440f-97f7-e7bdbdedf68a"
      },
      "execution_count": 18,
      "outputs": [
        {
          "output_type": "stream",
          "name": "stdout",
          "text": [
            "{'apple': 10, 'banana': 15, 'sugar': 2}\n",
            "{'apple': 10, 'banana': 15}\n"
          ]
        }
      ]
    },
    {
      "cell_type": "markdown",
      "source": [
        "Question: Create a function called add_stock that takes a dictionary stock and an item item_name (string) as input and adds 1 to the value of the corresponding key in the dictionary. Return the modified dictionary.\n",
        "Expected Input: stock = {\"apple\": 10, \"banana\": 15}, item_name = \"banana\"\n",
        "Expected Output: {\"apple\": 10, \"banana\": 16}"
      ],
      "metadata": {
        "id": "8ge-WQoq5tY4"
      }
    },
    {
      "cell_type": "code",
      "source": [
        "stock = {\"apple\":10,\"banana\":15}\n",
        "item_name = \"banana\"\n",
        "output = stock[item_name]+1\n",
        "print(output)"
      ],
      "metadata": {
        "colab": {
          "base_uri": "https://localhost:8080/"
        },
        "id": "UzMtDux65xpH",
        "outputId": "3195735f-e09c-4452-a784-4b7ebdec3e76"
      },
      "execution_count": 20,
      "outputs": [
        {
          "output_type": "stream",
          "name": "stdout",
          "text": [
            "16\n"
          ]
        }
      ]
    },
    {
      "cell_type": "markdown",
      "source": [
        "Question: Given the dictionary scores, check if the key \"Alice\" exists. If it exists, print the associated value; otherwise, print \"Key not found.\"\n",
        "Expected Input: scores = {\"Bob\": 85, \"Charlie\": 90, \"Alice\": 78}\n",
        "Expected Output: 78"
      ],
      "metadata": {
        "id": "7C2VZby06QlE"
      }
    },
    {
      "cell_type": "code",
      "source": [
        "scores = {\n",
        "    \"bob\":85,\n",
        "    \"charlie\":90,\n",
        "    \"alice\":78\n",
        "}\n",
        "\n",
        "if \"alice\" in scores:\n",
        "  print(scores[\"alice\"])\n",
        "else:\n",
        "  print(\"key not found\")"
      ],
      "metadata": {
        "colab": {
          "base_uri": "https://localhost:8080/"
        },
        "id": "V4rcM3kp6UNd",
        "outputId": "812a2bbd-3996-4c39-ff89-a20be54551ab"
      },
      "execution_count": 21,
      "outputs": [
        {
          "output_type": "stream",
          "name": "stdout",
          "text": [
            "78\n"
          ]
        }
      ]
    },
    {
      "cell_type": "markdown",
      "source": [
        "Question: Write a function called count_vowels that takes a string text as input and returns a dictionary containing the count of each vowel (a, e, i, o, u) in the text. Ignore case sensitivity.\n",
        "Expected Input: text = \"Hello, World!\"\n",
        "Expected Output: {\"a\": 0, \"e\": 1, \"i\": 0, \"o\": 2, \"u\": 0}"
      ],
      "metadata": {
        "id": "BF7jVk_e6oyP"
      }
    },
    {
      "cell_type": "code",
      "source": [
        "def count_vowels(text):\n",
        "    # Initialize a dictionary to store vowel counts\n",
        "    vowels = {'a': 0, 'e': 0, 'i': 0, 'o': 0, 'u': 0}\n",
        "\n",
        "    # Convert the text to lowercase to ignore case sensitivity\n",
        "    text = text.lower()\n",
        "\n",
        "    # Iterate through each character in the text\n",
        "    for char in text:\n",
        "        if char in vowels:\n",
        "            vowels[char] += 1\n",
        "\n",
        "    return vowels\n",
        "\n",
        "# Input text\n",
        "text = \"Hello, World!\"\n",
        "\n",
        "# Get the count of vowels\n",
        "result = count_vowels(text)\n",
        "\n",
        "# Print the result\n",
        "print(result)\n"
      ],
      "metadata": {
        "colab": {
          "base_uri": "https://localhost:8080/"
        },
        "id": "yqnuTHoL7ai6",
        "outputId": "332ebdd1-b826-4063-c97a-64060e3fc7ae"
      },
      "execution_count": 23,
      "outputs": [
        {
          "output_type": "stream",
          "name": "stdout",
          "text": [
            "{'a': 0, 'e': 1, 'i': 0, 'o': 2, 'u': 0}\n"
          ]
        }
      ]
    },
    {
      "cell_type": "code",
      "source": [],
      "metadata": {
        "id": "kEej2FLd7aOm"
      },
      "execution_count": null,
      "outputs": []
    }
  ]
}