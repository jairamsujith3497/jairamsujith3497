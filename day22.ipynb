{
  "nbformat": 4,
  "nbformat_minor": 0,
  "metadata": {
    "colab": {
      "provenance": [],
      "authorship_tag": "ABX9TyNRGIeP293pNFPkWoNvwu4U",
      "include_colab_link": true
    },
    "kernelspec": {
      "name": "python3",
      "display_name": "Python 3"
    },
    "language_info": {
      "name": "python"
    }
  },
  "cells": [
    {
      "cell_type": "markdown",
      "metadata": {
        "id": "view-in-github",
        "colab_type": "text"
      },
      "source": [
        "<a href=\"https://colab.research.google.com/github/jairamsujith3497/jairamsujith3497/blob/main/day22.ipynb\" target=\"_parent\"><img src=\"https://colab.research.google.com/assets/colab-badge.svg\" alt=\"Open In Colab\"/></a>"
      ]
    },
    {
      "cell_type": "code",
      "execution_count": 5,
      "metadata": {
        "colab": {
          "base_uri": "https://localhost:8080/"
        },
        "id": "VScurHC9sXuH",
        "outputId": "e859b532-5475-426d-8a2b-eb3c9088363d"
      },
      "outputs": [
        {
          "output_type": "stream",
          "name": "stdout",
          "text": [
            "{1, 2, 3, 4, 5, 6}\n",
            "{3, 4}\n",
            "{1, 2}\n",
            "{1, 2, 5, 6}\n"
          ]
        }
      ],
      "source": [
        "set1 = {1,2,3,4}\n",
        "set2 = {3,4,5,6}\n",
        "union_set = set1.union(set2)\n",
        "print(union_set)\n",
        "intersection_set = set1.intersection(set2)\n",
        "print(intersection_set)\n",
        "difference_set = set1.difference(set2)\n",
        "print(difference_set)\n",
        "symmentric_difference_set = set1.symmetric_difference(set2)\n",
        "print(symmentric_difference_set)"
      ]
    },
    {
      "cell_type": "markdown",
      "source": [
        "memebership test"
      ],
      "metadata": {
        "id": "xcP_FtX1tlN9"
      }
    },
    {
      "cell_type": "code",
      "source": [
        "my_set = {1,2,3,4,5}\n",
        "print(3 in my_set)\n",
        "print(6 in my_set)"
      ],
      "metadata": {
        "colab": {
          "base_uri": "https://localhost:8080/"
        },
        "id": "519MWw5qtsxv",
        "outputId": "c496104a-eed7-41ed-e805-ff131a0116b0"
      },
      "execution_count": 6,
      "outputs": [
        {
          "output_type": "stream",
          "name": "stdout",
          "text": [
            "True\n",
            "False\n"
          ]
        }
      ]
    },
    {
      "cell_type": "markdown",
      "source": [
        "Questions to practice"
      ],
      "metadata": {
        "id": "Yy2B_zvYt-7t"
      }
    },
    {
      "cell_type": "markdown",
      "source": [
        "Question 1: Symmetric Difference between two sets\n",
        "Expected Input: Set A: {1, 2, 3}, Set B: {3, 4, 5}\n",
        "Expected Output: {1, 2, 4, 5}"
      ],
      "metadata": {
        "id": "d0F0mqBqukFT"
      }
    },
    {
      "cell_type": "code",
      "source": [
        "setA = {1,2,3}\n",
        "setB = {3,4,5}\n",
        "# Use symmetric_difference() instead of symmentric_set()\n",
        "symmentric_set = setA.symmetric_difference(setB)\n",
        "print(symmentric_set)"
      ],
      "metadata": {
        "colab": {
          "base_uri": "https://localhost:8080/"
        },
        "id": "UqWNJWhjvEC1",
        "outputId": "7c51a0c3-1db5-4da5-a8a1-0657ed930a47"
      },
      "execution_count": 8,
      "outputs": [
        {
          "output_type": "stream",
          "name": "stdout",
          "text": [
            "{1, 2, 4, 5}\n"
          ]
        }
      ]
    },
    {
      "cell_type": "markdown",
      "source": [
        "Question 2: Checking membership in a set\n",
        "Expected Input: Set: {1, 2, 3}, Element to check: 2\n",
        "Expected Output: True"
      ],
      "metadata": {
        "id": "mvpBzf3vvNjL"
      }
    },
    {
      "cell_type": "code",
      "source": [
        "Set = {1,2,3}\n",
        "if 2 in Set:\n",
        "  print(True)\n",
        "else:\n",
        "  print(False)"
      ],
      "metadata": {
        "colab": {
          "base_uri": "https://localhost:8080/"
        },
        "id": "ugTFGcd8vOWV",
        "outputId": "6da97b7f-c8a6-4127-828b-8337669e28db"
      },
      "execution_count": 9,
      "outputs": [
        {
          "output_type": "stream",
          "name": "stdout",
          "text": [
            "True\n"
          ]
        }
      ]
    },
    {
      "cell_type": "markdown",
      "source": [
        "Question 3: Union of two sets\n",
        "Expected Input: Set A: {1, 2, 3}, Set B: {3, 4, 5}\n",
        "Expected Output: {1, 2, 3, 4, 5}"
      ],
      "metadata": {
        "id": "kQ8WYuuPvubP"
      }
    },
    {
      "cell_type": "code",
      "source": [
        "SetA = {1,2,3}\n",
        "SetB = {3,4,5}\n",
        "union_Set = SetA.union(SetB)\n",
        "print(union_Set)"
      ],
      "metadata": {
        "colab": {
          "base_uri": "https://localhost:8080/"
        },
        "id": "YIMnzN89vvOy",
        "outputId": "bef3e728-a055-4708-bbbb-847c14bcbea9"
      },
      "execution_count": 10,
      "outputs": [
        {
          "output_type": "stream",
          "name": "stdout",
          "text": [
            "{1, 2, 3, 4, 5}\n"
          ]
        }
      ]
    },
    {
      "cell_type": "markdown",
      "source": [
        "Question 4: Intersection of two sets\n",
        "Expected Input: Set A: {1, 2, 3}, Set B: {3, 4, 5}\n",
        "Expected Output: {3}"
      ],
      "metadata": {
        "id": "c4Pe91-3wW90"
      }
    },
    {
      "cell_type": "code",
      "source": [
        "SetA = {1,2,3}\n",
        "SetB = {3,4,5}\n",
        "intersection_Set = SetA.intersection(SetB)\n",
        "print(intersection_Set)"
      ],
      "metadata": {
        "colab": {
          "base_uri": "https://localhost:8080/"
        },
        "id": "FyobL9TxwYmZ",
        "outputId": "a63bbb7e-1187-4c0e-f8f4-c418fb896f84"
      },
      "execution_count": 11,
      "outputs": [
        {
          "output_type": "stream",
          "name": "stdout",
          "text": [
            "{3}\n"
          ]
        }
      ]
    },
    {
      "cell_type": "markdown",
      "source": [
        "Question 5: Difference between two sets\n",
        "Expected Input: Set A: {1, 2, 3, 4}, Set B: {3, 4, 5}\n",
        "Expected Output: {1, 2}"
      ],
      "metadata": {
        "id": "E7QMnnzzwlPc"
      }
    },
    {
      "cell_type": "code",
      "source": [
        "SetA = {1,2,3,4}\n",
        "SetB = {3,4,5}\n",
        "difference_Set = SetA.difference(SetB)\n",
        "print(difference_Set)"
      ],
      "metadata": {
        "colab": {
          "base_uri": "https://localhost:8080/"
        },
        "id": "UcbMYVXiwsBf",
        "outputId": "bbbfaf60-e0e1-4d24-fad1-19314fddd653"
      },
      "execution_count": 12,
      "outputs": [
        {
          "output_type": "stream",
          "name": "stdout",
          "text": [
            "{1, 2}\n"
          ]
        }
      ]
    },
    {
      "cell_type": "markdown",
      "source": [
        "Question 6: Removing duplicate elements from a list using a set\n",
        "Expected Input: List: [1, 2, 2, 3, 4, 4, 5]\n",
        "Expected Output: [1, 2, 3, 4, 5]"
      ],
      "metadata": {
        "id": "8BGo6SZNw5x9"
      }
    },
    {
      "cell_type": "code",
      "source": [
        "List = [1,2,2,3,4,4,5]\n",
        "con_set = set(List)\n",
        "print(con_set)"
      ],
      "metadata": {
        "colab": {
          "base_uri": "https://localhost:8080/"
        },
        "id": "JxmfZvf6w84L",
        "outputId": "ccf6ae9a-50ca-43e1-e2aa-4cfbf69c9bf3"
      },
      "execution_count": 14,
      "outputs": [
        {
          "output_type": "stream",
          "name": "stdout",
          "text": [
            "{1, 2, 3, 4, 5}\n"
          ]
        }
      ]
    },
    {
      "cell_type": "markdown",
      "source": [
        "Question 7: Finding the length of a set\n",
        "Expected Input: Set: {1, 2, 3, 4, 5}\n",
        "Expected Output: 5"
      ],
      "metadata": {
        "id": "zYVbBUqm06XD"
      }
    },
    {
      "cell_type": "code",
      "source": [
        "Set = {1,2,3,4,5}\n",
        "length_set = len(Set)\n",
        "print(length_set)"
      ],
      "metadata": {
        "colab": {
          "base_uri": "https://localhost:8080/"
        },
        "id": "y72lkv2c098h",
        "outputId": "d73c23f5-5c89-4e2d-ad96-dc37d13be525"
      },
      "execution_count": 17,
      "outputs": [
        {
          "output_type": "stream",
          "name": "stdout",
          "text": [
            "5\n"
          ]
        }
      ]
    },
    {
      "cell_type": "markdown",
      "source": [
        "Question 8: Checking if one set is a subset of another\n",
        "Expected Input: Set A: {1, 2, 3}, Set B: {1, 2, 3, 4, 5}\n",
        "Expected Output: True"
      ],
      "metadata": {
        "id": "cx-NcIJ71o5E"
      }
    },
    {
      "cell_type": "code",
      "source": [
        "SetA = {1,2,3}\n",
        "SetB = {1,2,3,4,5}\n",
        "if SetA.issubset(SetB):\n",
        "  print(True)\n",
        "else:\n",
        "  print(False)"
      ],
      "metadata": {
        "colab": {
          "base_uri": "https://localhost:8080/"
        },
        "id": "VkXgqaXk1snJ",
        "outputId": "dd410a1d-bc32-4237-fc62-5e4e1398666a"
      },
      "execution_count": 18,
      "outputs": [
        {
          "output_type": "stream",
          "name": "stdout",
          "text": [
            "True\n"
          ]
        }
      ]
    },
    {
      "cell_type": "markdown",
      "source": [
        "Question 9: Checking if two sets are disjoint\n",
        "Expected Input: Set A: {1, 2, 3}, Set B: {4, 5, 6}\n",
        "Expected Output: True"
      ],
      "metadata": {
        "id": "uQZA_TKE2Oyc"
      }
    },
    {
      "cell_type": "code",
      "source": [
        "SetA = {1,2,3}\n",
        "SetB = {4,5,6}\n",
        "if SetA.isdisjoint(SetB):\n",
        "  print(True)\n",
        "else:\n",
        "  print(False)"
      ],
      "metadata": {
        "colab": {
          "base_uri": "https://localhost:8080/"
        },
        "id": "I9w-LIMm2PuH",
        "outputId": "f1b3c57a-2810-4512-d3ad-d02f237a0a91"
      },
      "execution_count": 19,
      "outputs": [
        {
          "output_type": "stream",
          "name": "stdout",
          "text": [
            "True\n"
          ]
        }
      ]
    },
    {
      "cell_type": "markdown",
      "source": [
        "Question 10: Removing all elements from a set\n",
        "Expected Input: Set: {1, 2, 3, 4, 5}\n",
        "Expected Output: An empty set"
      ],
      "metadata": {
        "id": "o4AbyzzS2jcX"
      }
    },
    {
      "cell_type": "code",
      "source": [
        "Set = {1,2,3,4,5}\n",
        "Set.clear()\n",
        "print(Set)"
      ],
      "metadata": {
        "colab": {
          "base_uri": "https://localhost:8080/"
        },
        "id": "x4DUuN5X2kxw",
        "outputId": "b4953c4c-f710-4fbd-f7cf-63108cbe538e"
      },
      "execution_count": 22,
      "outputs": [
        {
          "output_type": "stream",
          "name": "stdout",
          "text": [
            "set()\n"
          ]
        }
      ]
    }
  ]
}