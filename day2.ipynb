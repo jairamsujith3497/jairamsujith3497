{
  "nbformat": 4,
  "nbformat_minor": 0,
  "metadata": {
    "colab": {
      "provenance": [],
      "authorship_tag": "ABX9TyPdxcONBVPfSjWaw4MUHqvJ",
      "include_colab_link": true
    },
    "kernelspec": {
      "name": "python3",
      "display_name": "Python 3"
    },
    "language_info": {
      "name": "python"
    }
  },
  "cells": [
    {
      "cell_type": "markdown",
      "metadata": {
        "id": "view-in-github",
        "colab_type": "text"
      },
      "source": [
        "<a href=\"https://colab.research.google.com/github/jairamsujith3497/jairamsujith3497/blob/main/day2.ipynb\" target=\"_parent\"><img src=\"https://colab.research.google.com/assets/colab-badge.svg\" alt=\"Open In Colab\"/></a>"
      ]
    },
    {
      "cell_type": "markdown",
      "source": [
        "Variables = variables are container they are usally used to store values."
      ],
      "metadata": {
        "id": "eRcxdTsUqY_4"
      }
    },
    {
      "cell_type": "code",
      "source": [
        "a = \"sujith\"\n",
        "print(a)"
      ],
      "metadata": {
        "colab": {
          "base_uri": "https://localhost:8080/"
        },
        "id": "zx4i1nkCqgun",
        "outputId": "37357fa8-12f4-43fb-affd-8317861e16c4"
      },
      "execution_count": 1,
      "outputs": [
        {
          "output_type": "stream",
          "name": "stdout",
          "text": [
            "sujith\n"
          ]
        }
      ]
    },
    {
      "cell_type": "code",
      "source": [
        "a= 'honey'\n",
        "print(a)"
      ],
      "metadata": {
        "colab": {
          "base_uri": "https://localhost:8080/"
        },
        "id": "CHU3eVHjqnyT",
        "outputId": "f2eb368a-c6cd-455b-95cf-e6b06a7a5956"
      },
      "execution_count": 4,
      "outputs": [
        {
          "output_type": "stream",
          "name": "stdout",
          "text": [
            "honey\n"
          ]
        }
      ]
    },
    {
      "cell_type": "markdown",
      "source": [
        "datatypes:\n",
        "1)Integer\n",
        "2)float\n",
        "3)bollean\n",
        "4)string"
      ],
      "metadata": {
        "id": "D0bzaJpxrAFs"
      }
    },
    {
      "cell_type": "code",
      "source": [
        "myinteger= 42\n",
        "print(myinteger)\n"
      ],
      "metadata": {
        "colab": {
          "base_uri": "https://localhost:8080/"
        },
        "id": "V7Jp2jOwrHtN",
        "outputId": "9c4fadb2-1d8e-4e06-d5ac-a87ba46c633b"
      },
      "execution_count": 5,
      "outputs": [
        {
          "output_type": "stream",
          "name": "stdout",
          "text": [
            "42\n"
          ]
        }
      ]
    },
    {
      "cell_type": "code",
      "source": [
        "name = \"sujith\"\n",
        "print(name)"
      ],
      "metadata": {
        "colab": {
          "base_uri": "https://localhost:8080/"
        },
        "id": "TXui571GrMsx",
        "outputId": "2e96fc7f-24cc-4181-f70e-64568e170ad4"
      },
      "execution_count": 6,
      "outputs": [
        {
          "output_type": "stream",
          "name": "stdout",
          "text": [
            "sujith\n"
          ]
        }
      ]
    },
    {
      "cell_type": "code",
      "source": [
        "float = 3.14\n",
        "print(float)"
      ],
      "metadata": {
        "colab": {
          "base_uri": "https://localhost:8080/"
        },
        "id": "Af4xo6x7rQEc",
        "outputId": "6558b161-a506-4b06-b130-b4ab88ddb5f9"
      },
      "execution_count": 7,
      "outputs": [
        {
          "output_type": "stream",
          "name": "stdout",
          "text": [
            "3.14\n"
          ]
        }
      ]
    },
    {
      "cell_type": "code",
      "source": [
        "is_true = True\n",
        "is_false = False\n",
        "print(is_true)\n",
        "print(is_false)"
      ],
      "metadata": {
        "colab": {
          "base_uri": "https://localhost:8080/"
        },
        "id": "-VtFD_q_rVu3",
        "outputId": "2893b1c5-ca96-4155-a9d6-20c6d6f3c86d"
      },
      "execution_count": 8,
      "outputs": [
        {
          "output_type": "stream",
          "name": "stdout",
          "text": [
            "True\n",
            "False\n"
          ]
        }
      ]
    },
    {
      "cell_type": "markdown",
      "source": [
        "1)1. Declare two variables `a` and `b`, assign integer values to them, and print their sum.\n",
        "    - **Expected Output:** The sum of `a` and `b`."
      ],
      "metadata": {
        "id": "Rc0Bd95Fri6Y"
      }
    },
    {
      "cell_type": "code",
      "source": [
        "a = int(input(\"enter the number :\"))\n",
        "b = int(input(\"enter the number :\"))\n",
        "sum = (a+b)\n",
        "print(sum)"
      ],
      "metadata": {
        "colab": {
          "base_uri": "https://localhost:8080/"
        },
        "id": "LYsKghIErkNN",
        "outputId": "39b3d01a-67b5-42db-8fa5-7fb7d763714f"
      },
      "execution_count": 9,
      "outputs": [
        {
          "output_type": "stream",
          "name": "stdout",
          "text": [
            "enter the number :10\n",
            "enter the number :20\n",
            "30\n"
          ]
        }
      ]
    },
    {
      "cell_type": "markdown",
      "source": [
        "2. Create a variable `name` and assign your name to it. Print a greeting message using your name.\n",
        "    - **Expected Output:** Greeting message with your name, e.g., \"Hello, John!\""
      ],
      "metadata": {
        "id": "8JekMiCGsFbR"
      }
    },
    {
      "cell_type": "code",
      "source": [
        "name = \"sujith!\"\n",
        "print(\"hello ,\" +name)"
      ],
      "metadata": {
        "colab": {
          "base_uri": "https://localhost:8080/"
        },
        "id": "rhwf771ZsGal",
        "outputId": "fe458704-040a-479f-ea30-eee7ac2a43f3"
      },
      "execution_count": 12,
      "outputs": [
        {
          "output_type": "stream",
          "name": "stdout",
          "text": [
            "hello ,sujith!\n"
          ]
        }
      ]
    },
    {
      "cell_type": "markdown",
      "source": [
        "3. Define a variable `pi` and assign the value of π (pi) to it. Print the value of `pi`.\n",
        "    - **Expected Output:** The value of π (pi), e.g., 3.14159.\n",
        "4."
      ],
      "metadata": {
        "id": "K2eKAI7isXEe"
      }
    },
    {
      "cell_type": "code",
      "source": [
        "pi = 3.14159\n",
        "print(pi)"
      ],
      "metadata": {
        "colab": {
          "base_uri": "https://localhost:8080/"
        },
        "id": "VLOaeJr5sX6I",
        "outputId": "916bb4f1-c120-47e6-df11-cb520ae86bf6"
      },
      "execution_count": 14,
      "outputs": [
        {
          "output_type": "stream",
          "name": "stdout",
          "text": [
            "3.14159\n"
          ]
        }
      ]
    },
    {
      "cell_type": "markdown",
      "source": [
        "4. Define a variable `is_raining` and ask the user to input either \"True\" or \"False\" (as a string). Convert the input to a boolean and print its type.\n",
        "    - **Expected Input:** \"True\" or \"False\"\n",
        "    - **Expected Output:** The data type of the converted boolean."
      ],
      "metadata": {
        "id": "tjCt-HuCsvou"
      }
    },
    {
      "cell_type": "code",
      "source": [
        "is_raining = bool(input(\"enter the value :\"))\n",
        "print(type(is_raining))\n",
        "print(is_raining)"
      ],
      "metadata": {
        "colab": {
          "base_uri": "https://localhost:8080/"
        },
        "id": "J3wAMmHrswfm",
        "outputId": "f6db6f1f-924d-430d-8f1c-54e33259711c"
      },
      "execution_count": 16,
      "outputs": [
        {
          "output_type": "stream",
          "name": "stdout",
          "text": [
            "enter the value :true\n",
            "<class 'bool'>\n",
            "True\n"
          ]
        }
      ]
    },
    {
      "cell_type": "markdown",
      "source": [
        "5. Create a string variable `sentence` containing any sentence of your choice. Ask the user to input a number, convert it to an integer, and print the sentence repeated that number of times.\n",
        "    - **Expected Input:** A number (e.g., \"3\")\n",
        "    - **Expected Output:** The sentence repeated the specified number of times."
      ],
      "metadata": {
        "id": "DxsJn8dGugBy"
      }
    },
    {
      "cell_type": "code",
      "source": [
        "sentence = \"i love u sujith\"\n",
        "num_times =int(input(\"enter the number :\"))\n",
        "for i in range(num_times):\n",
        "  print(sentence)\n"
      ],
      "metadata": {
        "colab": {
          "base_uri": "https://localhost:8080/"
        },
        "id": "L0pWzgTeuhEL",
        "outputId": "f26f53e4-3db9-417c-ab6c-e516f906c4b6"
      },
      "execution_count": 17,
      "outputs": [
        {
          "output_type": "stream",
          "name": "stdout",
          "text": [
            "enter the number :5\n",
            "i love u sujith\n",
            "i love u sujith\n",
            "i love u sujith\n",
            "i love u sujith\n",
            "i love u sujith\n"
          ]
        }
      ]
    },
    {
      "cell_type": "markdown",
      "source": [
        "7. Define a variable `value` and assign any numerical value to it. Ask the user to input a new value. Update the variable `value` with the new input and print the updated value.\n",
        "- **Expected Input:** A numerical value (e.g., \"42\")\n",
        "- **Expected Output:** The updated value of the variable.\n",
        "\n",
        "These questions cover a range of scenarios related to variables and data types in Python. You can use input() function to get user input for interactive questions.\n",
        "\n",
        "# ###"
      ],
      "metadata": {
        "id": "49Hn4h9nvS_o"
      }
    },
    {
      "cell_type": "code",
      "source": [
        "value = 42\n",
        "print(value)\n",
        "value = int(input(\"enter the number :\"))\n",
        "print(value)"
      ],
      "metadata": {
        "colab": {
          "base_uri": "https://localhost:8080/"
        },
        "id": "7alUvgNavUVm",
        "outputId": "02af9e65-7b68-46c7-a9ba-82e0da8fcfb9"
      },
      "execution_count": 19,
      "outputs": [
        {
          "output_type": "stream",
          "name": "stdout",
          "text": [
            "42\n",
            "enter the number :34\n",
            "34\n"
          ]
        }
      ]
    },
    {
      "cell_type": "markdown",
      "source": [
        "6. Given two variables `x` and `y`, perform the following operations and print the results:\n",
        "    - Addition of `x` and `y`.\n",
        "    - Subtraction of `y` from `x`.\n",
        "    - Multiplication of `x` and `y`.\n",
        "    - Division of `x` by `y`.\n",
        "    - `x` raised to the power of `y`.\n",
        "    - The remainder when `x` is divided by `y`.\n",
        "    - The floor division of `x` by `y`."
      ],
      "metadata": {
        "id": "lMZ1Bybjv5Tg"
      }
    },
    {
      "cell_type": "code",
      "source": [
        "x = 10\n",
        "y = 20\n",
        "print(x **y)"
      ],
      "metadata": {
        "colab": {
          "base_uri": "https://localhost:8080/"
        },
        "id": "GTbZ8Rtlv46X",
        "outputId": "a93a9fa1-ef55-43a6-d2a2-074987950e4a"
      },
      "execution_count": 20,
      "outputs": [
        {
          "output_type": "stream",
          "name": "stdout",
          "text": [
            "100000000000000000000\n"
          ]
        }
      ]
    },
    {
      "cell_type": "code",
      "source": [
        "print(x/y)"
      ],
      "metadata": {
        "colab": {
          "base_uri": "https://localhost:8080/"
        },
        "id": "r4g8tCM2wEJX",
        "outputId": "8917ac83-e007-4a80-a4da-96b14f0a5229"
      },
      "execution_count": 22,
      "outputs": [
        {
          "output_type": "stream",
          "name": "stdout",
          "text": [
            "0.5\n"
          ]
        }
      ]
    },
    {
      "cell_type": "code",
      "source": [
        "print(y//x)"
      ],
      "metadata": {
        "colab": {
          "base_uri": "https://localhost:8080/"
        },
        "id": "2ixMlU__wS3-",
        "outputId": "9ba8e513-f160-4df2-faaa-251c0e6607b9"
      },
      "execution_count": 24,
      "outputs": [
        {
          "output_type": "stream",
          "name": "stdout",
          "text": [
            "2\n"
          ]
        }
      ]
    }
  ]
}