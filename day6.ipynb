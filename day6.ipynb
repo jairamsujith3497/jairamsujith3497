{
  "nbformat": 4,
  "nbformat_minor": 0,
  "metadata": {
    "colab": {
      "provenance": [],
      "authorship_tag": "ABX9TyOxhmai1B5Veg+nqGMxfIWk",
      "include_colab_link": true
    },
    "kernelspec": {
      "name": "python3",
      "display_name": "Python 3"
    },
    "language_info": {
      "name": "python"
    }
  },
  "cells": [
    {
      "cell_type": "markdown",
      "metadata": {
        "id": "view-in-github",
        "colab_type": "text"
      },
      "source": [
        "<a href=\"https://colab.research.google.com/github/jairamsujith3497/jairamsujith3497/blob/main/day6.ipynb\" target=\"_parent\"><img src=\"https://colab.research.google.com/assets/colab-badge.svg\" alt=\"Open In Colab\"/></a>"
      ]
    },
    {
      "cell_type": "markdown",
      "source": [
        "String Indexing: if we want to remove a word or charcter from a string we use string indexing\n",
        "\n",
        "we have string starting from index value 0 and we want to print a string from reverse we can do it by using string of index -1\n",
        "\n"
      ],
      "metadata": {
        "id": "cH9PR61OBy75"
      }
    },
    {
      "cell_type": "code",
      "execution_count": 1,
      "metadata": {
        "colab": {
          "base_uri": "https://localhost:8080/"
        },
        "id": "wj-1R9wNBi_6",
        "outputId": "980c77b3-a125-47c6-b21e-57644ab6b9c9"
      },
      "outputs": [
        {
          "output_type": "stream",
          "name": "stdout",
          "text": [
            "hello, world\n",
            "h\n"
          ]
        }
      ],
      "source": [
        "my_string = \"hello, world\"\n",
        "print(my_string)\n",
        "firstchar = my_string[0]\n",
        "print(firstchar)"
      ]
    },
    {
      "cell_type": "code",
      "source": [
        "my_string = \"hello,world\"\n",
        "print(my_string)\n",
        "lasrtchar = my_string[-1]\n",
        "print(lasrtchar)"
      ],
      "metadata": {
        "colab": {
          "base_uri": "https://localhost:8080/"
        },
        "id": "Xgfz3DEoCWkc",
        "outputId": "5764d3b0-54a1-45fc-9060-d291698211ee"
      },
      "execution_count": 2,
      "outputs": [
        {
          "output_type": "stream",
          "name": "stdout",
          "text": [
            "hello,world\n",
            "d\n"
          ]
        }
      ]
    },
    {
      "cell_type": "markdown",
      "source": [
        "reverse a string and print"
      ],
      "metadata": {
        "id": "WJ9MOBh5Crhr"
      }
    },
    {
      "cell_type": "code",
      "source": [
        "name = \"sujith\"\n",
        "print(name)\n",
        "firstchar = name[-1]\n",
        "print(firstchar)\n",
        "secchar =  name[-2]\n",
        "print(secchar)\n",
        "thirdchar = name[-3]\n",
        "print(thirdchar)\n",
        "forthchar = name[-4]\n",
        "print(forthchar)\n",
        "fifthchar = name[-5]\n",
        "print(fifthchar)"
      ],
      "metadata": {
        "colab": {
          "base_uri": "https://localhost:8080/"
        },
        "id": "ltBBskBbCuM9",
        "outputId": "b9af9a61-4407-47cd-ee13-42d2e881e498"
      },
      "execution_count": 4,
      "outputs": [
        {
          "output_type": "stream",
          "name": "stdout",
          "text": [
            "sujith\n",
            "h\n",
            "t\n",
            "i\n",
            "j\n",
            "u\n"
          ]
        }
      ]
    },
    {
      "cell_type": "markdown",
      "source": [],
      "metadata": {
        "id": "zxTqXOK7Cqxq"
      }
    },
    {
      "cell_type": "markdown",
      "source": [
        "string slicing : if we want to remove paticular part of a string using : is called as string slicing"
      ],
      "metadata": {
        "id": "5x-WrFwTDaWu"
      }
    },
    {
      "cell_type": "code",
      "source": [
        "name =\"jairam sujith\"\n",
        "print(name)\n",
        "strslicing = name[0:7]\n",
        "print(strslicing)"
      ],
      "metadata": {
        "colab": {
          "base_uri": "https://localhost:8080/"
        },
        "id": "FFWML7pRDifI",
        "outputId": "a21e2f69-7a75-4f98-c8f4-a8e9d7dd2472"
      },
      "execution_count": 5,
      "outputs": [
        {
          "output_type": "stream",
          "name": "stdout",
          "text": [
            "jairam sujith\n",
            "jairam \n"
          ]
        }
      ]
    },
    {
      "cell_type": "markdown",
      "source": [
        "### Questions to practice (Day 6):\n",
        "\n",
        "1. Example: Get the first character of the sentence.\n",
        "Input: \"The sun is shining.\"\n",
        "Output: \"T\""
      ],
      "metadata": {
        "id": "hUNptH6NDyp4"
      }
    },
    {
      "cell_type": "code",
      "source": [
        "value = \"The sun is shining.\"\n",
        "print(value)\n",
        "firstchar = value[0]\n",
        "print(firstchar)"
      ],
      "metadata": {
        "colab": {
          "base_uri": "https://localhost:8080/"
        },
        "id": "vX99NMpvDzry",
        "outputId": "69b15acc-b786-46d8-c84e-d24f0e2f1ab9"
      },
      "execution_count": 6,
      "outputs": [
        {
          "output_type": "stream",
          "name": "stdout",
          "text": [
            "The sun is shining.\n",
            "T\n"
          ]
        }
      ]
    },
    {
      "cell_type": "markdown",
      "source": [
        "2.Example: Get the last character of the sentence.\n",
        "Input: \"She sells seashells by the seashore.\"\n",
        "Output: \".\""
      ],
      "metadata": {
        "id": "drqsOIeAEARe"
      }
    },
    {
      "cell_type": "code",
      "source": [
        "value = \"She sells seashells by the seashore.\"\n",
        "print(value)\n",
        "lastchar = value[-1]\n",
        "print(lastchar)"
      ],
      "metadata": {
        "colab": {
          "base_uri": "https://localhost:8080/"
        },
        "id": "JLE8iR5BEHl9",
        "outputId": "05bf544e-d10e-41bf-a579-a74bbba3405d"
      },
      "execution_count": 7,
      "outputs": [
        {
          "output_type": "stream",
          "name": "stdout",
          "text": [
            "She sells seashells by the seashore.\n",
            ".\n"
          ]
        }
      ]
    },
    {
      "cell_type": "markdown",
      "source": [
        "3.Example: Get the character at index 3.\n",
        "Input: \"I love Python!\"\n",
        "Output: \"o\""
      ],
      "metadata": {
        "id": "XPUuKg0-ETkX"
      }
    },
    {
      "cell_type": "code",
      "source": [
        "value = \"i love python\"\n",
        "print(value)\n",
        "indexchar = value[3]\n",
        "print(indexchar)"
      ],
      "metadata": {
        "colab": {
          "base_uri": "https://localhost:8080/"
        },
        "id": "KI1-67BcEX70",
        "outputId": "b0d042cf-3b8a-4390-f9af-eda2f6897a66"
      },
      "execution_count": 8,
      "outputs": [
        {
          "output_type": "stream",
          "name": "stdout",
          "text": [
            "i love python\n",
            "o\n"
          ]
        }
      ]
    },
    {
      "cell_type": "markdown",
      "source": [
        "4.Example: Get the second last character of the sentence.\n",
        "Input: \"Life is beautiful.\"\n",
        "Output: \"l\""
      ],
      "metadata": {
        "id": "dQ1Sm3ReEjjs"
      }
    },
    {
      "cell_type": "code",
      "source": [
        "value = \"life is beutiful.\"\n",
        "print(value)\n",
        "secoundlastchar = value[-2]\n",
        "print(secoundlastchar)"
      ],
      "metadata": {
        "colab": {
          "base_uri": "https://localhost:8080/"
        },
        "id": "upeSoemCEp-H",
        "outputId": "633500cc-0362-4409-f68a-8c2115428f24"
      },
      "execution_count": 9,
      "outputs": [
        {
          "output_type": "stream",
          "name": "stdout",
          "text": [
            "life is beutiful.\n",
            "l\n"
          ]
        }
      ]
    },
    {
      "cell_type": "markdown",
      "source": [
        "5.Example: Get a substring from index 7 to index 14 (exclusive).\n",
        "Input: \"Welcome to Python programming.\"\n",
        "Output: \" to Pyt\""
      ],
      "metadata": {
        "id": "jl55w3efE2FV"
      }
    },
    {
      "cell_type": "markdown",
      "source": [],
      "metadata": {
        "id": "OST37n7mE2B-"
      }
    },
    {
      "cell_type": "code",
      "source": [
        "value = \"welcome to python programming.\"\n",
        "print(value)\n",
        "valslice = value[7:15]\n",
        "print(valslice)"
      ],
      "metadata": {
        "colab": {
          "base_uri": "https://localhost:8080/"
        },
        "id": "T9JYjyZPE6tN",
        "outputId": "48577d0c-9018-4656-9026-f60c374593de"
      },
      "execution_count": 10,
      "outputs": [
        {
          "output_type": "stream",
          "name": "stdout",
          "text": [
            "welcome to python programming.\n",
            " to pyth\n"
          ]
        }
      ]
    },
    {
      "cell_type": "markdown",
      "source": [
        "6.Example: Get a substring from index -9 to -3.\n",
        "Input: \"The future is bright.\"\n",
        "Output: \"s brig\""
      ],
      "metadata": {
        "id": "CUEJH2eRFQp4"
      }
    },
    {
      "cell_type": "code",
      "source": [
        "value = \"the future is bright.\"\n",
        "print(value)\n",
        "substring = value[-9:-3]\n",
        "print(substring)"
      ],
      "metadata": {
        "colab": {
          "base_uri": "https://localhost:8080/"
        },
        "id": "moDHVY25FTBi",
        "outputId": "33eb1d97-0f5f-44f0-c9ef-98b3b84c6ab3"
      },
      "execution_count": 12,
      "outputs": [
        {
          "output_type": "stream",
          "name": "stdout",
          "text": [
            "the future is bright.\n",
            "s brig\n"
          ]
        }
      ]
    },
    {
      "cell_type": "markdown",
      "source": [
        "7.Example: Get the first six characters of the sentence.\n",
        "Input: \"Good things take time.\"\n",
        "Output: \"Good t\""
      ],
      "metadata": {
        "id": "Ir6PRJqRFhpZ"
      }
    },
    {
      "cell_type": "code",
      "source": [
        "value = \"good things take time.\"\n",
        "print(value)\n",
        "valslice = value[0:7]\n",
        "print(valslice)"
      ],
      "metadata": {
        "colab": {
          "base_uri": "https://localhost:8080/"
        },
        "id": "Gs8aa_PoFl1Z",
        "outputId": "d89dc982-ac95-493b-e67b-71086d9e4344"
      },
      "execution_count": 13,
      "outputs": [
        {
          "output_type": "stream",
          "name": "stdout",
          "text": [
            "good things take time.\n",
            "good th\n"
          ]
        }
      ]
    },
    {
      "cell_type": "markdown",
      "source": [
        "8.Example: Reverse the sentence using slicing.\n",
        "Input: \"Python is awesome!\"\n",
        "Output: \"!emosewa si nohtyP\"\n",
        "9."
      ],
      "metadata": {
        "id": "wcM0qg8mF45b"
      }
    },
    {
      "cell_type": "code",
      "source": [
        "sentence = \"Python is awesome!\"\n",
        "reversed_sentence = sentence[::-1]\n",
        "print(reversed_sentence)"
      ],
      "metadata": {
        "colab": {
          "base_uri": "https://localhost:8080/"
        },
        "id": "JUtJOhvvGxwO",
        "outputId": "a69dd9ed-7a6a-4647-c916-203e8663e29e"
      },
      "execution_count": 23,
      "outputs": [
        {
          "output_type": "stream",
          "name": "stdout",
          "text": [
            "!emosewa si nohtyP\n"
          ]
        }
      ]
    },
    {
      "cell_type": "markdown",
      "source": [
        "Example: Get the length of the sentence using indexing.\n",
        "Input: \"Coding is fun!\"\n",
        "Output: 14"
      ],
      "metadata": {
        "id": "F5vNP0hbJX4q"
      }
    },
    {
      "cell_type": "code",
      "source": [
        "value = \"coding is fun!\"\n",
        "print(len(value))"
      ],
      "metadata": {
        "colab": {
          "base_uri": "https://localhost:8080/"
        },
        "id": "UJ_H3P2FJZb4",
        "outputId": "0af279f2-1cb4-4593-e5d1-56a6a95f7069"
      },
      "execution_count": 24,
      "outputs": [
        {
          "output_type": "stream",
          "name": "stdout",
          "text": [
            "14\n"
          ]
        }
      ]
    }
  ]
}