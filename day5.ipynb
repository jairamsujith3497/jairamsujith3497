{
  "nbformat": 4,
  "nbformat_minor": 0,
  "metadata": {
    "colab": {
      "provenance": [],
      "authorship_tag": "ABX9TyO77bxpvr9F06RxcqWR5w9l",
      "include_colab_link": true
    },
    "kernelspec": {
      "name": "python3",
      "display_name": "Python 3"
    },
    "language_info": {
      "name": "python"
    }
  },
  "cells": [
    {
      "cell_type": "markdown",
      "metadata": {
        "id": "view-in-github",
        "colab_type": "text"
      },
      "source": [
        "<a href=\"https://colab.research.google.com/github/jairamsujith3497/jairamsujith3497/blob/main/day5.ipynb\" target=\"_parent\"><img src=\"https://colab.research.google.com/assets/colab-badge.svg\" alt=\"Open In Colab\"/></a>"
      ]
    },
    {
      "cell_type": "markdown",
      "source": [
        "**ype Conversion**\n",
        "\n",
        "Type conversion python la oka data type nunchi inko data type laki convert cheyyadaniki vaadtam mowa! Idi manam python built-in functions vaadi chestham.\n",
        "Example ki int(), float(), str() etc."
      ],
      "metadata": {
        "id": "11DkXdMkS2yk"
      }
    },
    {
      "cell_type": "code",
      "source": [
        "num = \"123\"\n",
        "print(type(num))"
      ],
      "metadata": {
        "colab": {
          "base_uri": "https://localhost:8080/"
        },
        "id": "vwboh67rS5yE",
        "outputId": "c508f6f3-3c6b-4e9b-bfa9-bb93724cce6e"
      },
      "execution_count": 1,
      "outputs": [
        {
          "output_type": "stream",
          "name": "stdout",
          "text": [
            "<class 'str'>\n"
          ]
        }
      ]
    },
    {
      "cell_type": "code",
      "source": [
        "num_int = int(num)\n",
        "print(type(num_int))"
      ],
      "metadata": {
        "colab": {
          "base_uri": "https://localhost:8080/"
        },
        "id": "KvOQiquoTDE3",
        "outputId": "778fdeef-51fa-42dc-a599-bf1e2c175814"
      },
      "execution_count": 2,
      "outputs": [
        {
          "output_type": "stream",
          "name": "stdout",
          "text": [
            "<class 'int'>\n"
          ]
        }
      ]
    },
    {
      "cell_type": "code",
      "source": [
        "num = 3.14\n",
        "print(type(num))\n",
        "num_int = int(num)\n",
        "print(type(num_int))"
      ],
      "metadata": {
        "colab": {
          "base_uri": "https://localhost:8080/"
        },
        "id": "KUWdTibaUPek",
        "outputId": "d0709ab0-9c08-4888-b776-3397c6e006a4"
      },
      "execution_count": 4,
      "outputs": [
        {
          "output_type": "stream",
          "name": "stdout",
          "text": [
            "<class 'float'>\n",
            "<class 'int'>\n"
          ]
        }
      ]
    },
    {
      "cell_type": "code",
      "source": [
        "num_int = 123\n",
        "print(type(num_int))\n",
        "print(num_int)\n",
        "num_str = str(num_int)\n",
        "print(type(num_str))\n",
        "print(num_str)"
      ],
      "metadata": {
        "colab": {
          "base_uri": "https://localhost:8080/"
        },
        "id": "VuCSazGLUgSg",
        "outputId": "86866307-b523-4f03-dd5f-7a185430bf37"
      },
      "execution_count": 6,
      "outputs": [
        {
          "output_type": "stream",
          "name": "stdout",
          "text": [
            "<class 'int'>\n",
            "123\n",
            "<class 'str'>\n",
            "123\n"
          ]
        }
      ]
    },
    {
      "cell_type": "markdown",
      "source": [
        "**Questions to practice (Day - 5)**\n",
        "\n",
        "Question 1:\n",
        "Convert the integer 42 to a string.\n",
        "\n",
        "Expected Input:\n",
        "\n",
        "value = 42\n",
        "\n",
        "Expected Output:\n",
        "\n",
        "result = \"42\""
      ],
      "metadata": {
        "id": "8sT7eLU2U-1x"
      }
    },
    {
      "cell_type": "code",
      "source": [
        "a = 42\n",
        "print(a)\n",
        "st = str(a)\n",
        "print(st)\n",
        "print(type(st))"
      ],
      "metadata": {
        "colab": {
          "base_uri": "https://localhost:8080/"
        },
        "id": "UVegG65yU3Ov",
        "outputId": "b3cc5984-95cb-44c2-8752-dac289eee2bf"
      },
      "execution_count": 7,
      "outputs": [
        {
          "output_type": "stream",
          "name": "stdout",
          "text": [
            "42\n",
            "42\n",
            "<class 'str'>\n"
          ]
        }
      ]
    },
    {
      "cell_type": "markdown",
      "source": [
        "Question 2:\n",
        "Convert the string \"123\" to an integer.\n",
        "\n",
        "Expected Input:\n",
        "\n",
        "value = \"123\"\n",
        "\n",
        "Expected Output:\n",
        "\n",
        "result = 123"
      ],
      "metadata": {
        "id": "2V5300q7VSO3"
      }
    },
    {
      "cell_type": "code",
      "source": [
        "value = \"123\"\n",
        "print(type(value))\n",
        "value1 = int(value)\n",
        "print(type(value1))\n",
        "print(value1)"
      ],
      "metadata": {
        "colab": {
          "base_uri": "https://localhost:8080/"
        },
        "id": "Z615GyLzVTVe",
        "outputId": "10455d8a-aa1d-4d34-df07-c131679aca56"
      },
      "execution_count": 8,
      "outputs": [
        {
          "output_type": "stream",
          "name": "stdout",
          "text": [
            "<class 'str'>\n",
            "<class 'int'>\n",
            "123\n"
          ]
        }
      ]
    },
    {
      "cell_type": "markdown",
      "source": [
        "Question 3:\n",
        "Convert the float 3.14 to an integer.\n",
        "\n",
        "Expected Input:\n",
        "\n",
        "value = 3.14\n",
        "\n",
        "Expected Output:\n",
        "\n",
        "result = 3"
      ],
      "metadata": {
        "id": "Jts4cBmgWh-z"
      }
    },
    {
      "cell_type": "code",
      "source": [
        "value = 3.14\n",
        "print(type(value))\n",
        "val = int(value)\n",
        "print(type(val))\n",
        "print(val)"
      ],
      "metadata": {
        "colab": {
          "base_uri": "https://localhost:8080/"
        },
        "id": "Ntk2iXuPWjKE",
        "outputId": "76926272-ec3b-400d-bb67-b16c1240ae1a"
      },
      "execution_count": 9,
      "outputs": [
        {
          "output_type": "stream",
          "name": "stdout",
          "text": [
            "<class 'float'>\n",
            "<class 'int'>\n",
            "3\n"
          ]
        }
      ]
    },
    {
      "cell_type": "markdown",
      "source": [
        "Question 4:\n",
        "Convert the string \"5.5\" to a floating-point number.\n",
        "\n",
        "Expected Input:\n",
        "\n",
        "value = \"5.5\"\n",
        "\n",
        "Expected Output:\n",
        "\n",
        "result = 5.5"
      ],
      "metadata": {
        "id": "3gYmKHUlW5n5"
      }
    },
    {
      "cell_type": "code",
      "source": [
        "value = \"5.5\"\n",
        "print(type(value))\n",
        "print(value)\n",
        "val = float(value)\n",
        "print(val)\n",
        "print(type(val))"
      ],
      "metadata": {
        "colab": {
          "base_uri": "https://localhost:8080/"
        },
        "id": "1XIjqGzRW6br",
        "outputId": "ff696685-8973-45ae-9ea8-bf46a0c8371f"
      },
      "execution_count": 10,
      "outputs": [
        {
          "output_type": "stream",
          "name": "stdout",
          "text": [
            "<class 'str'>\n",
            "5.5\n",
            "5.5\n",
            "<class 'float'>\n"
          ]
        }
      ]
    },
    {
      "cell_type": "markdown",
      "source": [
        "Question 5:\n",
        "Convert the integer 100 to a boolean.\n",
        "\n",
        "Expected Input:\n",
        "\n",
        "value = 100\n",
        "\n",
        "Expected Output:\n",
        "\n",
        "result = True"
      ],
      "metadata": {
        "id": "cZgmmcXSXIYn"
      }
    },
    {
      "cell_type": "code",
      "source": [
        "value = 100\n",
        "print(type(value))\n",
        "print(value)\n",
        "val = bool(value)\n",
        "print(val)\n",
        "print(type(val))"
      ],
      "metadata": {
        "colab": {
          "base_uri": "https://localhost:8080/"
        },
        "id": "uegOGUxZaN-T",
        "outputId": "8f0c9459-0f77-427b-dafa-25f60fc28324"
      },
      "execution_count": 11,
      "outputs": [
        {
          "output_type": "stream",
          "name": "stdout",
          "text": [
            "<class 'int'>\n",
            "100\n",
            "True\n",
            "<class 'bool'>\n"
          ]
        }
      ]
    },
    {
      "cell_type": "markdown",
      "source": [
        "Question 6:\n",
        "Convert the boolean True to an integer.\n",
        "\n",
        "Expected Input:\n",
        "\n",
        "value = True\n",
        "\n",
        "Expected Output:\n",
        "\n",
        "result = 1"
      ],
      "metadata": {
        "id": "e4894S5rah5_"
      }
    },
    {
      "cell_type": "code",
      "source": [
        "value = True\n",
        "print(type(value))\n",
        "print(value)\n",
        "val = int(value)\n",
        "print(val)\n",
        "print(type(val))"
      ],
      "metadata": {
        "colab": {
          "base_uri": "https://localhost:8080/"
        },
        "id": "E_GR2WXxamin",
        "outputId": "b9044bab-8685-46dd-889d-5e9c998a948f"
      },
      "execution_count": 12,
      "outputs": [
        {
          "output_type": "stream",
          "name": "stdout",
          "text": [
            "<class 'bool'>\n",
            "True\n",
            "1\n",
            "<class 'int'>\n"
          ]
        }
      ]
    },
    {
      "cell_type": "markdown",
      "source": [
        "Question 7:\n",
        "Convert the string `\"False\"` to a boolean.\n",
        "\n",
        "Expected Input:\n",
        "\n",
        "value = “False”\n",
        "\n",
        "Expected Output:\n",
        "\n",
        "result = True"
      ],
      "metadata": {
        "id": "PO-rPC1tbDI1"
      }
    },
    {
      "cell_type": "code",
      "source": [
        "value = \"false\"\n",
        "print(value)\n",
        "print(type(value))\n",
        "val = bool(value)\n",
        "print(type(val))\n",
        "print(val)"
      ],
      "metadata": {
        "colab": {
          "base_uri": "https://localhost:8080/"
        },
        "id": "lgSqtn4QbEWs",
        "outputId": "f4569d40-fbcc-4f03-a289-2cd76be76516"
      },
      "execution_count": 13,
      "outputs": [
        {
          "output_type": "stream",
          "name": "stdout",
          "text": [
            "false\n",
            "<class 'str'>\n",
            "<class 'bool'>\n",
            "True\n"
          ]
        }
      ]
    }
  ]
}