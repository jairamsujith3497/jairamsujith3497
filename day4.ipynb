{
  "nbformat": 4,
  "nbformat_minor": 0,
  "metadata": {
    "colab": {
      "provenance": [],
      "authorship_tag": "ABX9TyMHD2pEMdqkzNGXMxL9+Mvf",
      "include_colab_link": true
    },
    "kernelspec": {
      "name": "python3",
      "display_name": "Python 3"
    },
    "language_info": {
      "name": "python"
    }
  },
  "cells": [
    {
      "cell_type": "markdown",
      "metadata": {
        "id": "view-in-github",
        "colab_type": "text"
      },
      "source": [
        "<a href=\"https://colab.research.google.com/github/jairamsujith3497/jairamsujith3497/blob/main/day4.ipynb\" target=\"_parent\"><img src=\"https://colab.research.google.com/assets/colab-badge.svg\" alt=\"Open In Colab\"/></a>"
      ]
    },
    {
      "cell_type": "markdown",
      "source": [
        "String Concatenation : Combining two string is called as string concatenation\n"
      ],
      "metadata": {
        "id": "B6CjMm1tdcft"
      }
    },
    {
      "cell_type": "code",
      "source": [
        "a = \"sujith\" + \" \" + \"yarram\"\n",
        "print(a)"
      ],
      "metadata": {
        "colab": {
          "base_uri": "https://localhost:8080/"
        },
        "id": "zEpE6T8wdlkq",
        "outputId": "c59475f7-bac5-44d9-cfef-298684bad9af"
      },
      "execution_count": 1,
      "outputs": [
        {
          "output_type": "stream",
          "name": "stdout",
          "text": [
            "sujith yarram\n"
          ]
        }
      ]
    },
    {
      "cell_type": "code",
      "source": [
        "%md\n",
        "#Possible Mistakes\n",
        "\n",
        "Idi only strings ki maatrame vaadtam. Nuv oka string ni oka number ni kalpalevu, ala chesthe error ostundi"
      ],
      "metadata": {
        "id": "NKGkSiUwdttg"
      },
      "execution_count": null,
      "outputs": []
    },
    {
      "cell_type": "code",
      "source": [
        "a = \"hi\" + 10\n",
        "print(a)"
      ],
      "metadata": {
        "colab": {
          "base_uri": "https://localhost:8080/",
          "height": 162
        },
        "id": "pSo9Onh7d1yR",
        "outputId": "4f10167c-1ea7-4f33-da4a-acc34b7fbac9"
      },
      "execution_count": 2,
      "outputs": [
        {
          "output_type": "error",
          "ename": "TypeError",
          "evalue": "can only concatenate str (not \"int\") to str",
          "traceback": [
            "\u001b[0;31m---------------------------------------------------------------------------\u001b[0m",
            "\u001b[0;31mTypeError\u001b[0m                                 Traceback (most recent call last)",
            "\u001b[0;32m<ipython-input-2-802c126de8b6>\u001b[0m in \u001b[0;36m<cell line: 1>\u001b[0;34m()\u001b[0m\n\u001b[0;32m----> 1\u001b[0;31m \u001b[0ma\u001b[0m \u001b[0;34m=\u001b[0m \u001b[0;34m\"hi\"\u001b[0m \u001b[0;34m+\u001b[0m \u001b[0;36m10\u001b[0m\u001b[0;34m\u001b[0m\u001b[0;34m\u001b[0m\u001b[0m\n\u001b[0m\u001b[1;32m      2\u001b[0m \u001b[0mprint\u001b[0m\u001b[0;34m(\u001b[0m\u001b[0ma\u001b[0m\u001b[0;34m)\u001b[0m\u001b[0;34m\u001b[0m\u001b[0;34m\u001b[0m\u001b[0m\n",
            "\u001b[0;31mTypeError\u001b[0m: can only concatenate str (not \"int\") to str"
          ]
        }
      ]
    },
    {
      "cell_type": "code",
      "source": [
        "%mk\n",
        "String Repetition : we can use operator and repeat the strings\n"
      ],
      "metadata": {
        "id": "U6tAfDand9y6"
      },
      "execution_count": null,
      "outputs": []
    },
    {
      "cell_type": "code",
      "source": [
        "a = \"sujith \" * 5\n",
        "print(a)"
      ],
      "metadata": {
        "colab": {
          "base_uri": "https://localhost:8080/"
        },
        "id": "OjZc5O_IeHue",
        "outputId": "b86f17ed-b41e-4a7b-c8c8-dac8102d1664"
      },
      "execution_count": 6,
      "outputs": [
        {
          "output_type": "stream",
          "name": "stdout",
          "text": [
            "sujith sujith sujith sujith sujith \n"
          ]
        }
      ]
    },
    {
      "cell_type": "code",
      "source": [
        "s =\"arrow\"\n",
        "s = \"*\" * 3+ s + \"*\"*3\n",
        "print(s)"
      ],
      "metadata": {
        "colab": {
          "base_uri": "https://localhost:8080/"
        },
        "id": "NAbQBnLneT4c",
        "outputId": "41b8d327-4b3e-4203-a9f6-b6bd1b21174b"
      },
      "execution_count": 7,
      "outputs": [
        {
          "output_type": "stream",
          "name": "stdout",
          "text": [
            "***arrow***\n"
          ]
        }
      ]
    },
    {
      "cell_type": "markdown",
      "source": [
        "Length of String: we use len() method to find the length of the string\n"
      ],
      "metadata": {
        "id": "jlk34YktejTJ"
      }
    },
    {
      "cell_type": "markdown",
      "source": [
        " s = \"jairam sujith yarram\"\n",
        " print(s)\n",
        " print(len(s))"
      ],
      "metadata": {
        "id": "OrTQ6VV2eo9R"
      }
    },
    {
      "cell_type": "code",
      "source": [
        "s = \"jairam sujith yarram\"\n",
        "print(s)\n",
        "print(len(s))"
      ],
      "metadata": {
        "colab": {
          "base_uri": "https://localhost:8080/"
        },
        "id": "JwKyzMewewD7",
        "outputId": "77e89c86-d244-44f6-8d40-bfe3c0eff6a1"
      },
      "execution_count": 9,
      "outputs": [
        {
          "output_type": "stream",
          "name": "stdout",
          "text": [
            "jairam sujith yarram\n",
            "20\n"
          ]
        }
      ]
    },
    {
      "cell_type": "markdown",
      "source": [
        "###practise questions\n"
      ],
      "metadata": {
        "id": "i2USRpaVe3EE"
      }
    },
    {
      "cell_type": "markdown",
      "source": [
        "1. Concatenate two strings `str1` and `str2`, and print the result.\n",
        "    - **Expected Input:** str1 = \"Hello\", str2 = \"World\"\n",
        "    - **Expected Output:** \"HelloWorld\""
      ],
      "metadata": {
        "id": "3VRO00HUe5RI"
      }
    },
    {
      "cell_type": "code",
      "source": [
        "str1 = \"hello\"\n",
        "str2 = \"world\"\n",
        "print(str1+str2)"
      ],
      "metadata": {
        "colab": {
          "base_uri": "https://localhost:8080/"
        },
        "id": "5nGGJiGde8lc",
        "outputId": "e774c503-a4c7-491b-ed11-83137fdbb73f"
      },
      "execution_count": 10,
      "outputs": [
        {
          "output_type": "stream",
          "name": "stdout",
          "text": [
            "helloworld\n"
          ]
        }
      ]
    },
    {
      "cell_type": "markdown",
      "source": [
        "2. Ask the user to enter their name and a greeting. Concatenate the name and greeting to form a personalized message and print it.\n",
        "    - **Expected Input:** name = \"John\", greeting = \"Hi\"\n",
        "    - **Expected Output:** \"Hi John\""
      ],
      "metadata": {
        "id": "S5g8Q9bbfFAZ"
      }
    },
    {
      "cell_type": "code",
      "source": [
        "name =\"sujith\"\n",
        "greetings = \"hi\"\n",
        "print(greetings+\" good morning \"+name)"
      ],
      "metadata": {
        "colab": {
          "base_uri": "https://localhost:8080/"
        },
        "id": "eZqQG6QrfJOu",
        "outputId": "62e8cde5-1e38-4228-f215-4697ec458e4e"
      },
      "execution_count": 14,
      "outputs": [
        {
          "output_type": "stream",
          "name": "stdout",
          "text": [
            "hi good morning sujith\n"
          ]
        }
      ]
    },
    {
      "cell_type": "markdown",
      "source": [
        "3. Create a string `word` and repeat it 5 times. Print the result.\n",
        "    - **Expected Input:** word = \"Python\"\n",
        "    - **Expected Output:** \"PythonPythonPythonPythonPython\""
      ],
      "metadata": {
        "id": "KXyR9-CHfdsl"
      }
    },
    {
      "cell_type": "code",
      "source": [
        "word = \"python \"\n",
        "print(word *5)"
      ],
      "metadata": {
        "colab": {
          "base_uri": "https://localhost:8080/"
        },
        "id": "8R8dpUAxfe8r",
        "outputId": "96a5c01f-a5c2-40d1-b0a3-a22463b09cfe"
      },
      "execution_count": 17,
      "outputs": [
        {
          "output_type": "stream",
          "name": "stdout",
          "text": [
            "python python python python python \n"
          ]
        }
      ]
    },
    {
      "cell_type": "markdown",
      "source": [
        "4. Ask the user to enter a word and a number. Repeat the word as many times as the given number and print the result.\n",
        "    - **Expected Input:** word = \"Hello\", number = 3\n",
        "    - **Expected Output:** \"HelloHelloHello\""
      ],
      "metadata": {
        "id": "H47RB38Jfl1J"
      }
    },
    {
      "cell_type": "code",
      "source": [
        "word = \"sujith \"\n",
        "number = 5\n",
        "print(word * number)"
      ],
      "metadata": {
        "colab": {
          "base_uri": "https://localhost:8080/"
        },
        "id": "xBaMQ21ifsDW",
        "outputId": "dd5cb682-b9f5-4b5b-91cc-8e6bc63020e4"
      },
      "execution_count": 18,
      "outputs": [
        {
          "output_type": "stream",
          "name": "stdout",
          "text": [
            "sujith sujith sujith sujith sujith \n"
          ]
        }
      ]
    },
    {
      "cell_type": "markdown",
      "source": [
        "5. Create a string `sentence` and find its length. Print the length of the sentence.\n",
        "    - **Expected Input:** sentence = \"This is a sample sentence.\"\n",
        "    - **Expected Output:** 27"
      ],
      "metadata": {
        "id": "NEVLPLhBfyjN"
      }
    },
    {
      "cell_type": "code",
      "source": [
        "sentence = \"this is a sample sentence.\"\n",
        "print(len(sentence))"
      ],
      "metadata": {
        "colab": {
          "base_uri": "https://localhost:8080/"
        },
        "id": "5B85L3sCf2cL",
        "outputId": "b68da203-113e-40e2-d4e7-86bd9bd772d1"
      },
      "execution_count": 20,
      "outputs": [
        {
          "output_type": "stream",
          "name": "stdout",
          "text": [
            "26\n"
          ]
        }
      ]
    },
    {
      "cell_type": "markdown",
      "source": [
        "6. Ask the user to input a sentence. Find the length of the sentence, and print the last character of the sentence.\n",
        "    - **Expected Output:** Length of the sentence and the last character."
      ],
      "metadata": {
        "id": "f14rJEtdgExG"
      }
    },
    {
      "cell_type": "code",
      "source": [
        "sentence = \"are u gone mad!\"\n",
        "print(len(sentence))\n",
        "##lastcharacter = sentence in range[1:5]\n",
        "lastcharacter = sentence[-1]\n",
        "print(lastcharacter)"
      ],
      "metadata": {
        "colab": {
          "base_uri": "https://localhost:8080/"
        },
        "id": "ruTVXJKsgJzO",
        "outputId": "af98571c-a550-46c2-aa61-ba7d2e61a77b"
      },
      "execution_count": 33,
      "outputs": [
        {
          "output_type": "stream",
          "name": "stdout",
          "text": [
            "15\n",
            "!\n"
          ]
        }
      ]
    },
    {
      "cell_type": "markdown",
      "source": [
        "7. Create two strings `str1` and `str2`. Find the lengths of both strings and concatenate them. Print the concatenated string.\n",
        "    - **Expected Input:** str1 = \"Hello\", str2 = \"World\"\n",
        "    - **Expected Output:** \"HelloWorld\""
      ],
      "metadata": {
        "id": "sBooojZ0m2PT"
      }
    },
    {
      "cell_type": "code",
      "source": [
        "str1 = \"hello\"\n",
        "str2 = \"world\"\n",
        "print(len(str1)+len(str2))\n",
        "print(str1+str2)"
      ],
      "metadata": {
        "colab": {
          "base_uri": "https://localhost:8080/"
        },
        "id": "35GoCeP8gSSF",
        "outputId": "682ac777-a559-4a39-c87f-ba997e8f1351"
      },
      "execution_count": 34,
      "outputs": [
        {
          "output_type": "stream",
          "name": "stdout",
          "text": [
            "10\n",
            "helloworld\n"
          ]
        }
      ]
    },
    {
      "cell_type": "markdown",
      "source": [
        "8. Ask the user to enter two words, `word1` and `word2`. Concatenate the two words with a space in between and print the result.\n",
        "    - **Expected Input:** word1 = \"Hello\", word2 = \"Python\"\n",
        "    - **Expected Output:** \"Hello Python\""
      ],
      "metadata": {
        "id": "EJV7ZnBNnJ74"
      }
    },
    {
      "cell_type": "code",
      "source": [
        "word1 = \"hello\"\n",
        "word2 = \"world\"\n",
        "print(str1 + \" \"+str2)"
      ],
      "metadata": {
        "colab": {
          "base_uri": "https://localhost:8080/"
        },
        "id": "1eLFwqmDnKyE",
        "outputId": "8c017b11-1baf-4925-bb21-8eb01d162519"
      },
      "execution_count": 35,
      "outputs": [
        {
          "output_type": "stream",
          "name": "stdout",
          "text": [
            "hello world\n"
          ]
        }
      ]
    },
    {
      "cell_type": "markdown",
      "source": [
        "9. Create a string `pattern` containing \"*\" character and repeat it to form a pattern. The pattern should have 5 rows. Print the resulting pattern.\n",
        "    - **Expected Output:**\n",
        "        \n",
        "        ```\n",
        "        *\n",
        "        **\n",
        "        ***\n",
        "        ****\n",
        "        *****\n",
        "        \n",
        "        ```\n",
        "        \n",
        "\n",
        "Remember to use appropriate string concatenation methods, repeat the strings as required, and utilize the `len()` function to find the length of strings. String manipulation in Python can be fun and useful in various applications!"
      ],
      "metadata": {
        "id": "fGSHx8X1nVDe"
      }
    },
    {
      "cell_type": "code",
      "source": [
        "n =6\n",
        "\n",
        "for i in range(n):\n",
        "  print(i * \"*\")\n"
      ],
      "metadata": {
        "colab": {
          "base_uri": "https://localhost:8080/"
        },
        "id": "YEbzBxcDnbNR",
        "outputId": "e92ead4a-e362-4a2a-f1a4-765bea953bab"
      },
      "execution_count": 44,
      "outputs": [
        {
          "output_type": "stream",
          "name": "stdout",
          "text": [
            "\n",
            "*\n",
            "**\n",
            "***\n",
            "****\n",
            "*****\n"
          ]
        }
      ]
    },
    {
      "cell_type": "code",
      "source": [
        "n=6\n",
        "for i in range(n):\n",
        "  starts = \"*\" * i\n",
        "  print(starts.rjust(6))"
      ],
      "metadata": {
        "colab": {
          "base_uri": "https://localhost:8080/"
        },
        "id": "b6XifChmpiXI",
        "outputId": "e0cd0293-1732-4ffa-c3ff-013e9c421a2b"
      },
      "execution_count": 46,
      "outputs": [
        {
          "output_type": "stream",
          "name": "stdout",
          "text": [
            "      \n",
            "     *\n",
            "    **\n",
            "   ***\n",
            "  ****\n",
            " *****\n"
          ]
        }
      ]
    },
    {
      "cell_type": "code",
      "source": [
        "n=7\n",
        "for i in range(n):\n",
        "  starts = \"*\" * i\n",
        "  print(starts.ljust(7))"
      ],
      "metadata": {
        "colab": {
          "base_uri": "https://localhost:8080/"
        },
        "id": "W9QCITqup_tf",
        "outputId": "a25ebd01-f779-4d32-f704-8ef1dfe1874f"
      },
      "execution_count": 49,
      "outputs": [
        {
          "output_type": "stream",
          "name": "stdout",
          "text": [
            "       \n",
            "*      \n",
            "**     \n",
            "***    \n",
            "****   \n",
            "*****  \n",
            "****** \n"
          ]
        }
      ]
    }
  ]
}