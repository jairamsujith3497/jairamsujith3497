{
  "nbformat": 4,
  "nbformat_minor": 0,
  "metadata": {
    "colab": {
      "provenance": [],
      "authorship_tag": "ABX9TyP7UHJsEpBNELSkET8QRK+P",
      "include_colab_link": true
    },
    "kernelspec": {
      "name": "python3",
      "display_name": "Python 3"
    },
    "language_info": {
      "name": "python"
    }
  },
  "cells": [
    {
      "cell_type": "markdown",
      "metadata": {
        "id": "view-in-github",
        "colab_type": "text"
      },
      "source": [
        "<a href=\"https://colab.research.google.com/github/jairamsujith3497/jairamsujith3497/blob/main/day19.ipynb\" target=\"_parent\"><img src=\"https://colab.research.google.com/assets/colab-badge.svg\" alt=\"Open In Colab\"/></a>"
      ]
    },
    {
      "cell_type": "markdown",
      "source": [
        "### Dictionaries\n",
        "\n",
        "Dictionaries key-value pairs ni store cheskuntadi mowa.\n",
        "Dictionaries are mutable, ante nuv veetini modify kuda cheskovachu.\n",
        "Dictionaries are defined using curly braces `{ }`, and each key-value pair is separated by a colon `:`."
      ],
      "metadata": {
        "id": "CZAzDXZeunSc"
      }
    },
    {
      "cell_type": "code",
      "source": [
        "student = {\n",
        "    \"name\": \"Dodagatta Nihar\",\n",
        "    \"age\": 25,\n",
        "    \"major\": \"Computer Science\",\n",
        "    \"gpa\": 3.8\n",
        "}\n",
        "\n",
        "print(student[\"name\"])"
      ],
      "metadata": {
        "colab": {
          "base_uri": "https://localhost:8080/"
        },
        "id": "SweGu01DuoiA",
        "outputId": "7a7aae97-da02-4b40-bebf-97eb6ca205b2"
      },
      "execution_count": 1,
      "outputs": [
        {
          "output_type": "stream",
          "name": "stdout",
          "text": [
            "Dodagatta Nihar\n"
          ]
        }
      ]
    },
    {
      "cell_type": "markdown",
      "source": [
        "### Questions to practice (Day - 19):\n",
        "\n",
        "1. Question: Create an empty dictionary.\n",
        "Expected Output: {}"
      ],
      "metadata": {
        "id": "bghUF836u_fR"
      }
    },
    {
      "cell_type": "code",
      "source": [
        "dict ={}\n",
        "print(dict)"
      ],
      "metadata": {
        "colab": {
          "base_uri": "https://localhost:8080/"
        },
        "id": "h5F3Ip1fvAfE",
        "outputId": "86ed6c24-051e-4eb0-f6af-d5fa0042a8b4"
      },
      "execution_count": 2,
      "outputs": [
        {
          "output_type": "stream",
          "name": "stdout",
          "text": [
            "{}\n"
          ]
        }
      ]
    },
    {
      "cell_type": "markdown",
      "source": [
        "2.Question: Create a dictionary to store the age of two people, \"John\" and \"Alice.\" John is 25 years old, and Alice is 30 years old.\n",
        "Expected Output: {\"John\": 25, \"Alice\": 30}"
      ],
      "metadata": {
        "id": "i0ACOQHwvEas"
      }
    },
    {
      "cell_type": "code",
      "source": [
        "age = {\n",
        "    \"john\":25,\n",
        "    \"alice\":30\n",
        "    }\n",
        "\n",
        "print(age)"
      ],
      "metadata": {
        "colab": {
          "base_uri": "https://localhost:8080/"
        },
        "id": "BaFPLrv8vI4X",
        "outputId": "3a42bd23-bc1d-49dc-ef92-623ed4148811"
      },
      "execution_count": 4,
      "outputs": [
        {
          "output_type": "stream",
          "name": "stdout",
          "text": [
            "{'john': 25, 'alice': 30}\n"
          ]
        }
      ]
    },
    {
      "cell_type": "markdown",
      "source": [
        "Question: Access the value associated with the key \"city\" from the given dictionary.\n",
        "Expected Input: Dictionary: {\"name\": \"Alice\", \"city\": \"New York\", \"age\": 30}\n",
        "Expected Output: \"New York\""
      ],
      "metadata": {
        "id": "8orqh5bFvcpY"
      }
    },
    {
      "cell_type": "code",
      "source": [
        " input = {\"name\": \"Alice\",\n",
        "       \"city\": \"New York\",\n",
        "       \"age\": 30}\n",
        "\n",
        "print(input[\"city\"])"
      ],
      "metadata": {
        "colab": {
          "base_uri": "https://localhost:8080/"
        },
        "id": "bJzE8Lgmvig0",
        "outputId": "ce5c7f1c-4d36-4202-f1eb-d96d31e0820b"
      },
      "execution_count": 6,
      "outputs": [
        {
          "output_type": "stream",
          "name": "stdout",
          "text": [
            "New York\n"
          ]
        }
      ]
    },
    {
      "cell_type": "markdown",
      "source": [
        "Question: Create a dictionary to store the contact information of a person. The person's name is \"Bob,\" and their email is \"bob@example.com.\"\n",
        "Expected Output: {\"name\": \"Bob\", \"email\": \"bob@example.com\"}"
      ],
      "metadata": {
        "id": "HTfashL0v29h"
      }
    },
    {
      "cell_type": "code",
      "source": [
        "info = {\n",
        "    \"name\":\"bob\",\n",
        "    \"email\":\"bob@example.com\"\n",
        "}\n",
        "print(info)"
      ],
      "metadata": {
        "colab": {
          "base_uri": "https://localhost:8080/"
        },
        "id": "mFXLuw_Iv89t",
        "outputId": "0680a38a-41a4-4f55-dd66-08f1cd60d8ab"
      },
      "execution_count": 7,
      "outputs": [
        {
          "output_type": "stream",
          "name": "stdout",
          "text": [
            "{'name': 'bob', 'email': 'bob@example.com'}\n"
          ]
        }
      ]
    },
    {
      "cell_type": "markdown",
      "source": [
        "Question: Access the value associated with the key \"score\" from the given dictionary.\n",
        "Expected Input: Dictionary: {\"name\": \"John\", \"age\": 22, \"score\": 85}\n",
        "Expected Output: 85"
      ],
      "metadata": {
        "id": "2WxKK7VwwMI5"
      }
    },
    {
      "cell_type": "code",
      "source": [
        "input = {\n",
        "    \"name\":\"john\",\n",
        "    \"age\":22,\n",
        "    \"score\":85\n",
        "}\n",
        "\n",
        "print(input[\"score\"])"
      ],
      "metadata": {
        "colab": {
          "base_uri": "https://localhost:8080/"
        },
        "id": "ePVJ8VxbwO12",
        "outputId": "ce4c6ead-69a5-4481-9c24-270d152ae05d"
      },
      "execution_count": 8,
      "outputs": [
        {
          "output_type": "stream",
          "name": "stdout",
          "text": [
            "85\n"
          ]
        }
      ]
    },
    {
      "cell_type": "markdown",
      "source": [
        "Question: Create a dictionary to represent a rectangle. The rectangle has a width of 10 and a height of 5.\n",
        "Expected Output: {\"width\": 10, \"height\": 5}"
      ],
      "metadata": {
        "id": "VnI7tBnQwdog"
      }
    },
    {
      "cell_type": "code",
      "source": [
        "rectangle = {\n",
        "    \"width\":10,\n",
        "    \"height\":5\n",
        "}\n",
        "\n",
        "print(rectangle)"
      ],
      "metadata": {
        "colab": {
          "base_uri": "https://localhost:8080/"
        },
        "id": "Teq6aw9mwent",
        "outputId": "1b2f7cc2-4201-41e7-b23a-32a52960ae6a"
      },
      "execution_count": 9,
      "outputs": [
        {
          "output_type": "stream",
          "name": "stdout",
          "text": [
            "{'width': 10, 'height': 5}\n"
          ]
        }
      ]
    },
    {
      "cell_type": "markdown",
      "source": [
        "Question: Access the value associated with the key \"phone\" from the given dictionary. If the key does not exist, return \"Not available.\"\n",
        "Expected Input: Dictionary: {\"name\": \"Eve\", \"age\": 27}\n",
        "Expected Output: \"Not available\""
      ],
      "metadata": {
        "id": "5PHwqTpTxIR2"
      }
    },
    {
      "cell_type": "code",
      "source": [
        "input ={\n",
        "    \"name\":\"eve\",\n",
        "    \"age\":27\n",
        "}\n",
        "\n",
        "if input.get(\"phone\")is None:\n",
        "  print(\"not availble\")\n",
        "else:\n",
        "  print (\"availble\")"
      ],
      "metadata": {
        "colab": {
          "base_uri": "https://localhost:8080/"
        },
        "id": "-xED6zyOxZK2",
        "outputId": "c5cb0b2b-d1ce-411c-bfe3-b104e41a2496"
      },
      "execution_count": 11,
      "outputs": [
        {
          "output_type": "stream",
          "name": "stdout",
          "text": [
            "not availble\n"
          ]
        }
      ]
    }
  ]
}