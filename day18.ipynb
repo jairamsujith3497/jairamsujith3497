{
  "nbformat": 4,
  "nbformat_minor": 0,
  "metadata": {
    "colab": {
      "provenance": [],
      "authorship_tag": "ABX9TyNsbEYw2jzKpEv1Fv8Zw/fw",
      "include_colab_link": true
    },
    "kernelspec": {
      "name": "python3",
      "display_name": "Python 3"
    },
    "language_info": {
      "name": "python"
    }
  },
  "cells": [
    {
      "cell_type": "markdown",
      "metadata": {
        "id": "view-in-github",
        "colab_type": "text"
      },
      "source": [
        "<a href=\"https://colab.research.google.com/github/jairamsujith3497/jairamsujith3497/blob/main/day18.ipynb\" target=\"_parent\"><img src=\"https://colab.research.google.com/assets/colab-badge.svg\" alt=\"Open In Colab\"/></a>"
      ]
    },
    {
      "cell_type": "markdown",
      "source": [
        "### Tuples\n",
        "\n",
        "Idi kuda list laaga oka data structure eyy! kaani tuples are immutable ante okasari deenni create chesnaka elements ni nuv add or remove cheyyalev ani.\n",
        "Elements anni parentheses `()` lo esi pedtam seperated by a comma.\n",
        "\n",
        "Example chusthe:"
      ],
      "metadata": {
        "id": "m1KOfk2CS9c4"
      }
    },
    {
      "cell_type": "code",
      "source": [
        "fruits = (\"apple\",\"banana\",\"orange\")\n",
        "print(fruits[0])"
      ],
      "metadata": {
        "colab": {
          "base_uri": "https://localhost:8080/"
        },
        "id": "YDvNnKW9TAlJ",
        "outputId": "249a81b8-7b7a-48ab-abd2-476217fb8222"
      },
      "execution_count": 2,
      "outputs": [
        {
          "output_type": "stream",
          "name": "stdout",
          "text": [
            "apple\n"
          ]
        }
      ]
    },
    {
      "cell_type": "code",
      "source": [
        "person = (\"john\",\"newyork\",30)\n",
        "name,city,age = person\n",
        "print(name)\n",
        "print(city)\n",
        "print(age)"
      ],
      "metadata": {
        "colab": {
          "base_uri": "https://localhost:8080/"
        },
        "id": "dfTHlKhoTZvq",
        "outputId": "6cda1a0e-5bfd-47d2-f99d-7aab9b9c8750"
      },
      "execution_count": 3,
      "outputs": [
        {
          "output_type": "stream",
          "name": "stdout",
          "text": [
            "john\n",
            "newyork\n",
            "30\n"
          ]
        }
      ]
    },
    {
      "cell_type": "markdown",
      "source": [
        "Tuple Functions:\n",
        "Tuples support various built-in functions like len(), min(), and max()"
      ],
      "metadata": {
        "id": "2wLvHP5hTp3h"
      }
    },
    {
      "cell_type": "code",
      "source": [
        "numbers = (5,2,8,1,7)\n",
        "length = len(numbers)\n",
        "print(length)\n",
        "maximum = max(numbers)\n",
        "print(maximum)\n",
        "minimum = min(numbers)\n",
        "print(minimum)"
      ],
      "metadata": {
        "colab": {
          "base_uri": "https://localhost:8080/"
        },
        "id": "rmx011VkTq1z",
        "outputId": "84d106b8-120a-463d-d5bb-64bf99b22ab0"
      },
      "execution_count": 8,
      "outputs": [
        {
          "output_type": "stream",
          "name": "stdout",
          "text": [
            "5\n",
            "8\n",
            "1\n"
          ]
        }
      ]
    },
    {
      "cell_type": "markdown",
      "source": [
        "tuple concatitnation\n"
      ],
      "metadata": {
        "id": "wcSaYeRbUTX2"
      }
    },
    {
      "cell_type": "code",
      "source": [],
      "metadata": {
        "id": "LdxKA7GuUVvi"
      },
      "execution_count": null,
      "outputs": []
    },
    {
      "cell_type": "code",
      "source": [
        "t1 = (1,2,3)\n",
        "t2 =(4,5,6)\n",
        "t3 = t1+t2\n",
        "print(t3)\n",
        "\n",
        "repeated_tuple = t1 *3\n",
        "print(repeated_tuple)"
      ],
      "metadata": {
        "colab": {
          "base_uri": "https://localhost:8080/"
        },
        "id": "WzVjFpwlUWGD",
        "outputId": "03f0a25a-8c8c-4cdb-a7d4-4f985f5536d4"
      },
      "execution_count": 10,
      "outputs": [
        {
          "output_type": "stream",
          "name": "stdout",
          "text": [
            "(1, 2, 3, 4, 5, 6)\n",
            "(1, 2, 3, 1, 2, 3, 1, 2, 3)\n"
          ]
        }
      ]
    },
    {
      "cell_type": "markdown",
      "source": [
        "### Questions to practice (Day - 18):\n",
        "\n",
        "1.  Create a tuple containing three elements: 'apple', 5, and True.\n",
        "Expected Input: No input required.\n",
        "Expected Output: ('apple', 5, True)"
      ],
      "metadata": {
        "id": "TYBKFTidXD8d"
      }
    },
    {
      "cell_type": "code",
      "source": [
        "elements =(\"apple\",5,True)\n",
        "print(elements)"
      ],
      "metadata": {
        "colab": {
          "base_uri": "https://localhost:8080/"
        },
        "id": "lC9RV6PjXExZ",
        "outputId": "d7780519-477a-4755-9c84-5fd01ede600d"
      },
      "execution_count": 11,
      "outputs": [
        {
          "output_type": "stream",
          "name": "stdout",
          "text": [
            "('apple', 5, True)\n"
          ]
        }
      ]
    },
    {
      "cell_type": "markdown",
      "source": [
        "2.Access the second element from the given tuple: ('cat', 'dog', 'bird', 'fish').\n",
        "Expected Input: No input required.\n",
        "Expected Output: 'dog'"
      ],
      "metadata": {
        "id": "F4-zjlD7XPjl"
      }
    },
    {
      "cell_type": "code",
      "source": [
        "item = (\"cat\",\"dog\",\"bird\",\"fish\")\n",
        "print(item[1])"
      ],
      "metadata": {
        "colab": {
          "base_uri": "https://localhost:8080/"
        },
        "id": "yDNikIxpXX4b",
        "outputId": "aa415be5-c95d-434f-c6c0-e8167ba930f6"
      },
      "execution_count": 12,
      "outputs": [
        {
          "output_type": "stream",
          "name": "stdout",
          "text": [
            "dog\n"
          ]
        }
      ]
    },
    {
      "cell_type": "markdown",
      "source": [
        "3.Concatenate two tuples: (1, 2, 3) and ('a', 'b', 'c').\n",
        "Expected Input: No input required.\n",
        "Expected Output: (1, 2, 3, 'a', 'b', 'c')"
      ],
      "metadata": {
        "id": "AnFlvFWSXh_7"
      }
    },
    {
      "cell_type": "code",
      "source": [
        "t1= (1,2,3)\n",
        "t2 =(\"a\",\"b\",\"c\")\n",
        "t3 = t1+t2\n",
        "print(t3)"
      ],
      "metadata": {
        "colab": {
          "base_uri": "https://localhost:8080/"
        },
        "id": "3bd_G5mqXvtm",
        "outputId": "38e37477-f3ea-4273-92ef-4f5c87f654c7"
      },
      "execution_count": 13,
      "outputs": [
        {
          "output_type": "stream",
          "name": "stdout",
          "text": [
            "(1, 2, 3, 'a', 'b', 'c')\n"
          ]
        }
      ]
    },
    {
      "cell_type": "markdown",
      "source": [
        "4.Find the length of the tuple: (10, 20, 30, 40, 50).\n",
        "Expected Input: No input required.\n",
        "Expected Output: 5"
      ],
      "metadata": {
        "id": "VPOp1wDiX8h8"
      }
    },
    {
      "cell_type": "code",
      "source": [
        "num =(10,20,30,40,50)\n",
        "print(num)\n",
        "length = len(num)\n",
        "print(length)"
      ],
      "metadata": {
        "colab": {
          "base_uri": "https://localhost:8080/"
        },
        "id": "3IANtD95X-1D",
        "outputId": "e91d135d-47fa-4c22-b6e8-64af2eb90ee5"
      },
      "execution_count": 14,
      "outputs": [
        {
          "output_type": "stream",
          "name": "stdout",
          "text": [
            "(10, 20, 30, 40, 50)\n",
            "5\n"
          ]
        }
      ]
    },
    {
      "cell_type": "markdown",
      "source": [
        "5. Check if the element 25 exists in the tuple: (10, 20, 30, 40, 50).\n",
        "Expected Input: No input required.\n",
        "Expected Output: False"
      ],
      "metadata": {
        "id": "YYHLUiceYLcq"
      }
    },
    {
      "cell_type": "code",
      "source": [
        "item = (10,20,30,40,50)\n",
        "if item == 25:\n",
        "  print(\"True\")\n",
        "else:\n",
        "  print(\"false\")"
      ],
      "metadata": {
        "colab": {
          "base_uri": "https://localhost:8080/"
        },
        "id": "MYpW9K7SYNNG",
        "outputId": "21e5cc91-3c68-4f3c-a26a-a9c4acff2dce"
      },
      "execution_count": 16,
      "outputs": [
        {
          "output_type": "stream",
          "name": "stdout",
          "text": [
            "false\n"
          ]
        }
      ]
    },
    {
      "cell_type": "markdown",
      "source": [
        " 6.Create a new tuple with elements from the given tuple (3, 6, 9) repeated 3 times.\n",
        " Expected Input: No input required.\n",
        " Expected Output: (3, 6, 9, 3, 6, 9, 3, 6, 9)"
      ],
      "metadata": {
        "id": "q_cFsR2kYk2U"
      }
    },
    {
      "cell_type": "code",
      "source": [
        "t1 = (3,6,9)\n",
        "print(t1*3)"
      ],
      "metadata": {
        "colab": {
          "base_uri": "https://localhost:8080/"
        },
        "id": "389pxLY7YOkT",
        "outputId": "31b9339d-ee0e-45d2-9b07-e5c84cd72e21"
      },
      "execution_count": 17,
      "outputs": [
        {
          "output_type": "stream",
          "name": "stdout",
          "text": [
            "(3, 6, 9, 3, 6, 9, 3, 6, 9)\n"
          ]
        }
      ]
    },
    {
      "cell_type": "markdown",
      "source": [
        "7.   Perform packing and unpacking on a tuple containing the names of three fruits: 'apple', 'banana', and 'orange'. Use unpacking to assign each fruit to three variables: fruit1, fruit2, and fruit3.\n",
        "\n",
        "       Expected Input: No input required.\n",
        "       Expected Output:\n",
        "\n",
        "- fruit1 = 'apple'\n",
        "- fruit2 = 'banana'\n",
        "- fruit3 = 'orange'"
      ],
      "metadata": {
        "id": "qMZxJ6-eYunQ"
      }
    },
    {
      "cell_type": "code",
      "source": [
        "fruits =(\"apple\",\"banana\",\"orange\")\n",
        "fruits1,fruits2,fruits3 = fruits\n",
        "print(\"Fruits1 = \" +fruits1)\n",
        "print(\"Fruits2 = \"+fruits2)\n",
        "print(\"Fruits3 = \"+fruits3)"
      ],
      "metadata": {
        "colab": {
          "base_uri": "https://localhost:8080/"
        },
        "id": "eicrJDFgYzHd",
        "outputId": "cfc7eeba-4142-425e-ca89-e08d375f4f9c"
      },
      "execution_count": 22,
      "outputs": [
        {
          "output_type": "stream",
          "name": "stdout",
          "text": [
            "Fruits1 = apple\n",
            "Fruits2 = banana\n",
            "Fruits3 = orange\n"
          ]
        }
      ]
    },
    {
      "cell_type": "markdown",
      "source": [],
      "metadata": {
        "id": "EVTxEesEYLVi"
      }
    }
  ]
}