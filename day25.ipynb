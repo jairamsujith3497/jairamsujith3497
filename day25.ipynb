{
  "nbformat": 4,
  "nbformat_minor": 0,
  "metadata": {
    "colab": {
      "provenance": [],
      "authorship_tag": "ABX9TyMkMfykUEMHSjL/kEpV58gM",
      "include_colab_link": true
    },
    "kernelspec": {
      "name": "python3",
      "display_name": "Python 3"
    },
    "language_info": {
      "name": "python"
    }
  },
  "cells": [
    {
      "cell_type": "markdown",
      "metadata": {
        "id": "view-in-github",
        "colab_type": "text"
      },
      "source": [
        "<a href=\"https://colab.research.google.com/github/jairamsujith3497/jairamsujith3497/blob/main/day25.ipynb\" target=\"_parent\"><img src=\"https://colab.research.google.com/assets/colab-badge.svg\" alt=\"Open In Colab\"/></a>"
      ]
    },
    {
      "cell_type": "markdown",
      "source": [
        "### Function Arguments\n",
        "\n",
        "Positional Arguments:\n",
        "Positional arguments are the most basic type of arguments. They are matched to function parameters based on their order of appearance"
      ],
      "metadata": {
        "id": "S7hZ6DLjR4n2"
      }
    },
    {
      "cell_type": "code",
      "source": [
        "def greet(name,age):\n",
        "  print (f\"hello,{name} you are {age} years old\")\n",
        "\n",
        "greet(\"sujith\",27)"
      ],
      "metadata": {
        "colab": {
          "base_uri": "https://localhost:8080/"
        },
        "id": "o_85rNTFR7Nu",
        "outputId": "ce9d01da-fb5f-4c23-cc72-d1d0409e037e"
      },
      "execution_count": 2,
      "outputs": [
        {
          "output_type": "stream",
          "name": "stdout",
          "text": [
            "hello,sujith you are 27 years old\n"
          ]
        }
      ]
    },
    {
      "cell_type": "markdown",
      "source": [
        "Keyword Arguments:\n",
        "Keyword arguments are specified with the parameter name followed by the value, separated by an equal sign. These arguments allow you to pass the values to the function in any order.\n"
      ],
      "metadata": {
        "id": "zrKTizq2SbCR"
      }
    },
    {
      "cell_type": "code",
      "source": [
        "def greet(name,age):\n",
        "  print (f\"hello,{name} you are {age} years old\")\n",
        "\n",
        "greet(age=27,name =\"sujith\")"
      ],
      "metadata": {
        "colab": {
          "base_uri": "https://localhost:8080/"
        },
        "id": "NncDRXPQTMGh",
        "outputId": "7389b89d-e87f-4648-fc1b-d8431ba30990"
      },
      "execution_count": 7,
      "outputs": [
        {
          "output_type": "stream",
          "name": "stdout",
          "text": [
            "hello,sujith you are 27 years old\n"
          ]
        }
      ]
    },
    {
      "cell_type": "markdown",
      "source": [
        "Default Values:\n",
        "You can provide default values for function parameters. If a value is not passed for that parameter when the function is called, the default value will be used."
      ],
      "metadata": {
        "id": "-TeqzY3YTxc6"
      }
    },
    {
      "cell_type": "code",
      "source": [
        "def greet(name,age=27):\n",
        "  print (f\"hello,{name} ! you are {age} years old\")\n",
        "\n",
        "greet(\"sujith\")\n",
        "greet(\"sahiti\",24)"
      ],
      "metadata": {
        "colab": {
          "base_uri": "https://localhost:8080/"
        },
        "id": "ewm8_IONTzXt",
        "outputId": "3f43b8bd-b07d-4cca-cfc8-4f0752e20897"
      },
      "execution_count": 10,
      "outputs": [
        {
          "output_type": "stream",
          "name": "stdout",
          "text": [
            "hello,sujith ! you are 27 years old\n",
            "hello,sahiti ! you are 24 years old\n"
          ]
        }
      ]
    },
    {
      "cell_type": "markdown",
      "source": [
        "### Questions to practice (Day - 25):\n",
        "\n",
        "**Question 1: Positional Arguments**\n",
        "Write a function called `add` that takes two positional arguments `a` and `b`, and returns their sum."
      ],
      "metadata": {
        "id": "cVEMI_9YUODG"
      }
    },
    {
      "cell_type": "code",
      "source": [
        "def add(a,b):\n",
        "  print(a+b)\n",
        "\n",
        "add(3,4)"
      ],
      "metadata": {
        "colab": {
          "base_uri": "https://localhost:8080/"
        },
        "id": "8-BJxlljUSzR",
        "outputId": "61865961-6161-4dba-fd06-05b6f2f21c68"
      },
      "execution_count": 11,
      "outputs": [
        {
          "output_type": "stream",
          "name": "stdout",
          "text": [
            "7\n"
          ]
        }
      ]
    },
    {
      "cell_type": "markdown",
      "source": [
        "**Question 3: Default Values**\n",
        "Write a function called `multiply` that takes two arguments `a` and `b`, with `b` having a default value of 2. The function should return the product of `a` and `b`."
      ],
      "metadata": {
        "id": "IAfZ0jkeUme6"
      }
    },
    {
      "cell_type": "code",
      "source": [
        "def multiply(a,b=2):\n",
        "  print(a*b)\n",
        "\n",
        "multiply(5)\n",
        "multiply(4,5)"
      ],
      "metadata": {
        "colab": {
          "base_uri": "https://localhost:8080/"
        },
        "id": "ocF7lVXJUnmy",
        "outputId": "b4bcdd8f-27c8-48b0-fa2a-f9c6f31f89c8"
      },
      "execution_count": 13,
      "outputs": [
        {
          "output_type": "stream",
          "name": "stdout",
          "text": [
            "10\n",
            "20\n"
          ]
        }
      ]
    },
    {
      "cell_type": "markdown",
      "source": [
        "Question 4: Mixing Positional and Keyword Arguments\n",
        "Write a function called print_info that takes three positional arguments name, age, and country, and prints the information in a formatted message.\n",
        "Expected Output:\n"
      ],
      "metadata": {
        "id": "6jCXT9zLU9n3"
      }
    },
    {
      "cell_type": "code",
      "source": [
        "def print_info(name,age,country):\n",
        "  print(f\"hello,{name}! you are {age} years old and belongs to {country}\")\n",
        "\n",
        "print_info(\"sujith\",27,\"india\")\n",
        "print_info(age=25,country=\"usa\",name = \"sahiti\")"
      ],
      "metadata": {
        "colab": {
          "base_uri": "https://localhost:8080/"
        },
        "id": "VRUaR-pDU-px",
        "outputId": "da21a96c-bb3f-4226-cd82-e3f69812bbb5"
      },
      "execution_count": 15,
      "outputs": [
        {
          "output_type": "stream",
          "name": "stdout",
          "text": [
            "hello,sujith! you are 27 years old and belongs to india\n",
            "hello,sahiti! you are 25 years old and belongs to usa\n"
          ]
        }
      ]
    }
  ]
}