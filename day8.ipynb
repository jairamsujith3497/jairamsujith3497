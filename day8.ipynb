{
  "nbformat": 4,
  "nbformat_minor": 0,
  "metadata": {
    "colab": {
      "provenance": [],
      "authorship_tag": "ABX9TyPjIu7oIfJkTX26aw8f5xq1",
      "include_colab_link": true
    },
    "kernelspec": {
      "name": "python3",
      "display_name": "Python 3"
    },
    "language_info": {
      "name": "python"
    }
  },
  "cells": [
    {
      "cell_type": "markdown",
      "metadata": {
        "id": "view-in-github",
        "colab_type": "text"
      },
      "source": [
        "<a href=\"https://colab.research.google.com/github/jairamsujith3497/jairamsujith3497/blob/main/day8.ipynb\" target=\"_parent\"><img src=\"https://colab.research.google.com/assets/colab-badge.svg\" alt=\"Open In Colab\"/></a>"
      ]
    },
    {
      "cell_type": "markdown",
      "source": [
        "### Logical Operators\n",
        "\n",
        "we have 3 logical operators in python\n",
        "\n",
        "1. `and`: Returns True if both operands are True.\n",
        "2. `or`: Returns True if at least one of the operands is True.\n",
        "3. `not`: Returns the opposite boolean value of the operand.\n",
        "\n",
        "Tip:\n",
        "True and True ⇒ True\n",
        "True and False ⇒ False\n",
        "False and True ⇒ False\n",
        "False and False ⇒ False\n",
        "\n",
        "True or True ⇒ True\n",
        "True or False ⇒ True\n",
        "False or True ⇒ True\n",
        "False or False ⇒ False"
      ],
      "metadata": {
        "id": "KPrEo5tBqu5Q"
      }
    },
    {
      "cell_type": "code",
      "source": [
        "%md\n",
        "# Example 1: Using 'and' with boolean variables\n",
        "\n",
        "a = true\n",
        "b = false\n",
        "\n",
        "result = a and b\n",
        "print(result)"
      ],
      "metadata": {
        "colab": {
          "base_uri": "https://localhost:8080/"
        },
        "id": "kcq0ww79q-hI",
        "outputId": "2fc888ac-c5ad-4d02-cfae-394243f27cb4"
      },
      "execution_count": 1,
      "outputs": [
        {
          "output_type": "stream",
          "name": "stderr",
          "text": [
            "UsageError: Line magic function `%md` not found.\n"
          ]
        }
      ]
    },
    {
      "cell_type": "code",
      "source": [
        "a = True\n",
        "b = False\n",
        "\n",
        "result = a and b\n",
        "print(result)"
      ],
      "metadata": {
        "colab": {
          "base_uri": "https://localhost:8080/"
        },
        "id": "TVQJFw6OrW6d",
        "outputId": "cf6ad61e-047e-4f6f-d44a-68bf31d9d239"
      },
      "execution_count": 3,
      "outputs": [
        {
          "output_type": "stream",
          "name": "stdout",
          "text": [
            "False\n"
          ]
        }
      ]
    },
    {
      "cell_type": "code",
      "source": [
        "x = 10\n",
        "y = 5\n",
        "result = x>0 and y<10\n",
        "print(result)\n",
        "\n",
        "result1 = (x<0)and (y<5)\n",
        "print(result1)"
      ],
      "metadata": {
        "colab": {
          "base_uri": "https://localhost:8080/"
        },
        "id": "19UpFSNarbbP",
        "outputId": "47b02ad0-5c3d-42ae-eca6-a2a989165424"
      },
      "execution_count": 6,
      "outputs": [
        {
          "output_type": "stream",
          "name": "stdout",
          "text": [
            "True\n",
            "False\n"
          ]
        }
      ]
    },
    {
      "cell_type": "markdown",
      "source": [
        "or operator\n"
      ],
      "metadata": {
        "id": "4_wGV6kCuJkX"
      }
    },
    {
      "cell_type": "code",
      "source": [
        "a = True\n",
        "b = False\n",
        "result = a or b\n",
        "print(result)"
      ],
      "metadata": {
        "colab": {
          "base_uri": "https://localhost:8080/"
        },
        "id": "ebCMIKgxuLOd",
        "outputId": "9dcca57b-b82d-458d-cf79-9a98bdcf8bd3"
      },
      "execution_count": 7,
      "outputs": [
        {
          "output_type": "stream",
          "name": "stdout",
          "text": [
            "True\n"
          ]
        }
      ]
    },
    {
      "cell_type": "code",
      "source": [
        "x = 10\n",
        "y = 5\n",
        "\n",
        "result = (x<5) or (y>5)\n",
        "print(result)"
      ],
      "metadata": {
        "colab": {
          "base_uri": "https://localhost:8080/"
        },
        "id": "rI9o05tEuU_f",
        "outputId": "c3d3b100-9189-4fe2-d730-143ad6877267"
      },
      "execution_count": 8,
      "outputs": [
        {
          "output_type": "stream",
          "name": "stdout",
          "text": [
            "False\n"
          ]
        }
      ]
    },
    {
      "cell_type": "code",
      "source": [
        "# Complex example using all logical operators\n",
        "x = 5\n",
        "y = 10\n",
        "z = 15\n",
        "\n",
        "result = (x < y) and (y < z) or (x == z)\n",
        "print(result)  # Output: True\n"
      ],
      "metadata": {
        "colab": {
          "base_uri": "https://localhost:8080/"
        },
        "id": "b-18h38Nu5pG",
        "outputId": "8c8b3702-dbd4-4687-cb36-6ad8148dc36b"
      },
      "execution_count": 9,
      "outputs": [
        {
          "output_type": "stream",
          "name": "stdout",
          "text": [
            "True\n"
          ]
        }
      ]
    },
    {
      "cell_type": "markdown",
      "source": [
        "### Questions to practice (Day 8):\n",
        "\n",
        "1. Example: \"and\" operator with two True conditions\n",
        "Input: (10 > 5) and (\"apple\" == \"apple\")\n",
        "Output: True"
      ],
      "metadata": {
        "id": "uLUxk4IWu9UI"
      }
    },
    {
      "cell_type": "code",
      "source": [
        "print(10>5)and (\"apple\"==\"apple\")"
      ],
      "metadata": {
        "colab": {
          "base_uri": "https://localhost:8080/"
        },
        "id": "oPLZi-g1u-Xu",
        "outputId": "88728b5e-1d0e-47c9-9341-ac12e3aaa8fd"
      },
      "execution_count": 10,
      "outputs": [
        {
          "output_type": "stream",
          "name": "stdout",
          "text": [
            "True\n"
          ]
        }
      ]
    },
    {
      "cell_type": "markdown",
      "source": [
        "2.Example: \"and\" operator with one False condition\n",
        "Input: (3 < 2) and (\"banana\" == \"orange\")\n",
        "Output: False"
      ],
      "metadata": {
        "id": "RBBb795Wv37p"
      }
    },
    {
      "cell_type": "code",
      "source": [
        "print(3<2) and (\"banana\"==\"orange\")"
      ],
      "metadata": {
        "colab": {
          "base_uri": "https://localhost:8080/"
        },
        "id": "w6EVG2Ikv7dm",
        "outputId": "ec1a0bf3-14c9-4591-9ed0-17f2e2b86ed1"
      },
      "execution_count": 11,
      "outputs": [
        {
          "output_type": "stream",
          "name": "stdout",
          "text": [
            "False\n"
          ]
        }
      ]
    },
    {
      "cell_type": "markdown",
      "source": [
        "3.Example: \"and\" operator with one True and one False condition\n",
        "Input: (5 >= 3) and (10 != 10)\n",
        "Output: False"
      ],
      "metadata": {
        "id": "gTASqPdVwCxY"
      }
    },
    {
      "cell_type": "code",
      "source": [
        "print(5>=3)and (10!=10)"
      ],
      "metadata": {
        "colab": {
          "base_uri": "https://localhost:8080/"
        },
        "id": "FxvnsAl_wpey",
        "outputId": "a7691e9a-56f0-426f-9054-60af9112e82f"
      },
      "execution_count": 12,
      "outputs": [
        {
          "output_type": "stream",
          "name": "stdout",
          "text": [
            "True\n"
          ]
        }
      ]
    },
    {
      "cell_type": "markdown",
      "source": [
        "4.Example: \"or\" operator with two True conditions\n",
        "Input: (\"car\" == \"car\") or (7 < 9)\n",
        "Output: True"
      ],
      "metadata": {
        "id": "GNgDZwpKwzRe"
      }
    },
    {
      "cell_type": "code",
      "source": [
        "print(\"car\"==\"car\" or  7<9 )"
      ],
      "metadata": {
        "colab": {
          "base_uri": "https://localhost:8080/"
        },
        "id": "gFPJXHD2xPJ8",
        "outputId": "322aaa53-834c-4d05-d28a-b7e0e34c38c2"
      },
      "execution_count": 15,
      "outputs": [
        {
          "output_type": "stream",
          "name": "stdout",
          "text": [
            "True\n"
          ]
        }
      ]
    },
    {
      "cell_type": "markdown",
      "source": [
        "5.Example: \"or\" operator with one False condition\n",
        "Input: (\"dog\" == \"cat\") or (6 < 10)\n",
        "Output: True"
      ],
      "metadata": {
        "id": "W5LzKjKayJVL"
      }
    },
    {
      "cell_type": "code",
      "source": [
        "print(\"dog\"==\"cat\" or 6<10)"
      ],
      "metadata": {
        "colab": {
          "base_uri": "https://localhost:8080/"
        },
        "id": "f8MqoqnsyN9r",
        "outputId": "40dbf19c-351c-4b82-a244-e02adc11d1d8"
      },
      "execution_count": 16,
      "outputs": [
        {
          "output_type": "stream",
          "name": "stdout",
          "text": [
            "True\n"
          ]
        }
      ]
    },
    {
      "cell_type": "markdown",
      "source": [
        "6.Example: \"or\" operator with both False conditions\n",
        "Input: (2 == 3) or (8 > 15)\n",
        "Output: False"
      ],
      "metadata": {
        "id": "O4vi2u-XyTOp"
      }
    },
    {
      "cell_type": "code",
      "source": [
        "print(2==3 or 8>15)"
      ],
      "metadata": {
        "colab": {
          "base_uri": "https://localhost:8080/"
        },
        "id": "zUMGZB-SyWlg",
        "outputId": "46dc5ec5-7f33-48d0-94a4-f690c201b465"
      },
      "execution_count": 17,
      "outputs": [
        {
          "output_type": "stream",
          "name": "stdout",
          "text": [
            "False\n"
          ]
        }
      ]
    },
    {
      "cell_type": "markdown",
      "source": [
        "7.Example: \"not\" operator with True condition\n",
        "Input: not (4 <= 3)\n",
        "Output: True"
      ],
      "metadata": {
        "id": "E7jNZXh1ybh5"
      }
    },
    {
      "cell_type": "code",
      "source": [
        "print(not 4<=3)"
      ],
      "metadata": {
        "colab": {
          "base_uri": "https://localhost:8080/"
        },
        "id": "QyO72MDtyfH3",
        "outputId": "a27f92b2-958e-4a9c-851f-11916adf8c2b"
      },
      "execution_count": 18,
      "outputs": [
        {
          "output_type": "stream",
          "name": "stdout",
          "text": [
            "True\n"
          ]
        }
      ]
    },
    {
      "cell_type": "markdown",
      "source": [
        "8.Example: \"not\" operator with False condition\n",
        "Input: not (\"orange\" == \"orange\")\n",
        "Output: False"
      ],
      "metadata": {
        "id": "0PPZRSbFylmc"
      }
    },
    {
      "cell_type": "code",
      "source": [
        "print(not \"orange\" ==\"orange\")"
      ],
      "metadata": {
        "colab": {
          "base_uri": "https://localhost:8080/"
        },
        "id": "I2FL69xjypcS",
        "outputId": "fd15e2e2-d663-4926-aedd-32f8cf2952dc"
      },
      "execution_count": 19,
      "outputs": [
        {
          "output_type": "stream",
          "name": "stdout",
          "text": [
            "False\n"
          ]
        }
      ]
    },
    {
      "cell_type": "markdown",
      "source": [
        "9.Example: \"not\" operator with \"and\" and \"or\"\n",
        "Input: not ((5 > 3) and (\"apple\" != \"banana\"))\n",
        "Output: False"
      ],
      "metadata": {
        "id": "nkaYSCe5yuea"
      }
    },
    {
      "cell_type": "code",
      "source": [
        "print(not 5>3 and \"apple\" !=\"banana\")"
      ],
      "metadata": {
        "colab": {
          "base_uri": "https://localhost:8080/"
        },
        "id": "PWycLIUoyx21",
        "outputId": "fe558daf-9a42-4e89-bbf9-35bf29c7b3ab"
      },
      "execution_count": 20,
      "outputs": [
        {
          "output_type": "stream",
          "name": "stdout",
          "text": [
            "False\n"
          ]
        }
      ]
    },
    {
      "cell_type": "markdown",
      "source": [
        "10.Example: \"and\" and \"not\" operators combined\n",
        "Input: (10 > 5) and not (3 < 2)\n",
        "Output: True"
      ],
      "metadata": {
        "id": "sfI2uhiHzF67"
      }
    },
    {
      "cell_type": "code",
      "source": [
        "print(not 10>5 and  not 3<2 )"
      ],
      "metadata": {
        "colab": {
          "base_uri": "https://localhost:8080/"
        },
        "id": "SkllwdT_zIyC",
        "outputId": "4e85f3fd-e5cd-4e6b-dfd4-4cfa76e987d6"
      },
      "execution_count": 22,
      "outputs": [
        {
          "output_type": "stream",
          "name": "stdout",
          "text": [
            "False\n"
          ]
        }
      ]
    },
    {
      "cell_type": "markdown",
      "source": [
        "11.Example: \"or\" and \"not\" operators combined\n",
        "Input: (\"cat\" == \"cat\") or not (6 > 10)\n",
        "Output: True"
      ],
      "metadata": {
        "id": "ycRipxUszumd"
      }
    },
    {
      "cell_type": "code",
      "source": [
        "print(not \"cat\"==\"cat\" or not 6>10)"
      ],
      "metadata": {
        "colab": {
          "base_uri": "https://localhost:8080/"
        },
        "id": "t5brKZmKzyLG",
        "outputId": "aefc836d-e5c1-40fc-a8d8-5218861f2df6"
      },
      "execution_count": 23,
      "outputs": [
        {
          "output_type": "stream",
          "name": "stdout",
          "text": [
            "True\n"
          ]
        }
      ]
    },
    {
      "cell_type": "markdown",
      "source": [
        "12.Example: Using parentheses for grouping expressions\n",
        "Input: ((5 >= 3) and (10 != 10)) or (8 > 15)\n",
        "Output: False"
      ],
      "metadata": {
        "id": "N99n26g7z70s"
      }
    },
    {
      "cell_type": "code",
      "source": [
        "print(5>=3 and 10!=10 or 8>15)"
      ],
      "metadata": {
        "colab": {
          "base_uri": "https://localhost:8080/"
        },
        "id": "wtWVM-yQ0ML2",
        "outputId": "c25619a1-01e1-48c2-8523-5c77ba8592a5"
      },
      "execution_count": 25,
      "outputs": [
        {
          "output_type": "stream",
          "name": "stdout",
          "text": [
            "False\n"
          ]
        }
      ]
    },
    {
      "cell_type": "markdown",
      "source": [
        "13.Example: Combining multiple \"and\" operators\n",
        "Input: (2 < 5) and (10 == 10) and (\"hello\" != \"world\")\n",
        "Output: True"
      ],
      "metadata": {
        "id": "Nj_vqKIX0iK5"
      }
    },
    {
      "cell_type": "code",
      "source": [
        "print(2<5 and 10==10 and \"hello\"!=\"world\")"
      ],
      "metadata": {
        "colab": {
          "base_uri": "https://localhost:8080/"
        },
        "id": "ASzXrLuI0hQB",
        "outputId": "bbfa5279-70ef-439f-86f5-e6c3a2082063"
      },
      "execution_count": 26,
      "outputs": [
        {
          "output_type": "stream",
          "name": "stdout",
          "text": [
            "True\n"
          ]
        }
      ]
    },
    {
      "cell_type": "markdown",
      "source": [
        "14.Example: Combining multiple \"or\" operators\n",
        "Input: (7 < 3) or (5 >= 5) or (\"apple\" == \"apple\")\n",
        "Output: True"
      ],
      "metadata": {
        "id": "QqQsqqyM0yqW"
      }
    },
    {
      "cell_type": "code",
      "source": [
        "print(7<3 or 5>=5 or \"apple\"==\"apple\")"
      ],
      "metadata": {
        "colab": {
          "base_uri": "https://localhost:8080/"
        },
        "id": "qPXDrtdu02YH",
        "outputId": "13e92b24-eb14-4695-c849-dc67d82276d4"
      },
      "execution_count": 27,
      "outputs": [
        {
          "output_type": "stream",
          "name": "stdout",
          "text": [
            "True\n"
          ]
        }
      ]
    },
    {
      "cell_type": "markdown",
      "source": [
        "15.Example: Using \"not\" operator with an expression\n",
        "Input: not (10 > 5 and \"car\" != \"car\")\n",
        "Output: True"
      ],
      "metadata": {
        "id": "aJLQbBlU1Npc"
      }
    },
    {
      "cell_type": "code",
      "source": [
        "print(not 10>5 and \"car\" != \"car\")"
      ],
      "metadata": {
        "colab": {
          "base_uri": "https://localhost:8080/"
        },
        "id": "z9pKBCN61QSw",
        "outputId": "34197687-77d1-43f5-8b9f-bc17d5472ecf"
      },
      "execution_count": 29,
      "outputs": [
        {
          "output_type": "stream",
          "name": "stdout",
          "text": [
            "False\n"
          ]
        }
      ]
    },
    {
      "cell_type": "markdown",
      "source": [
        "16.Example: Using \"not\" operator with \"or\" and \"and\"\n",
        "Input: not (5 > 3 or \"dog\" == \"cat\" and 7 < 5)\n",
        "Output: False"
      ],
      "metadata": {
        "id": "QvOrm9X91c_N"
      }
    },
    {
      "cell_type": "code",
      "source": [
        "print(not 5>3 or \"dog\"==\"cat\" and 7<5)"
      ],
      "metadata": {
        "colab": {
          "base_uri": "https://localhost:8080/"
        },
        "id": "Gv1z5jbQ1gnP",
        "outputId": "b7415aa1-7c0d-4f13-b1ac-e424c3ad15a3"
      },
      "execution_count": 30,
      "outputs": [
        {
          "output_type": "stream",
          "name": "stdout",
          "text": [
            "False\n"
          ]
        }
      ]
    },
    {
      "cell_type": "markdown",
      "source": [
        "17.Example: Combining \"and\" and \"or\" operators\n",
        "Input: (5 > 3 and \"apple\" != \"banana\") or (8 == 8 or 6 < 10)\n",
        "Output: True"
      ],
      "metadata": {
        "id": "HzeS7cte13Cs"
      }
    },
    {
      "cell_type": "code",
      "source": [
        "print((5>3 and \"apple\"!=\"banana\")or(8==8 or 6<10))"
      ],
      "metadata": {
        "colab": {
          "base_uri": "https://localhost:8080/"
        },
        "id": "YxgQ3BMZ1501",
        "outputId": "1e5e2791-7f9a-4421-b0a0-c7ce7e9df158"
      },
      "execution_count": 31,
      "outputs": [
        {
          "output_type": "stream",
          "name": "stdout",
          "text": [
            "True\n"
          ]
        }
      ]
    },
    {
      "cell_type": "markdown",
      "source": [
        "18.Example: Combining \"or\" and \"not\" operators\n",
        "Input: (\"apple\" == \"banana\" or not (6 > 10))\n",
        "Output: True"
      ],
      "metadata": {
        "id": "fhb5EqMp2KTE"
      }
    },
    {
      "cell_type": "code",
      "source": [
        "print((\"apple\" ==\"banana\")or not(6>10))"
      ],
      "metadata": {
        "colab": {
          "base_uri": "https://localhost:8080/"
        },
        "id": "7poeaJiX2Nb5",
        "outputId": "a3ee7818-3981-4417-cf77-99d322667f97"
      },
      "execution_count": 32,
      "outputs": [
        {
          "output_type": "stream",
          "name": "stdout",
          "text": [
            "True\n"
          ]
        }
      ]
    },
    {
      "cell_type": "markdown",
      "source": [
        "19.Example: Complex combination of \"and\", \"or\", and \"not\"\n",
        "Input: not (2 < 5 and (7 > 3 or \"hello\" == \"world\"))\n",
        "Output: False"
      ],
      "metadata": {
        "id": "-C_OrFpe21o1"
      }
    },
    {
      "cell_type": "code",
      "source": [
        "print(not(2>5 and (7>3 or \"hello\"==\"world\")))"
      ],
      "metadata": {
        "colab": {
          "base_uri": "https://localhost:8080/"
        },
        "id": "vCsABevi24e5",
        "outputId": "efa5e74b-a52c-4bcb-db81-41971c7fe45f"
      },
      "execution_count": 33,
      "outputs": [
        {
          "output_type": "stream",
          "name": "stdout",
          "text": [
            "True\n"
          ]
        }
      ]
    }
  ]
}