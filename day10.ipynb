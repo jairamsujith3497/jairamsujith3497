{
  "nbformat": 4,
  "nbformat_minor": 0,
  "metadata": {
    "colab": {
      "provenance": [],
      "authorship_tag": "ABX9TyO5sAThIyqvu+/2PsBX3wKM",
      "include_colab_link": true
    },
    "kernelspec": {
      "name": "python3",
      "display_name": "Python 3"
    },
    "language_info": {
      "name": "python"
    }
  },
  "cells": [
    {
      "cell_type": "markdown",
      "metadata": {
        "id": "view-in-github",
        "colab_type": "text"
      },
      "source": [
        "<a href=\"https://colab.research.google.com/github/jairamsujith3497/jairamsujith3497/blob/main/day10.ipynb\" target=\"_parent\"><img src=\"https://colab.research.google.com/assets/colab-badge.svg\" alt=\"Open In Colab\"/></a>"
      ]
    },
    {
      "cell_type": "markdown",
      "source": [
        "nested condition statments"
      ],
      "metadata": {
        "id": "T-KLNLa8_g06"
      }
    },
    {
      "cell_type": "code",
      "source": [
        "x = 10\n",
        "\n",
        "if x > 10:\n",
        "  print(\"x is positive\")\n",
        "  if x%2 == 0:\n",
        "    print(\"x is even\")\n",
        "  else:\n",
        "    print(\"x is odd\")\n",
        "else:\n",
        "  print(\"x is not positive number\")\n",
        ""
      ],
      "metadata": {
        "colab": {
          "base_uri": "https://localhost:8080/"
        },
        "id": "IdVksDxj_liJ",
        "outputId": "91110172-f175-4e05-b1cc-516d67cd6435"
      },
      "execution_count": 5,
      "outputs": [
        {
          "output_type": "stream",
          "name": "stdout",
          "text": [
            "x is not positive number\n"
          ]
        }
      ]
    },
    {
      "cell_type": "code",
      "source": [
        "# Example 1: Nested 'if' statement\n",
        "x = 10\n",
        "\n",
        "if x > 0:\n",
        "    print(\"x is positive.\")\n",
        "    if x % 2 == 0:\n",
        "        print(\"x is even.\")\n",
        "    else:\n",
        "        print(\"x is odd.\")\n",
        "else:\n",
        "    print(\"x is not positive.\")\n"
      ],
      "metadata": {
        "colab": {
          "base_uri": "https://localhost:8080/"
        },
        "id": "rOAxOlXCAVvM",
        "outputId": "3250b985-61e7-42c4-b286-d15fed3dcbf5"
      },
      "execution_count": 4,
      "outputs": [
        {
          "output_type": "stream",
          "name": "stdout",
          "text": [
            "x is positive.\n",
            "x is even.\n"
          ]
        }
      ]
    },
    {
      "cell_type": "code",
      "source": [
        "score = 85\n",
        "\n",
        "if score >=90:\n",
        "  print(\"a\")\n",
        "elif score >=80:\n",
        "  print(\"b\")\n",
        "  if score >=85:\n",
        "    print(\"good job\")\n",
        "elif score >=70:\n",
        "  print(\"c\")\n",
        "else:\n",
        "  print(\"fail\")"
      ],
      "metadata": {
        "colab": {
          "base_uri": "https://localhost:8080/"
        },
        "id": "6nu_kiI7AdwF",
        "outputId": "95c0e82d-5eba-4cf3-8303-6ca8153b9ea2"
      },
      "execution_count": 6,
      "outputs": [
        {
          "output_type": "stream",
          "name": "stdout",
          "text": [
            "b\n",
            "good job\n"
          ]
        }
      ]
    },
    {
      "cell_type": "markdown",
      "source": [
        "Question 1:\n",
        "Check if a given number num is positive, negative, or zero."
      ],
      "metadata": {
        "id": "0z8rZwyABunA"
      }
    },
    {
      "cell_type": "code",
      "source": [
        "num = int(input(\"enter a number:\"))\n",
        "\n",
        "if num >0:\n",
        "  print(\"positive\")\n",
        "elif(num<0):\n",
        "  print(\"negative\")\n",
        "else:\n",
        "  print(\"zero\")"
      ],
      "metadata": {
        "colab": {
          "base_uri": "https://localhost:8080/"
        },
        "id": "ru8cmbXRByOp",
        "outputId": "72f62528-8cea-4046-f25a-d975933d45ef"
      },
      "execution_count": 7,
      "outputs": [
        {
          "output_type": "stream",
          "name": "stdout",
          "text": [
            "enter a number:8\n",
            "positive\n"
          ]
        }
      ]
    },
    {
      "cell_type": "markdown",
      "source": [
        "Question 2:\n",
        "Determine the type of a given number `num`: even or odd, and whether it is positive or negative.\n",
        "\n",
        "Expected Input:"
      ],
      "metadata": {
        "id": "_IliVhjDCI5O"
      }
    },
    {
      "cell_type": "code",
      "source": [
        "num = int(input(\"enter a number:\"))\n",
        "\n",
        "if num >0:\n",
        "  print(\"positive\")\n",
        "elif(num<0):\n",
        "  print(\"negative\")\n",
        "\n",
        "if num%2 ==0:\n",
        "  print(\"even\")\n",
        "elif(num%2 !=0):\n",
        "  print(\"odd\")\n",
        "\n",
        "else:\n",
        "  print(\"zero\")"
      ],
      "metadata": {
        "colab": {
          "base_uri": "https://localhost:8080/"
        },
        "id": "GduNYHIgCbh4",
        "outputId": "056b5108-1c4a-4d10-b6f6-d9fb50dcb6f3"
      },
      "execution_count": 12,
      "outputs": [
        {
          "output_type": "stream",
          "name": "stdout",
          "text": [
            "enter a number:-3\n",
            "negative\n",
            "odd\n"
          ]
        }
      ]
    },
    {
      "cell_type": "markdown",
      "source": [
        "Question 3:\n",
        "Classify a given age into four categories: baby, child, teenager, or adult."
      ],
      "metadata": {
        "id": "8Gic90VXEBfF"
      }
    },
    {
      "cell_type": "code",
      "source": [
        "age = int(input(\"enter the age:\"))\n",
        "\n",
        "if age <=14:\n",
        "  print(\"baby\")\n",
        "elif age >=18 and age<15:\n",
        "  print(\"child\")\n",
        "elif age <18 and age>=27:\n",
        "  print(\"teenager\")\n",
        "else:\n",
        "  print(\"adult\")"
      ],
      "metadata": {
        "colab": {
          "base_uri": "https://localhost:8080/"
        },
        "id": "icDtGvHkEGWO",
        "outputId": "ba89eadd-0d4d-430b-ab14-1e123a660e18"
      },
      "execution_count": 13,
      "outputs": [
        {
          "output_type": "stream",
          "name": "stdout",
          "text": [
            "enter the age:30\n",
            "adult\n"
          ]
        }
      ]
    },
    {
      "cell_type": "markdown",
      "source": [
        "Question 4:\n",
        "Assign a grade to a given percentage, considering the following grade scale: A (90-100), B (80-89), C (70-79), D (60-69), and F (below 60)"
      ],
      "metadata": {
        "id": "DJycvpGOEtSW"
      }
    },
    {
      "cell_type": "code",
      "source": [
        "def assign_grade(percentage):\n",
        "    if 90 <= percentage <= 100:\n",
        "        grade = 'A'\n",
        "    elif 80 <= percentage < 90:\n",
        "        grade = 'B'\n",
        "    elif 70 <= percentage < 80:\n",
        "        grade = 'C'\n",
        "    elif 60 <= percentage < 70:\n",
        "        grade = 'D'\n",
        "    elif percentage < 60:\n",
        "        grade = 'F'\n",
        "    else:\n",
        "        grade = 'Invalid percentage'\n",
        "\n",
        "    return f\"The grade for {percentage}% is {grade}.\"\n",
        "\n",
        "# Example usage\n",
        "percentage = float(input(\"Enter the percentage: \"))\n",
        "print(assign_grade(percentage))\n"
      ],
      "metadata": {
        "colab": {
          "base_uri": "https://localhost:8080/"
        },
        "id": "5PS266MOGB1d",
        "outputId": "ad5fd899-92d0-4e30-874d-24e7280e8800"
      },
      "execution_count": 19,
      "outputs": [
        {
          "output_type": "stream",
          "name": "stdout",
          "text": [
            "Enter the percentage: 65\n",
            "The grade for 65.0% is D.\n"
          ]
        }
      ]
    },
    {
      "cell_type": "markdown",
      "source": [
        "Question 5:\n",
        "Check if a given `year` is a leap year, and if it is, find the number of days in February for that year.\n",
        "\n",
        "Expected Input:"
      ],
      "metadata": {
        "id": "fhyY0zzfGELI"
      }
    },
    {
      "cell_type": "code",
      "source": [
        "year = int(input(\"enter the year:\"))\n",
        "\n",
        "if (year %4 ==0 and year %100!=0 or year %400 ==0):\n",
        "  print(\"leap year\")\n",
        "  print(\"feb has 29 days\")\n",
        "else:\n",
        "  print(\"not a leap year\")"
      ],
      "metadata": {
        "colab": {
          "base_uri": "https://localhost:8080/"
        },
        "id": "tpDhZTYMGMmN",
        "outputId": "67e114b2-e9a4-4262-b116-18c8b6dfe725"
      },
      "execution_count": 21,
      "outputs": [
        {
          "output_type": "stream",
          "name": "stdout",
          "text": [
            "enter the year:2023\n",
            "not a leap year\n"
          ]
        }
      ]
    }
  ]
}