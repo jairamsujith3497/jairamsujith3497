{
  "nbformat": 4,
  "nbformat_minor": 0,
  "metadata": {
    "colab": {
      "provenance": [],
      "authorship_tag": "ABX9TyPDSyYBJzLV9mlk6W/+OYk0",
      "include_colab_link": true
    },
    "kernelspec": {
      "name": "python3",
      "display_name": "Python 3"
    },
    "language_info": {
      "name": "python"
    }
  },
  "cells": [
    {
      "cell_type": "markdown",
      "metadata": {
        "id": "view-in-github",
        "colab_type": "text"
      },
      "source": [
        "<a href=\"https://colab.research.google.com/github/jairamsujith3497/jairamsujith3497/blob/main/day13_String_Methods.ipynb\" target=\"_parent\"><img src=\"https://colab.research.google.com/assets/colab-badge.svg\" alt=\"Open In Colab\"/></a>"
      ]
    },
    {
      "cell_type": "markdown",
      "source": [
        "len()-returns the length of the string"
      ],
      "metadata": {
        "id": "o_yaVhqNv2nv"
      }
    },
    {
      "cell_type": "code",
      "source": [
        "string = \"hello, world!\"\n",
        "length = len(string)\n",
        "print(length)"
      ],
      "metadata": {
        "colab": {
          "base_uri": "https://localhost:8080/"
        },
        "id": "oDeoiIfxwR_q",
        "outputId": "66ed46cf-e3e5-42bb-9fbe-dd82264eb6b7"
      },
      "execution_count": 3,
      "outputs": [
        {
          "output_type": "stream",
          "name": "stdout",
          "text": [
            "13\n"
          ]
        }
      ]
    },
    {
      "cell_type": "markdown",
      "source": [
        "lower(): Converts all characters in the string to lowercase."
      ],
      "metadata": {
        "id": "yYQJFm2HxjZQ"
      }
    },
    {
      "cell_type": "code",
      "source": [
        "string = \"HELLO,WORLD!\"\n",
        "low_str = string.lower()\n",
        "print(low_str)"
      ],
      "metadata": {
        "colab": {
          "base_uri": "https://localhost:8080/"
        },
        "id": "INYFutp4xoMI",
        "outputId": "d5dc1355-fae4-4a59-d00d-f90765e8a7f8"
      },
      "execution_count": 4,
      "outputs": [
        {
          "output_type": "stream",
          "name": "stdout",
          "text": [
            "hello,world!\n"
          ]
        }
      ]
    },
    {
      "cell_type": "markdown",
      "source": [
        "upper()=converts all characters into upper case"
      ],
      "metadata": {
        "id": "J0X7PoigyeeG"
      }
    },
    {
      "cell_type": "code",
      "source": [
        "string = \"rinky is good\"\n",
        "upp_str = string.upper()\n",
        "print(upp_str)"
      ],
      "metadata": {
        "colab": {
          "base_uri": "https://localhost:8080/"
        },
        "id": "NvEdfCjLybLs",
        "outputId": "26af84ee-b9f7-4a92-956e-9e585789f8ba"
      },
      "execution_count": 5,
      "outputs": [
        {
          "output_type": "stream",
          "name": "stdout",
          "text": [
            "RINKY IS GOOD\n"
          ]
        }
      ]
    },
    {
      "cell_type": "markdown",
      "source": [
        "strip(): Removes leading and trailing whitespaces from the string."
      ],
      "metadata": {
        "id": "bPBFSalX6cBA"
      }
    },
    {
      "cell_type": "code",
      "source": [
        "string = \"   hello,world!\"\n",
        "strip_str = string.strip()\n",
        "print(strip_str)"
      ],
      "metadata": {
        "colab": {
          "base_uri": "https://localhost:8080/"
        },
        "id": "GQ0ZhStp6dY5",
        "outputId": "a5816995-7548-44fb-878f-a069a7023564"
      },
      "execution_count": 7,
      "outputs": [
        {
          "output_type": "stream",
          "name": "stdout",
          "text": [
            "hello,world!\n"
          ]
        }
      ]
    },
    {
      "cell_type": "markdown",
      "source": [
        "replace(): Replaces occurrences of a substring with another substring."
      ],
      "metadata": {
        "id": "Eds0fXPu6suN"
      }
    },
    {
      "cell_type": "code",
      "source": [
        "string = \"hello,world\"\n",
        "str_replace = string.replace(\"hello\",\"hi\")\n",
        "print(str_replace)"
      ],
      "metadata": {
        "colab": {
          "base_uri": "https://localhost:8080/"
        },
        "id": "H2gKEkel6vlg",
        "outputId": "d0695e14-df61-4506-b49e-307c2c5c118f"
      },
      "execution_count": 8,
      "outputs": [
        {
          "output_type": "stream",
          "name": "stdout",
          "text": [
            "hi,world\n"
          ]
        }
      ]
    },
    {
      "cell_type": "markdown",
      "source": [
        "split(): Splits the string into a list of substrings based on a delimiter."
      ],
      "metadata": {
        "id": "Ai4nnynz7Az4"
      }
    },
    {
      "cell_type": "code",
      "source": [
        "string = \"apple,banana,cherry\"\n",
        "str_split = string.split(\",\")\n",
        "print(str_split)"
      ],
      "metadata": {
        "colab": {
          "base_uri": "https://localhost:8080/"
        },
        "id": "6sSQ9KfH7Gzd",
        "outputId": "6434d449-638d-4169-b5b9-56553600d7e7"
      },
      "execution_count": 9,
      "outputs": [
        {
          "output_type": "stream",
          "name": "stdout",
          "text": [
            "['apple', 'banana', 'cherry']\n"
          ]
        }
      ]
    },
    {
      "cell_type": "markdown",
      "source": [
        "startswith(): Checks if the string starts with a specific prefix."
      ],
      "metadata": {
        "id": "qJLlM59h7dwS"
      }
    },
    {
      "cell_type": "code",
      "source": [
        "string = \"hello,world\"\n",
        "str_startswith = string.startswith(\"hello\")\n",
        "print(str_startswith)"
      ],
      "metadata": {
        "colab": {
          "base_uri": "https://localhost:8080/"
        },
        "id": "drlqJHL67fWp",
        "outputId": "9e78b456-40d1-4fb6-d758-4c8c76480c81"
      },
      "execution_count": 10,
      "outputs": [
        {
          "output_type": "stream",
          "name": "stdout",
          "text": [
            "True\n"
          ]
        }
      ]
    },
    {
      "cell_type": "markdown",
      "source": [
        "ends with():checks if the string end with a specific prefix"
      ],
      "metadata": {
        "id": "TJTQB_c27uOT"
      }
    },
    {
      "cell_type": "code",
      "source": [
        "string = \"hello, world\"\n",
        "str_endswith = string.endswith(\"world\")\n",
        "print(str_endswith)"
      ],
      "metadata": {
        "colab": {
          "base_uri": "https://localhost:8080/"
        },
        "id": "BTtGYLkL77Rn",
        "outputId": "c76bfb63-e849-4ed4-9573-deb56a493768"
      },
      "execution_count": 13,
      "outputs": [
        {
          "output_type": "stream",
          "name": "stdout",
          "text": [
            "True\n"
          ]
        }
      ]
    },
    {
      "cell_type": "markdown",
      "source": [
        "count(): Returns the number of occurrences of a substring in the string."
      ],
      "metadata": {
        "id": "HLNf4FBr8UkJ"
      }
    },
    {
      "cell_type": "code",
      "source": [
        "string = \"hello,world!\"\n",
        "count = string.count(\"l\")\n",
        "print(count)"
      ],
      "metadata": {
        "colab": {
          "base_uri": "https://localhost:8080/"
        },
        "id": "wqgg9NMT8YRQ",
        "outputId": "dd12a663-61e9-4fa3-dbde-b2d41b34b90f"
      },
      "execution_count": 15,
      "outputs": [
        {
          "output_type": "stream",
          "name": "stdout",
          "text": [
            "3\n"
          ]
        }
      ]
    },
    {
      "cell_type": "markdown",
      "source": [
        "find(): Returns the index of the first occurrence of a substring. If not found, returns -1."
      ],
      "metadata": {
        "id": "iEnAqlig4VcT"
      }
    },
    {
      "cell_type": "code",
      "source": [
        "string = \"hello,world!\"\n",
        "index = string.find(\"d\")\n",
        "print(index)"
      ],
      "metadata": {
        "colab": {
          "base_uri": "https://localhost:8080/"
        },
        "id": "H9-tm42k4Pl9",
        "outputId": "45217108-2652-4b70-ab5a-8589fd31f469"
      },
      "execution_count": 1,
      "outputs": [
        {
          "output_type": "stream",
          "name": "stdout",
          "text": [
            "10\n"
          ]
        }
      ]
    },
    {
      "cell_type": "markdown",
      "source": [
        "isdigit(): Checks if all characters in the string are digits."
      ],
      "metadata": {
        "id": "i8FeR13R5SbF"
      }
    },
    {
      "cell_type": "code",
      "source": [
        "string = \"12345\"\n",
        "str_isdigit = string.isdigit()\n",
        "print(str_isdigit)"
      ],
      "metadata": {
        "colab": {
          "base_uri": "https://localhost:8080/"
        },
        "id": "lLhgwlQd5YUT",
        "outputId": "cb0040a4-0459-4ad0-d881-b94055d76068"
      },
      "execution_count": 2,
      "outputs": [
        {
          "output_type": "stream",
          "name": "stdout",
          "text": [
            "True\n"
          ]
        }
      ]
    },
    {
      "cell_type": "markdown",
      "source": [
        "isalpha(): Checks if all characters in the string are alphabetic."
      ],
      "metadata": {
        "id": "NYBXzHMH5zJk"
      }
    },
    {
      "cell_type": "code",
      "source": [
        "string = \"hello\"\n",
        "str_isalpha = string.isalpha()\n",
        "print(str_isalpha)"
      ],
      "metadata": {
        "colab": {
          "base_uri": "https://localhost:8080/"
        },
        "id": "_RFqBVwS53pY",
        "outputId": "6bf13590-4b04-4ef9-9345-2427ff0599b0"
      },
      "execution_count": 3,
      "outputs": [
        {
          "output_type": "stream",
          "name": "stdout",
          "text": [
            "True\n"
          ]
        }
      ]
    },
    {
      "cell_type": "markdown",
      "source": [
        "#PRACTISE QUESTIONS"
      ],
      "metadata": {
        "id": "uJvsruH_8Alp"
      }
    },
    {
      "cell_type": "code",
      "source": [
        "str = \"hello world\"\n",
        "str_upper = str.upper()\n",
        "print(str_upper)"
      ],
      "metadata": {
        "colab": {
          "base_uri": "https://localhost:8080/"
        },
        "id": "TWE9oY7e8QjQ",
        "outputId": "198b79f0-fae3-4d1b-f35c-a0fa54cc3065"
      },
      "execution_count": 4,
      "outputs": [
        {
          "output_type": "stream",
          "name": "stdout",
          "text": [
            "HELLO WORLD\n"
          ]
        }
      ]
    },
    {
      "cell_type": "markdown",
      "source": [
        "Given a string \"Hello, World!\", find its length using the len() method.\n",
        "Input: \"Hello, World!\"\n",
        "Expected Output: 13"
      ],
      "metadata": {
        "id": "YqubZF3M8ftm"
      }
    },
    {
      "cell_type": "code",
      "source": [
        "string = \"hello,world!\"\n",
        "str_length = len(string)\n",
        "print(str_length)"
      ],
      "metadata": {
        "colab": {
          "base_uri": "https://localhost:8080/"
        },
        "id": "9WZ8fJxQ8iyp",
        "outputId": "9006c6e6-10e8-42b0-fc6b-9e953e328bb4"
      },
      "execution_count": 10,
      "outputs": [
        {
          "output_type": "stream",
          "name": "stdout",
          "text": [
            "12\n"
          ]
        }
      ]
    },
    {
      "cell_type": "markdown",
      "source": [
        "Write a Python function that takes a string as input and converts it to uppercase using the upper() method.\n",
        "Input: \"Hello, World!\"\n",
        "Expected Output: \"HELLO, WORLD!\""
      ],
      "metadata": {
        "id": "KoJMXvxT88z4"
      }
    },
    {
      "cell_type": "code",
      "source": [
        "str = \"hello,world!\"\n",
        "str_upper = str.upper()\n",
        "print(str_upper)"
      ],
      "metadata": {
        "colab": {
          "base_uri": "https://localhost:8080/"
        },
        "id": "jCUYAZH99DKE",
        "outputId": "63de41e4-6784-4491-d363-2d4a853853c4"
      },
      "execution_count": 11,
      "outputs": [
        {
          "output_type": "stream",
          "name": "stdout",
          "text": [
            "HELLO,WORLD!\n"
          ]
        }
      ]
    },
    {
      "cell_type": "markdown",
      "source": [
        "Given a string \"Hello123\", check if it contains only alphabetic characters using the isalpha() method.\n",
        "Input: \"Hello123\"\n",
        "Expected Output: False"
      ],
      "metadata": {
        "id": "JsS1F-889Nby"
      }
    },
    {
      "cell_type": "code",
      "source": [
        "str = \"hello123\"\n",
        "str_islpha = str.isalpha()\n",
        "print(str_isalpha)"
      ],
      "metadata": {
        "colab": {
          "base_uri": "https://localhost:8080/"
        },
        "id": "vIll-oF09T2R",
        "outputId": "9137471b-f812-42cd-fd61-d323ae06ce29"
      },
      "execution_count": 12,
      "outputs": [
        {
          "output_type": "stream",
          "name": "stdout",
          "text": [
            "True\n"
          ]
        }
      ]
    },
    {
      "cell_type": "markdown",
      "source": [
        "Write a Python program that takes a user input string with leading and trailing whitespaces and removes them using the strip() method.\n",
        "Input: \" Python Programming \"\n",
        "Expected Output: \"Python Programming\""
      ],
      "metadata": {
        "id": "jNQtRtEZ9c17"
      }
    },
    {
      "cell_type": "code",
      "source": [
        "str = \" python programming  \"\n",
        "str_strip = str.strip()\n",
        "print(str_strip)"
      ],
      "metadata": {
        "colab": {
          "base_uri": "https://localhost:8080/"
        },
        "id": "sEiIY9Nq9lV2",
        "outputId": "5e8a9d6b-73ba-456c-87d7-3f604168b96c"
      },
      "execution_count": 13,
      "outputs": [
        {
          "output_type": "stream",
          "name": "stdout",
          "text": [
            "python programming\n"
          ]
        }
      ]
    },
    {
      "cell_type": "markdown",
      "source": [
        "Given a string \"I love Python programming\", split it into words using the split() method and print each word on a new line.\n",
        "Input: \"I love Python programming\"\n",
        "Expected Output:"
      ],
      "metadata": {
        "id": "iQodBzXs9yHL"
      }
    },
    {
      "cell_type": "code",
      "source": [
        "str = \"i love python programming\"\n",
        "str_split = str.split()\n",
        "for words in str_split:\n",
        "  print(words)"
      ],
      "metadata": {
        "colab": {
          "base_uri": "https://localhost:8080/"
        },
        "id": "mEtHTfVM92kE",
        "outputId": "31088180-1ba6-4fb5-fe53-8365c3548330"
      },
      "execution_count": 17,
      "outputs": [
        {
          "output_type": "stream",
          "name": "stdout",
          "text": [
            "i\n",
            "love\n",
            "python\n",
            "programming\n"
          ]
        }
      ]
    },
    {
      "cell_type": "markdown",
      "source": [
        "Write a Python program that takes a user input string and replaces all occurrences of \"Python\" with \"Java\" using the replace() method.\n",
        "Input: \"I love Python programming, Python is great.\"\n",
        "Expected Output: \"I love Java programming, Java is great.\""
      ],
      "metadata": {
        "id": "WzzjzRUb-eqO"
      }
    },
    {
      "cell_type": "code",
      "source": [
        "string = \"i love python programming,python is great\"\n",
        "str_replace = string.replace(\"java,\", \"python\")\n",
        "print(str_replace)"
      ],
      "metadata": {
        "colab": {
          "base_uri": "https://localhost:8080/"
        },
        "id": "K901dIMQ-gyP",
        "outputId": "60bbbe6f-2177-47a1-8a7f-ce3a84bead78"
      },
      "execution_count": 21,
      "outputs": [
        {
          "output_type": "stream",
          "name": "stdout",
          "text": [
            "i love python programming,python is great\n"
          ]
        }
      ]
    },
    {
      "cell_type": "markdown",
      "source": [
        "Given a string \"banana\", count the occurrences of the letter \"a\" using the count() method.\n",
        "Input: \"banana\"\n",
        "Expected Output: 3"
      ],
      "metadata": {
        "id": "0zMQ4Cu1HlbN"
      }
    },
    {
      "cell_type": "code",
      "source": [
        "string = \"banana\"\n",
        "str_count = string.count(\"a\")\n",
        "print(str_count)"
      ],
      "metadata": {
        "colab": {
          "base_uri": "https://localhost:8080/"
        },
        "id": "TtfxJxoWHmmA",
        "outputId": "b3f7d4a7-6cde-474b-da31-47f061e31a91"
      },
      "execution_count": 22,
      "outputs": [
        {
          "output_type": "stream",
          "name": "stdout",
          "text": [
            "3\n"
          ]
        }
      ]
    },
    {
      "cell_type": "markdown",
      "source": [
        "Write a Python program that takes a user input string and finds the index of the first occurrence of the letter \"l\" using the find() method.\n",
        "Input: \"Hello, World!\"\n",
        "Expected Output: 2"
      ],
      "metadata": {
        "id": "AaI-hduUHuQP"
      }
    },
    {
      "cell_type": "code",
      "source": [
        "string =\"hello,world!\"\n",
        "str_find = string.find(\"l\")\n",
        "print(str_find)"
      ],
      "metadata": {
        "colab": {
          "base_uri": "https://localhost:8080/"
        },
        "id": "H7I-Pja_Hztu",
        "outputId": "05410202-2859-4322-f3c9-e8f3187c909a"
      },
      "execution_count": 24,
      "outputs": [
        {
          "output_type": "stream",
          "name": "stdout",
          "text": [
            "2\n"
          ]
        }
      ]
    },
    {
      "cell_type": "markdown",
      "source": [
        "Given a string \"12345\", check if it consists of only digits using the isdigit() method.\n",
        "Input: \"12345\"\n",
        "Expected Output: True"
      ],
      "metadata": {
        "id": "VCci2vEXIBP_"
      }
    },
    {
      "cell_type": "code",
      "source": [
        "string = \"12345\"\n",
        "str_digit= string.isdigit()\n",
        "print(str_digit)"
      ],
      "metadata": {
        "colab": {
          "base_uri": "https://localhost:8080/"
        },
        "id": "j3So9nYkIA8U",
        "outputId": "9fdb57b2-0f4f-44ce-c02a-cde4d3b75d6d"
      },
      "execution_count": 25,
      "outputs": [
        {
          "output_type": "stream",
          "name": "stdout",
          "text": [
            "True\n"
          ]
        }
      ]
    }
  ]
}