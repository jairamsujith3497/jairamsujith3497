{
  "nbformat": 4,
  "nbformat_minor": 0,
  "metadata": {
    "colab": {
      "provenance": [],
      "authorship_tag": "ABX9TyNgaDRg03GyWbHqWw7jtce2",
      "include_colab_link": true
    },
    "kernelspec": {
      "name": "python3",
      "display_name": "Python 3"
    },
    "language_info": {
      "name": "python"
    }
  },
  "cells": [
    {
      "cell_type": "markdown",
      "metadata": {
        "id": "view-in-github",
        "colab_type": "text"
      },
      "source": [
        "<a href=\"https://colab.research.google.com/github/jairamsujith3497/jairamsujith3497/blob/main/string_comparison.ipynb\" target=\"_parent\"><img src=\"https://colab.research.google.com/assets/colab-badge.svg\" alt=\"Open In Colab\"/></a>"
      ]
    },
    {
      "cell_type": "markdown",
      "source": [
        "we have 2 types of string comparision\n",
        "\n",
        "equality and non equality strings\n"
      ],
      "metadata": {
        "id": "u3K1B58sdT3v"
      }
    },
    {
      "cell_type": "code",
      "source": [
        "# Example: Equality and inequality comparison\n",
        "string1 = \"hello\"\n",
        "string2 = \"Hello\"\n",
        "\n",
        "if string1 == string2:\n",
        "    print(\"Both strings are equal.\")\n",
        "else:\n",
        "    print(\"The strings are not equal.\")\n",
        "\n",
        "if string1 != string2:\n",
        "    print(\"The strings are not equal.\")\n",
        "else:\n",
        "    print(\"Both strings are equal.\")\n"
      ],
      "metadata": {
        "colab": {
          "base_uri": "https://localhost:8080/"
        },
        "id": "7cnmEkvvdd6j",
        "outputId": "970869ac-a87d-4926-834a-78e0a9e9599c"
      },
      "execution_count": 1,
      "outputs": [
        {
          "output_type": "stream",
          "name": "stdout",
          "text": [
            "The strings are not equal.\n",
            "The strings are not equal.\n"
          ]
        }
      ]
    },
    {
      "cell_type": "code",
      "source": [
        "# Example: Lexicographical comparison\n",
        "string1 = \"apple\"\n",
        "string2 = \"banana\"\n",
        "\n",
        "if string1 < string2:\n",
        "    print(\"string1 comes before string2.\")\n",
        "else:\n",
        "    print(\"string1 comes after or is equal to string2.\")\n",
        "\n",
        "if string1 <= string2:\n",
        "    print(\"string1 comes before or is equal to string2.\")\n",
        "else:\n",
        "    print(\"string1 comes after string2.\")\n",
        "\n",
        "if string1 > string2:\n",
        "    print(\"string1 comes after string2.\")\n",
        "else:\n",
        "    print(\"string1 comes before or is equal to string2.\")\n",
        "\n",
        "if string1 >= string2:\n",
        "    print(\"string1 comes after or is equal to string2.\")\n",
        "else:\n",
        "    print(\"string1 comes before string2.\")\n"
      ],
      "metadata": {
        "colab": {
          "base_uri": "https://localhost:8080/"
        },
        "id": "qw6Tz1w-dpdY",
        "outputId": "17ef170a-191a-4a1d-bef3-6410ba3478d9"
      },
      "execution_count": 2,
      "outputs": [
        {
          "output_type": "stream",
          "name": "stdout",
          "text": [
            "string1 comes before string2.\n",
            "string1 comes before or is equal to string2.\n",
            "string1 comes before or is equal to string2.\n",
            "string1 comes before string2.\n"
          ]
        }
      ]
    },
    {
      "cell_type": "markdown",
      "source": [
        "practise questitions\n"
      ],
      "metadata": {
        "id": "Gi5zeYezd35l"
      }
    },
    {
      "cell_type": "markdown",
      "source": [
        "1. Given two strings \"Python\" and \"python\", check if they are equal using the equality operator (`==`).\n",
        "    \n",
        "    Input: \"Python\", \"python\"\n",
        "    Expected Output: False"
      ],
      "metadata": {
        "id": "N1TV5vD_d6L4"
      }
    },
    {
      "cell_type": "code",
      "source": [
        "string1=\"Python\"\n",
        "string2=\"python\"\n",
        "if string1==string2:\n",
        "  print(\"true\")\n",
        "else:\n",
        "  print(\"false\")"
      ],
      "metadata": {
        "colab": {
          "base_uri": "https://localhost:8080/"
        },
        "id": "xo2xvMCRd9Xt",
        "outputId": "9ae8a3e8-b96b-42ce-ce5c-cf5fb88907b8"
      },
      "execution_count": 3,
      "outputs": [
        {
          "output_type": "stream",
          "name": "stdout",
          "text": [
            "false\n"
          ]
        }
      ]
    },
    {
      "cell_type": "markdown",
      "source": [
        "2. Write a Python function that takes a string as input and checks if it is an empty string using the equality operator (`==`).\n",
        "    \n",
        "    Input: \"\"\n",
        "    Expected Output: True"
      ],
      "metadata": {
        "id": "1-IeNPXDeMEE"
      }
    },
    {
      "cell_type": "code",
      "source": [
        "string1=\"\"\n",
        "if string1==\"\":\n",
        "  print(\"true\")\n",
        "else:\n",
        "  print(\"false\")"
      ],
      "metadata": {
        "colab": {
          "base_uri": "https://localhost:8080/"
        },
        "id": "oJgx7SLHeQJ_",
        "outputId": "cef39ec5-05fb-46a9-e5cf-73a14c45bb47"
      },
      "execution_count": 5,
      "outputs": [
        {
          "output_type": "stream",
          "name": "stdout",
          "text": [
            "true\n"
          ]
        }
      ]
    },
    {
      "cell_type": "code",
      "source": [],
      "metadata": {
        "id": "jOhWHC-LeWKK"
      },
      "execution_count": null,
      "outputs": []
    }
  ]
}