{
  "nbformat": 4,
  "nbformat_minor": 0,
  "metadata": {
    "colab": {
      "provenance": [],
      "authorship_tag": "ABX9TyPslx7L/1GbzhtPnfF5fbAi",
      "include_colab_link": true
    },
    "kernelspec": {
      "name": "python3",
      "display_name": "Python 3"
    },
    "language_info": {
      "name": "python"
    }
  },
  "cells": [
    {
      "cell_type": "markdown",
      "metadata": {
        "id": "view-in-github",
        "colab_type": "text"
      },
      "source": [
        "<a href=\"https://colab.research.google.com/github/jairamsujith3497/jairamsujith3497/blob/main/day1.ipynb\" target=\"_parent\"><img src=\"https://colab.research.google.com/assets/colab-badge.svg\" alt=\"Open In Colab\"/></a>"
      ]
    },
    {
      "cell_type": "code",
      "execution_count": 1,
      "metadata": {
        "colab": {
          "base_uri": "https://localhost:8080/"
        },
        "id": "dQWjK4TfgVbw",
        "outputId": "bc197ddc-11de-46ff-d654-a79639bf5d6c"
      },
      "outputs": [
        {
          "output_type": "stream",
          "name": "stdout",
          "text": [
            "hello python!\n"
          ]
        }
      ],
      "source": [
        "print(\"hello python!\")"
      ]
    },
    {
      "cell_type": "markdown",
      "source": [
        " addition, subtraction, multiplication, division"
      ],
      "metadata": {
        "id": "E5z8MYXYlKNo"
      }
    },
    {
      "cell_type": "code",
      "source": [
        "print(2+5)"
      ],
      "metadata": {
        "colab": {
          "base_uri": "https://localhost:8080/"
        },
        "id": "sz2EPRbllK-9",
        "outputId": "49263cd5-51b7-4e1f-86a7-0abca403edf2"
      },
      "execution_count": 2,
      "outputs": [
        {
          "output_type": "stream",
          "name": "stdout",
          "text": [
            "7\n"
          ]
        }
      ]
    },
    {
      "cell_type": "code",
      "source": [
        "print(2/5)"
      ],
      "metadata": {
        "colab": {
          "base_uri": "https://localhost:8080/"
        },
        "id": "Bqt-8ejUlN_P",
        "outputId": "d5f17096-bf56-4c8e-8aeb-7a424fd73791"
      },
      "execution_count": 3,
      "outputs": [
        {
          "output_type": "stream",
          "name": "stdout",
          "text": [
            "0.4\n"
          ]
        }
      ]
    },
    {
      "cell_type": "code",
      "source": [
        "print(2**3)"
      ],
      "metadata": {
        "colab": {
          "base_uri": "https://localhost:8080/"
        },
        "id": "g4Kw83znlRkS",
        "outputId": "64b8f23f-cec6-414a-e084-0b483587cad1"
      },
      "execution_count": 4,
      "outputs": [
        {
          "output_type": "stream",
          "name": "stdout",
          "text": [
            "8\n"
          ]
        }
      ]
    },
    {
      "cell_type": "code",
      "source": [
        "print(2-5)"
      ],
      "metadata": {
        "colab": {
          "base_uri": "https://localhost:8080/"
        },
        "id": "l5bqzAPYlUtm",
        "outputId": "e928fb1a-b7af-47c5-9960-73fedc1b378d"
      },
      "execution_count": 5,
      "outputs": [
        {
          "output_type": "stream",
          "name": "stdout",
          "text": [
            "-3\n"
          ]
        }
      ]
    },
    {
      "cell_type": "markdown",
      "source": [
        "Assigning Variables"
      ],
      "metadata": {
        "id": "Zl3JfVkulb5v"
      }
    },
    {
      "cell_type": "code",
      "source": [
        "a = \"Sujith\"\n",
        "b=\"jairam\"\n",
        "c=\"yarram\""
      ],
      "metadata": {
        "id": "VQ791CxYlc3_"
      },
      "execution_count": 9,
      "outputs": []
    },
    {
      "cell_type": "code",
      "source": [
        "d =a+\" \"+b+\" \"+c"
      ],
      "metadata": {
        "id": "H3GGMCi1liTI"
      },
      "execution_count": 11,
      "outputs": []
    },
    {
      "cell_type": "code",
      "source": [
        "print(d)"
      ],
      "metadata": {
        "colab": {
          "base_uri": "https://localhost:8080/"
        },
        "id": "Sg8aMzR9l1zI",
        "outputId": "4228dcbc-8b40-4740-f91f-c5e73d7242ef"
      },
      "execution_count": 12,
      "outputs": [
        {
          "output_type": "stream",
          "name": "stdout",
          "text": [
            "Sujith jairam yarram\n"
          ]
        }
      ]
    },
    {
      "cell_type": "markdown",
      "source": [
        "Taking Input from User"
      ],
      "metadata": {
        "id": "YJOlVlq4mAJR"
      }
    },
    {
      "cell_type": "code",
      "source": [
        "a = input(\"enter your name: \")\n",
        "print(\"varsha loves \"+a)"
      ],
      "metadata": {
        "colab": {
          "base_uri": "https://localhost:8080/"
        },
        "id": "9b12ccy3l_nI",
        "outputId": "be78bfee-9278-428d-ce74-c277c03170c1"
      },
      "execution_count": 14,
      "outputs": [
        {
          "output_type": "stream",
          "name": "stdout",
          "text": [
            "enter your name: jairam sujith yarram\n",
            "varsha loves jairam sujith yarram\n"
          ]
        }
      ]
    },
    {
      "cell_type": "markdown",
      "source": [
        "### Questions to Practice (Day 1):\n",
        "\n",
        "1. Print your name.\n",
        "2. Print the result of adding two numbers.\n",
        "3. Print the result of subtracting two numbers.\n",
        "4. Print the result of multiplying two numbers.\n",
        "5. Print the result of dividing two numbers."
      ],
      "metadata": {
        "id": "PiyOYC8lmdcx"
      }
    },
    {
      "cell_type": "code",
      "source": [
        "a=input(\"enter your name:\")\n",
        "print(\"my name is \"+a)"
      ],
      "metadata": {
        "colab": {
          "base_uri": "https://localhost:8080/"
        },
        "id": "GEnTzA-Pmha7",
        "outputId": "09b3e069-b31e-40b5-ac1c-36198543b9db"
      },
      "execution_count": 15,
      "outputs": [
        {
          "output_type": "stream",
          "name": "stdout",
          "text": [
            "enter your name:jairam sujith yarram\n",
            "my name is jairam sujith yarram\n"
          ]
        }
      ]
    },
    {
      "cell_type": "code",
      "source": [
        "a = int(input(\"enter first number :\"))\n",
        "b = int(input(\"enter secound number:\"))\n",
        "print(a+b)\n"
      ],
      "metadata": {
        "colab": {
          "base_uri": "https://localhost:8080/"
        },
        "id": "F9GpkiG8mq2t",
        "outputId": "6b0e2e3c-7542-48ef-f3e6-c45c528cb727"
      },
      "execution_count": 19,
      "outputs": [
        {
          "output_type": "stream",
          "name": "stdout",
          "text": [
            "enter first number :10\n",
            "enter secound number:20\n",
            "30\n"
          ]
        }
      ]
    },
    {
      "cell_type": "code",
      "source": [
        "a = int(input(\"enter first number :\"))\n",
        "b = int(input(\"enter secound number:\"))\n",
        "c=a-b\n",
        "print(c)"
      ],
      "metadata": {
        "colab": {
          "base_uri": "https://localhost:8080/"
        },
        "id": "BHAt9_p8nRxt",
        "outputId": "26037a9b-137e-48ca-d136-d4b121b9a6b9"
      },
      "execution_count": 20,
      "outputs": [
        {
          "output_type": "stream",
          "name": "stdout",
          "text": [
            "enter first number :20\n",
            "enter secound number:40\n",
            "-20\n"
          ]
        }
      ]
    },
    {
      "cell_type": "code",
      "source": [
        "a = int(input(\"enter first number :\"))\n",
        "b = int(input(\"enter secound number:\"))\n",
        "c=a*b\n",
        "print(c)"
      ],
      "metadata": {
        "colab": {
          "base_uri": "https://localhost:8080/"
        },
        "id": "w7b9zPrNncWh",
        "outputId": "be573e2d-7580-41cd-ffdc-6c40aaeeea80"
      },
      "execution_count": 21,
      "outputs": [
        {
          "output_type": "stream",
          "name": "stdout",
          "text": [
            "enter first number :30\n",
            "enter secound number:20\n",
            "600\n"
          ]
        }
      ]
    },
    {
      "cell_type": "code",
      "source": [
        "a = int(input(\"enter first number :\"))\n",
        "b = int(input(\"enter secound number:\"))\n",
        "print(a/b)\n"
      ],
      "metadata": {
        "colab": {
          "base_uri": "https://localhost:8080/"
        },
        "id": "L68zBMWinh6C",
        "outputId": "bd10114c-7dd3-4d48-ef3f-fc2a825037ba"
      },
      "execution_count": 22,
      "outputs": [
        {
          "output_type": "stream",
          "name": "stdout",
          "text": [
            "enter first number :20\n",
            "enter secound number:30\n",
            "0.6666666666666666\n"
          ]
        }
      ]
    }
  ]
}