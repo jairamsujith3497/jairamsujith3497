{
  "nbformat": 4,
  "nbformat_minor": 0,
  "metadata": {
    "colab": {
      "provenance": [],
      "authorship_tag": "ABX9TyNSWsUwPTfZ3mlgiWRzrkCT",
      "include_colab_link": true
    },
    "kernelspec": {
      "name": "python3",
      "display_name": "Python 3"
    },
    "language_info": {
      "name": "python"
    }
  },
  "cells": [
    {
      "cell_type": "markdown",
      "metadata": {
        "id": "view-in-github",
        "colab_type": "text"
      },
      "source": [
        "<a href=\"https://colab.research.google.com/github/jairamsujith3497/jairamsujith3497/blob/main/Functions_23.ipynb\" target=\"_parent\"><img src=\"https://colab.research.google.com/assets/colab-badge.svg\" alt=\"Open In Colab\"/></a>"
      ]
    },
    {
      "cell_type": "markdown",
      "source": [
        "Functions ni vaadi manam reusable code ni ithe create cheyachu mowa. Functions manaku code ni proper ga organise cheskodaniki upayogapadtay!\n",
        "\n",
        "Creating a Function:\n",
        "To define a function, you use the `def` keyword, followed by the function name, a pair of parentheses `()`, and a colon `:`. The code block inside the function is indented and contains the instructions that the function will execute when called."
      ],
      "metadata": {
        "id": "g6qiUZYDAued"
      }
    },
    {
      "cell_type": "code",
      "source": [
        "def greet():\n",
        "  print(\"hello world\")\n",
        "\n",
        "greet()\n",
        "##print(\"hey\"+greet())"
      ],
      "metadata": {
        "colab": {
          "base_uri": "https://localhost:8080/"
        },
        "id": "Uu6BZy24A35g",
        "outputId": "bee6c3e9-0080-44b4-b4a0-60b372d1701d"
      },
      "execution_count": 3,
      "outputs": [
        {
          "output_type": "stream",
          "name": "stdout",
          "text": [
            "hello world\n"
          ]
        }
      ]
    },
    {
      "cell_type": "markdown",
      "source": [
        "Function Parameters:\n",
        "You can define parameters inside the parentheses to pass data into the function. Parameters act as placeholders for the actual values that you provide when calling the function"
      ],
      "metadata": {
        "id": "8hX7ACrfBtcH"
      }
    },
    {
      "cell_type": "code",
      "source": [
        "def greet_user(name):\n",
        "  print(f\"hello, {name}!\")\n",
        "\n",
        "greet_user(\"Alice\")\n"
      ],
      "metadata": {
        "colab": {
          "base_uri": "https://localhost:8080/"
        },
        "id": "SFQl7_ikBvjV",
        "outputId": "7d33d391-3d64-4233-a28b-60e31ea645e7"
      },
      "execution_count": 4,
      "outputs": [
        {
          "output_type": "stream",
          "name": "stdout",
          "text": [
            "hello, Alice!\n"
          ]
        }
      ]
    },
    {
      "cell_type": "markdown",
      "source": [
        "Functions can return values using the return keyword. When a function returns a value, you can capture it and use it elsewhere in your code."
      ],
      "metadata": {
        "id": "fuhHbGPcCLYN"
      }
    },
    {
      "cell_type": "code",
      "source": [
        "def add_numbers(a,b):\n",
        "  return(a+b)\n",
        "\n",
        "add_numbers(10,20)"
      ],
      "metadata": {
        "colab": {
          "base_uri": "https://localhost:8080/"
        },
        "id": "ehQfJT0RCDww",
        "outputId": "4556d1e6-4f1b-4b36-f267-37eef0bdc36f"
      },
      "execution_count": 5,
      "outputs": [
        {
          "output_type": "execute_result",
          "data": {
            "text/plain": [
              "30"
            ]
          },
          "metadata": {},
          "execution_count": 5
        }
      ]
    },
    {
      "cell_type": "markdown",
      "source": [
        "### Questions to practice (Day - 23):\n",
        "\n",
        "**Problem 1: Simple function without parameters**\n",
        "Write a function called `greet` that takes no parameters and returns the string \"Hello, World!\"\n",
        "\n",
        "Expected Output:"
      ],
      "metadata": {
        "id": "lLLe-nd4CjIE"
      }
    },
    {
      "cell_type": "code",
      "source": [
        "def greet():\n",
        "  print(\"hello world!\")\n",
        "\n",
        "greet()"
      ],
      "metadata": {
        "colab": {
          "base_uri": "https://localhost:8080/"
        },
        "id": "wRGUKC3YCrIq",
        "outputId": "78127d2e-df03-4c3f-da19-9f4863a591cd"
      },
      "execution_count": 6,
      "outputs": [
        {
          "output_type": "stream",
          "name": "stdout",
          "text": [
            "hello world!\n"
          ]
        }
      ]
    },
    {
      "cell_type": "markdown",
      "source": [
        "**Problem 2: Function with one parameter**\n",
        "Write a function called `greet_user` that takes a `name` parameter and returns a greeting message with the name.\n",
        "\n",
        "Expected Output"
      ],
      "metadata": {
        "id": "qF1ubLkeC3vN"
      }
    },
    {
      "cell_type": "code",
      "source": [
        "def greet_user(name):\n",
        "  print(f\"hello,{name}\")\n",
        "\n",
        "greet_user(\"Sujith\")"
      ],
      "metadata": {
        "colab": {
          "base_uri": "https://localhost:8080/"
        },
        "id": "wLZxB1oGC8TY",
        "outputId": "0341dbaf-cd25-48ac-9998-c9520195de19"
      },
      "execution_count": 7,
      "outputs": [
        {
          "output_type": "stream",
          "name": "stdout",
          "text": [
            "hello,Sujith\n"
          ]
        }
      ]
    },
    {
      "cell_type": "markdown",
      "source": [
        "Problem 3: Function with two parameters and mathematical operation\n",
        "Write a function called add_numbers that takes two parameters a and b, and returns their sum.\n",
        "Expected Output:\n",
        "result = add_numbers(5, 10)\n",
        "print(result)  # Output: 15"
      ],
      "metadata": {
        "id": "YIUnVS0pDIez"
      }
    },
    {
      "cell_type": "code",
      "source": [
        "def add_numbers(a,b):\n",
        "  return(a+b)\n",
        "\n",
        "add_numbers(5,10)"
      ],
      "metadata": {
        "colab": {
          "base_uri": "https://localhost:8080/"
        },
        "id": "y3TIH3fEDM1E",
        "outputId": "d2eed182-9c2a-4037-d9fd-1f73a18e4863"
      },
      "execution_count": 8,
      "outputs": [
        {
          "output_type": "execute_result",
          "data": {
            "text/plain": [
              "15"
            ]
          },
          "metadata": {},
          "execution_count": 8
        }
      ]
    },
    {
      "cell_type": "markdown",
      "source": [
        "**Problem 4: Function with a conditional statement**\n",
        "Write a function called `check_even_odd` that takes a `number` parameter and returns \"Even\" if the number is even, and \"Odd\" if the number is odd.\n",
        "\n",
        "Expected Output:"
      ],
      "metadata": {
        "id": "zRBgvQI7DVCv"
      }
    },
    {
      "cell_type": "code",
      "source": [
        "def check_even_odd(numbers):\n",
        "  if numbers%2 ==0:\n",
        "    print(\"even\")\n",
        "  else:\n",
        "    print(\"odd\")\n",
        "\n",
        "check_even_odd(5)"
      ],
      "metadata": {
        "colab": {
          "base_uri": "https://localhost:8080/"
        },
        "id": "GQ9eeZ3dDaAK",
        "outputId": "43ea47c4-353a-4405-a667-d6ff1ddbe9af"
      },
      "execution_count": 9,
      "outputs": [
        {
          "output_type": "stream",
          "name": "stdout",
          "text": [
            "odd\n"
          ]
        }
      ]
    },
    {
      "cell_type": "markdown",
      "source": [
        "**Problem 5: Function with default parameter value**\n",
        "Write a function called `greet_user` that takes an optional `name` parameter with a default value of \"Guest\". The function should return a greeting message with the provided name or \"Guest\" if no name is provided.\n",
        "\n",
        "Expected Output:"
      ],
      "metadata": {
        "id": "S0nXYbY0D2Ry"
      }
    },
    {
      "cell_type": "code",
      "source": [
        "def greet_user(name = \"guest\"):\n",
        "  print(f\"hello,{name}\")\n",
        "\n",
        "greet_user()"
      ],
      "metadata": {
        "colab": {
          "base_uri": "https://localhost:8080/"
        },
        "id": "ZaU7txNHD6sd",
        "outputId": "bec69d29-4754-4020-d46d-519eb8d5455d"
      },
      "execution_count": 10,
      "outputs": [
        {
          "output_type": "stream",
          "name": "stdout",
          "text": [
            "hello,guest\n"
          ]
        }
      ]
    },
    {
      "cell_type": "markdown",
      "source": [
        "**Problem 6: Function with a variable number of arguments (variadic function)**\n",
        "Write a function called `sum_numbers` that takes a variable number of arguments and returns the sum of all the arguments.\n",
        "\n",
        "Expected Output:"
      ],
      "metadata": {
        "id": "jAo6YxWOEO2-"
      }
    },
    {
      "cell_type": "code",
      "source": [
        "def sum_numbers(*args):\n",
        "  return sum(args)\n",
        "\n",
        "sum_numbers(1,2,3,4,5)"
      ],
      "metadata": {
        "colab": {
          "base_uri": "https://localhost:8080/"
        },
        "id": "YooAeQZzEQJI",
        "outputId": "d9c8adc9-f381-4279-89ec-5fa36871f388"
      },
      "execution_count": 11,
      "outputs": [
        {
          "output_type": "execute_result",
          "data": {
            "text/plain": [
              "15"
            ]
          },
          "metadata": {},
          "execution_count": 11
        }
      ]
    },
    {
      "cell_type": "markdown",
      "source": [
        "**Problem 7: Nested Functions**\n",
        "Write a function called `square` that takes a number `x` as input and returns the square of that number using a nested function called `multiply` to perform the calculation.\n",
        "\n",
        "Expected Output:"
      ],
      "metadata": {
        "id": "CIay_aQhEgFV"
      }
    },
    {
      "cell_type": "code",
      "source": [
        "def square(x):\n",
        "    # Nested function to perform multiplication\n",
        "    def multiply(a, b):\n",
        "        return a * b\n",
        "\n",
        "    # Use the nested function to calculate the square\n",
        "    return multiply(x, x)\n",
        "\n",
        "# Example usage\n",
        "result = square(5)\n",
        "print(\"The square of the number is:\", result)\n"
      ],
      "metadata": {
        "id": "ogXxb6nxFjqI",
        "outputId": "65e5fd21-584c-47cf-b93e-1208ff5f0d62",
        "colab": {
          "base_uri": "https://localhost:8080/"
        }
      },
      "execution_count": 17,
      "outputs": [
        {
          "output_type": "stream",
          "name": "stdout",
          "text": [
            "The square of the number is: 25\n"
          ]
        }
      ]
    }
  ]
}