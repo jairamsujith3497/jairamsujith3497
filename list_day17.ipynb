{
  "nbformat": 4,
  "nbformat_minor": 0,
  "metadata": {
    "colab": {
      "provenance": [],
      "authorship_tag": "ABX9TyPe9M/obrESptUQYDbNgJIt",
      "include_colab_link": true
    },
    "kernelspec": {
      "name": "python3",
      "display_name": "Python 3"
    },
    "language_info": {
      "name": "python"
    }
  },
  "cells": [
    {
      "cell_type": "markdown",
      "metadata": {
        "id": "view-in-github",
        "colab_type": "text"
      },
      "source": [
        "<a href=\"https://colab.research.google.com/github/jairamsujith3497/jairamsujith3497/blob/main/list_day17.ipynb\" target=\"_parent\"><img src=\"https://colab.research.google.com/assets/colab-badge.svg\" alt=\"Open In Colab\"/></a>"
      ]
    },
    {
      "cell_type": "markdown",
      "source": [
        "List = Its is a mutable collection of objects it is store in [] and seperated in comma"
      ],
      "metadata": {
        "id": "Y8MehRFtN_1A"
      }
    },
    {
      "cell_type": "code",
      "source": [
        "numbers = [1,2,3,4,5]\n",
        "print(numbers)"
      ],
      "metadata": {
        "colab": {
          "base_uri": "https://localhost:8080/"
        },
        "id": "jQ7abuOrOPGt",
        "outputId": "1217c9b4-de5f-47d2-9429-ff112a5c98d5"
      },
      "execution_count": 1,
      "outputs": [
        {
          "output_type": "stream",
          "name": "stdout",
          "text": [
            "[1, 2, 3, 4, 5]\n"
          ]
        }
      ]
    },
    {
      "cell_type": "code",
      "source": [
        "fruits = [\"apple\",\"banana\",\"grape\"]\n",
        "print(fruits)"
      ],
      "metadata": {
        "colab": {
          "base_uri": "https://localhost:8080/"
        },
        "id": "LzO32mSsOWa-",
        "outputId": "302f8f22-d1d9-4a35-b16c-acec3e819a45"
      },
      "execution_count": 2,
      "outputs": [
        {
          "output_type": "stream",
          "name": "stdout",
          "text": [
            "['apple', 'banana', 'grape']\n"
          ]
        }
      ]
    },
    {
      "cell_type": "code",
      "source": [
        "mixed_list = [1,\"apple\",True,3.14]\n",
        "print(mixed_list)"
      ],
      "metadata": {
        "colab": {
          "base_uri": "https://localhost:8080/"
        },
        "id": "KLULWLqmOeTm",
        "outputId": "4392cd34-d5e6-4290-b054-952d7b7ad122"
      },
      "execution_count": 4,
      "outputs": [
        {
          "output_type": "stream",
          "name": "stdout",
          "text": [
            "[1, 'apple', True, 3.14]\n"
          ]
        }
      ]
    },
    {
      "cell_type": "code",
      "source": [
        "fruits =[\"apple\",\"banana\",\"grape\",\"orange\"]\n",
        "fruits[0]"
      ],
      "metadata": {
        "colab": {
          "base_uri": "https://localhost:8080/",
          "height": 35
        },
        "id": "TqTp5i7aOrPY",
        "outputId": "2ee0a236-4b3b-451d-bc8e-c57eb2f4cfe0"
      },
      "execution_count": 5,
      "outputs": [
        {
          "output_type": "execute_result",
          "data": {
            "text/plain": [
              "'apple'"
            ],
            "application/vnd.google.colaboratory.intrinsic+json": {
              "type": "string"
            }
          },
          "metadata": {},
          "execution_count": 5
        }
      ]
    },
    {
      "cell_type": "code",
      "source": [
        "list1 =[1,2,3]\n",
        "list2 =[4,5,6]\n",
        "list3 = list1 + list2\n",
        "print(list3)\n",
        "list4 = list3*2\n",
        "\n",
        "print(list4)"
      ],
      "metadata": {
        "colab": {
          "base_uri": "https://localhost:8080/"
        },
        "id": "ccHYI2YsO1Yl",
        "outputId": "4aed3389-c2e6-4587-8f05-26a4f7f6c63b"
      },
      "execution_count": 7,
      "outputs": [
        {
          "output_type": "stream",
          "name": "stdout",
          "text": [
            "[1, 2, 3, 4, 5, 6]\n",
            "[1, 2, 3, 4, 5, 6, 1, 2, 3, 4, 5, 6]\n"
          ]
        }
      ]
    },
    {
      "cell_type": "code",
      "source": [
        "fruits =[\"apple\",\"banana\",\"grape\",\"orange\"]\n",
        "fruits.append(\"mango\")\n",
        "\n",
        "print(fruits)\n",
        "fruits.remove(\"banana\")\n",
        "print(fruits)\n",
        "fruits.insert(2,\"kiwi\")\n",
        "print(fruits)\n",
        "fruits.sort()\n",
        "print(fruits)"
      ],
      "metadata": {
        "colab": {
          "base_uri": "https://localhost:8080/"
        },
        "id": "PvhvMmuZPGiC",
        "outputId": "a95bb34a-8d4b-4458-ca20-a850c6239ff5"
      },
      "execution_count": 14,
      "outputs": [
        {
          "output_type": "stream",
          "name": "stdout",
          "text": [
            "['apple', 'banana', 'grape', 'orange', 'mango']\n",
            "['apple', 'grape', 'orange', 'mango']\n",
            "['apple', 'grape', 'kiwi', 'orange', 'mango']\n",
            "['apple', 'grape', 'kiwi', 'mango', 'orange']\n"
          ]
        }
      ]
    },
    {
      "cell_type": "markdown",
      "source": [
        "### Questions to practice (Day - 17):\n",
        "\n",
        "1. Write a Python program that takes a list of numbers [1, 2, 3, 4, 5] and prints each number on a new line.\n",
        "    \n",
        "    Input: [1, 2, 3, 4, 5]"
      ],
      "metadata": {
        "id": "JaAs6bcTQRrs"
      }
    },
    {
      "cell_type": "code",
      "source": [
        "list = [1,2,3,4,5]\n",
        "\n",
        "for num in list:\n",
        "  print(num)"
      ],
      "metadata": {
        "colab": {
          "base_uri": "https://localhost:8080/"
        },
        "id": "yxUsLgzgQStr",
        "outputId": "ace05a7d-cae8-420a-af63-f64f14450b16"
      },
      "execution_count": 15,
      "outputs": [
        {
          "output_type": "stream",
          "name": "stdout",
          "text": [
            "1\n",
            "2\n",
            "3\n",
            "4\n",
            "5\n"
          ]
        }
      ]
    },
    {
      "cell_type": "markdown",
      "source": [
        "2. Given a list of strings [\"apple\", \"banana\", \"orange\"], concatenate all the strings together with a space in between and print the result.\n",
        "    \n",
        "    Input: [\"apple\", \"banana\", \"orange\"]\n",
        "    Expected Output: \"apple banana orange\""
      ],
      "metadata": {
        "id": "TKy-LNAYQe9V"
      }
    },
    {
      "cell_type": "code",
      "source": [
        "string = [\"apple\",\"banana\",\"orange\"]\n",
        "string[0]\n",
        "string[1]\n",
        "string[2]\n",
        "string3 = string[0]+\" \"+string[1]+\" \" +string[2]\n",
        "print(string3)"
      ],
      "metadata": {
        "colab": {
          "base_uri": "https://localhost:8080/"
        },
        "id": "t4luGfz1QiMd",
        "outputId": "effa9947-2648-4c18-c058-960950d29fce"
      },
      "execution_count": 18,
      "outputs": [
        {
          "output_type": "stream",
          "name": "stdout",
          "text": [
            "apple banana orange\n"
          ]
        }
      ]
    },
    {
      "cell_type": "markdown",
      "source": [
        "3. Write a Python function that takes a list of numbers as input and returns the sum of all the numbers.\n",
        "    \n",
        "    Input: [1, 2, 3, 4, 5]\n",
        "    Expected Output: 15"
      ],
      "metadata": {
        "id": "Bc3SKqh9RDiz"
      }
    },
    {
      "cell_type": "code",
      "source": [
        "input = [1,2,3,4,5]\n",
        "for num in input:\n",
        "  num = sum(input)\n",
        "  print(num)"
      ],
      "metadata": {
        "colab": {
          "base_uri": "https://localhost:8080/"
        },
        "id": "XlFlj4ffREpo",
        "outputId": "cd1961f4-922a-46a2-934c-3db66b1384b5"
      },
      "execution_count": 19,
      "outputs": [
        {
          "output_type": "stream",
          "name": "stdout",
          "text": [
            "15\n",
            "15\n",
            "15\n",
            "15\n",
            "15\n"
          ]
        }
      ]
    },
    {
      "cell_type": "markdown",
      "source": [
        "4. Given a list of numbers [10, 20, 30, 40, 50], find the maximum number using the `max()` function and print the result.\n",
        "    \n",
        "    Input: [10, 20, 30, 40, 50]\n",
        "    Expected Output: 50"
      ],
      "metadata": {
        "id": "Xrj3wzKSRqYa"
      }
    },
    {
      "cell_type": "code",
      "source": [
        "numbers = [10,20,30,40,50]\n",
        "max(numbers)"
      ],
      "metadata": {
        "colab": {
          "base_uri": "https://localhost:8080/"
        },
        "id": "Q4oBCEM6RrFZ",
        "outputId": "d83f2241-79fe-435b-d1d9-202369d46cbe"
      },
      "execution_count": 20,
      "outputs": [
        {
          "output_type": "execute_result",
          "data": {
            "text/plain": [
              "50"
            ]
          },
          "metadata": {},
          "execution_count": 20
        }
      ]
    },
    {
      "cell_type": "markdown",
      "source": [
        "5. Write a Python program that takes a list of names [\"Alice\", \"Bob\", \"Charlie\"] and checks if a given name (e.g., \"Alice\") is present in the list. Print \"Name found\" if the name is in the list; otherwise, print \"Name not found\".\n",
        "    \n",
        "    Input: Names = [\"Alice\", \"Bob\", \"Charlie\"], Name = \"Alice\"\n",
        "    Expected Output: \"Name found\""
      ],
      "metadata": {
        "id": "vh5a7yYuRz57"
      }
    },
    {
      "cell_type": "code",
      "source": [
        "names = [\"Alice\",\"bob\",\"charlie\"]\n",
        "if \"Alice\" in names:\n",
        "  print(\"name found\")\n",
        "else:\n",
        "  print(\"name is not found\")"
      ],
      "metadata": {
        "colab": {
          "base_uri": "https://localhost:8080/"
        },
        "id": "0aQnEklRR00i",
        "outputId": "77b08f2f-1110-4c61-ef15-e24262f7a174"
      },
      "execution_count": 21,
      "outputs": [
        {
          "output_type": "stream",
          "name": "stdout",
          "text": [
            "name found\n"
          ]
        }
      ]
    }
  ]
}