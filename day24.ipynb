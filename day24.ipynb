{
  "nbformat": 4,
  "nbformat_minor": 0,
  "metadata": {
    "colab": {
      "provenance": [],
      "authorship_tag": "ABX9TyOAunVkp7hosLxT9f+6berJ",
      "include_colab_link": true
    },
    "kernelspec": {
      "name": "python3",
      "display_name": "Python 3"
    },
    "language_info": {
      "name": "python"
    }
  },
  "cells": [
    {
      "cell_type": "markdown",
      "metadata": {
        "id": "view-in-github",
        "colab_type": "text"
      },
      "source": [
        "<a href=\"https://colab.research.google.com/github/jairamsujith3497/jairamsujith3497/blob/main/day24.ipynb\" target=\"_parent\"><img src=\"https://colab.research.google.com/assets/colab-badge.svg\" alt=\"Open In Colab\"/></a>"
      ]
    },
    {
      "cell_type": "code",
      "execution_count": null,
      "metadata": {
        "colab": {
          "base_uri": "https://localhost:8080/"
        },
        "id": "GzWBwVkXreHb",
        "outputId": "00efbfc8-0aa0-4935-8b82-3d88ea5b114d"
      },
      "outputs": [
        {
          "output_type": "stream",
          "name": "stdout",
          "text": [
            "HELLO ,MOHAMMED!!!\n"
          ]
        }
      ],
      "source": [
        "def greet(name = \"greet\"):\n",
        "  return f\"hello ,{name}\"\n",
        "\n",
        "greet()\n",
        "\n",
        "def greet_and_emphasize(name):\n",
        "  gretting = greet(name)\n",
        "  return gretting.upper()+\"!!!\"\n",
        "\n",
        "result = greet_and_emphasize(\"mohammed\")\n",
        "print(result)"
      ]
    },
    {
      "cell_type": "code",
      "source": [
        "def add_numbers(a,b):\n",
        "  return a+b\n",
        "\n",
        "result = add_numbers(10,20)\n",
        "print(result)"
      ],
      "metadata": {
        "colab": {
          "base_uri": "https://localhost:8080/"
        },
        "id": "ZLIr6kA2_f81",
        "outputId": "52a25a7d-c8fa-4c88-bfa9-bc91972a7f3f"
      },
      "execution_count": null,
      "outputs": [
        {
          "output_type": "stream",
          "name": "stdout",
          "text": [
            "30\n"
          ]
        }
      ]
    },
    {
      "cell_type": "code",
      "source": [
        "def square(number):\n",
        "  return number ** 2\n",
        "\n",
        "result = square(5)\n",
        "print(result)"
      ],
      "metadata": {
        "colab": {
          "base_uri": "https://localhost:8080/"
        },
        "id": "3nN0SdAH_8Pw",
        "outputId": "b930698e-6be8-4d6a-ffe1-ae81ed06627f"
      },
      "execution_count": null,
      "outputs": [
        {
          "output_type": "stream",
          "name": "stdout",
          "text": [
            "25\n"
          ]
        }
      ]
    },
    {
      "cell_type": "markdown",
      "source": [
        "Using\n",
        "*args\n",
        "and\n",
        "**kwargs\n",
        "in Functions\n",
        "We can handle an arbitrary number of arguments using special symbols *args and **kwargs.\n",
        "\n",
        "*args in Functions\n",
        "\n",
        "Using *args allows a function to take any number of positional arguments.\n",
        "\n"
      ],
      "metadata": {
        "id": "KMBrFK4tAvN3"
      }
    },
    {
      "cell_type": "code",
      "source": [
        "def add_all(*args):\n",
        "  return sum(args)\n",
        "\n",
        "print(add_all(1,2,3,4,5,6))"
      ],
      "metadata": {
        "colab": {
          "base_uri": "https://localhost:8080/"
        },
        "id": "yYDshpWwAyhz",
        "outputId": "df837ec4-4abb-46df-f9d3-8942e9f1edd2"
      },
      "execution_count": null,
      "outputs": [
        {
          "output_type": "stream",
          "name": "stdout",
          "text": [
            "21\n"
          ]
        }
      ]
    },
    {
      "cell_type": "markdown",
      "source": [
        "Using **kwargs allows the function to accept any number of keyword arguments."
      ],
      "metadata": {
        "id": "L7YtP1d_BJlm"
      }
    },
    {
      "cell_type": "code",
      "source": [
        "def greet(**words):\n",
        "  for key,value in words.items():\n",
        "    print(f\"{key}:{value}\")\n",
        "\n",
        "greet(name = \"sujith\",age=27)"
      ],
      "metadata": {
        "colab": {
          "base_uri": "https://localhost:8080/"
        },
        "id": "npkuCHSRBOR4",
        "outputId": "08f42ae2-39d9-47ad-bc35-04ee0438982c"
      },
      "execution_count": null,
      "outputs": [
        {
          "output_type": "stream",
          "name": "stdout",
          "text": [
            "name:sujith\n",
            "age:27\n"
          ]
        }
      ]
    },
    {
      "cell_type": "code",
      "source": [
        "def is_prime(num):\n",
        "    if num <= 1:\n",
        "        return False\n",
        "    for i in range(2, int(num ** 0.5) + 1):\n",
        "        if num % i == 0:\n",
        "            return False\n",
        "    return True\n",
        "\n",
        "# Input from the user\n",
        "number = int(input(\"Enter a number: \"))\n",
        "\n",
        "if is_prime(number):\n",
        "    print(f\"{number} is a prime number.\")\n",
        "else:\n",
        "    print(f\"{number} is not a prime number.\")\n"
      ],
      "metadata": {
        "colab": {
          "base_uri": "https://localhost:8080/"
        },
        "id": "oS2c5zPyC8da",
        "outputId": "d662c9b5-2373-48de-93da-cb20282fa673"
      },
      "execution_count": null,
      "outputs": [
        {
          "output_type": "stream",
          "name": "stdout",
          "text": [
            "Enter a number: 5\n",
            "5 is a prime number.\n"
          ]
        }
      ]
    },
    {
      "cell_type": "code",
      "source": [
        "def full_name(first_name,last_name):\n",
        "  return first_name+\" \"+last_name\n",
        "\n",
        "full_name(\"mohammed\",\"siraj\")"
      ],
      "metadata": {
        "colab": {
          "base_uri": "https://localhost:8080/",
          "height": 35
        },
        "id": "lfKQqetoDUtm",
        "outputId": "5f1cfdc3-efb2-4882-e01f-40b718ea1445"
      },
      "execution_count": null,
      "outputs": [
        {
          "output_type": "execute_result",
          "data": {
            "text/plain": [
              "'mohammed siraj'"
            ],
            "application/vnd.google.colaboratory.intrinsic+json": {
              "type": "string"
            }
          },
          "metadata": {},
          "execution_count": 23
        }
      ]
    },
    {
      "cell_type": "markdown",
      "source": [
        "variables :'\n",
        "\n",
        "local\n",
        "global\n",
        "non local\n",
        "\n"
      ],
      "metadata": {
        "id": "6JQh5oKbG5do"
      }
    },
    {
      "cell_type": "markdown",
      "source": [
        "When we declare variables inside a function, these variables will have a local scope (within the function). We cannot access them outside the function.\n",
        "\n"
      ],
      "metadata": {
        "id": "32ks8Jx_HFOx"
      }
    },
    {
      "cell_type": "code",
      "source": [
        "def greet():\n",
        "  message = \"hello\"\n",
        "  print('local',message)\n",
        "\n",
        "greet()"
      ],
      "metadata": {
        "colab": {
          "base_uri": "https://localhost:8080/"
        },
        "id": "56_9NeLxHHII",
        "outputId": "e25f9fff-5e6f-4264-a25d-637a5b3c5c57"
      },
      "execution_count": null,
      "outputs": [
        {
          "output_type": "stream",
          "name": "stdout",
          "text": [
            "local hello\n"
          ]
        }
      ]
    },
    {
      "cell_type": "markdown",
      "source": [
        "global variable = In Python, a variable declared outside of the function or in global scope is known as a global variable. This means that a global variable can be accessed inside or outside of the function."
      ],
      "metadata": {
        "id": "kFECdShzHj30"
      }
    },
    {
      "cell_type": "code",
      "source": [
        "message = \"world\"\n",
        "def greet():\n",
        "  print(\"global\",message)\n",
        "\n",
        "greet()"
      ],
      "metadata": {
        "colab": {
          "base_uri": "https://localhost:8080/"
        },
        "id": "mNpwkdOFHmcr",
        "outputId": "180645a5-a9d7-4747-c605-d6d7d22435b8"
      },
      "execution_count": null,
      "outputs": [
        {
          "output_type": "stream",
          "name": "stdout",
          "text": [
            "global world\n"
          ]
        }
      ]
    },
    {
      "cell_type": "markdown",
      "source": [
        "Python Nonlocal Variables\n",
        "In Python, the nonlocal keyword is used within nested functions to indicate that a variable is not local to the inner function, but rather belongs to an enclosing function’s scope.\n",
        "\n",
        "This allows you to modify a variable from the outer function within the nested function, while still keeping it distinct from global variables."
      ],
      "metadata": {
        "id": "WUBvca1TH90k"
      }
    },
    {
      "cell_type": "code",
      "source": [
        "message = \"im outer\"\n",
        "def outer_function():\n",
        "  print(message)\n",
        "\n",
        "outer_function()\n",
        "\n",
        "def inner_function():\n",
        "  message = \"im inner\"\n",
        "  print(message)\n",
        "\n",
        "inner_function()\n",
        "\n",
        "outer_function()"
      ],
      "metadata": {
        "colab": {
          "base_uri": "https://localhost:8080/"
        },
        "id": "RVOL1Zw_IqmX",
        "outputId": "da95b858-b09e-4cb6-c778-6c1545c3b7bb"
      },
      "execution_count": null,
      "outputs": [
        {
          "output_type": "stream",
          "name": "stdout",
          "text": [
            "im outer\n",
            "im inner\n",
            "im outer\n"
          ]
        }
      ]
    },
    {
      "cell_type": "code",
      "source": [
        "from binascii import b2a_base64\n",
        "def divide_and_remminder(a,b):\n",
        "  return a//b,a%b\n",
        "\n",
        "divide_and_remminder(10,3)"
      ],
      "metadata": {
        "colab": {
          "base_uri": "https://localhost:8080/"
        },
        "id": "BcfDsg8UJcic",
        "outputId": "9531093d-85c8-401c-b425-6a9261f004ad"
      },
      "execution_count": null,
      "outputs": [
        {
          "output_type": "execute_result",
          "data": {
            "text/plain": [
              "(3, 1)"
            ]
          },
          "metadata": {},
          "execution_count": 30
        }
      ]
    },
    {
      "cell_type": "code",
      "source": [
        "def factorial(n):\n",
        "    # Base case: factorial of 1 is 1\n",
        "    if n == 1 or n == 0:\n",
        "        return 1\n",
        "    # Recursive case: n * factorial of (n-1)\n",
        "    return n * factorial(n - 1)\n",
        "\n",
        "# Example usage\n",
        "number = int(input(\"Enter a positive integer: \"))\n",
        "print(f\"The factorial of {number} is {factorial(number)}.\")\n",
        "\n",
        "\n",
        "\n"
      ],
      "metadata": {
        "colab": {
          "base_uri": "https://localhost:8080/"
        },
        "id": "B3Zl5tgrJsTz",
        "outputId": "c65f790f-5072-4125-ebcf-35d2cf5ac8c1"
      },
      "execution_count": null,
      "outputs": [
        {
          "output_type": "stream",
          "name": "stderr",
          "text": [
            "ERROR:root:Internal Python error in the inspect module.\n",
            "Below is the traceback from this internal error.\n",
            "\n",
            "ERROR:root:Internal Python error in the inspect module.\n",
            "Below is the traceback from this internal error.\n",
            "\n",
            "ERROR:root:Internal Python error in the inspect module.\n",
            "Below is the traceback from this internal error.\n",
            "\n"
          ]
        }
      ]
    },
    {
      "cell_type": "code",
      "source": [
        "def factorial(n):\n",
        "    # Base case: factorial of 1 is 1\n",
        "    if n == 1 or n == 0:\n",
        "        return 1\n",
        "    # Recursive case: n * factorial of (n-1)\n",
        "    return n * factorial(n - 1)\n",
        "\n",
        "# Example usage\n",
        "number = int(input(\"Enter a positive integer: \"))\n",
        "print(f\"The factorial of {number} is {factorial(number)}.\")\n"
      ],
      "metadata": {
        "id": "IdKRhzRGKojp"
      },
      "execution_count": null,
      "outputs": []
    }
  ]
}