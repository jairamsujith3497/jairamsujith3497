{
  "nbformat": 4,
  "nbformat_minor": 0,
  "metadata": {
    "colab": {
      "provenance": [],
      "authorship_tag": "ABX9TyNBTgits9YbGqzAIWOTuHVR",
      "include_colab_link": true
    },
    "kernelspec": {
      "name": "python3",
      "display_name": "Python 3"
    },
    "language_info": {
      "name": "python"
    }
  },
  "cells": [
    {
      "cell_type": "markdown",
      "metadata": {
        "id": "view-in-github",
        "colab_type": "text"
      },
      "source": [
        "<a href=\"https://colab.research.google.com/github/jairamsujith3497/jairamsujith3497/blob/main/day23.ipynb\" target=\"_parent\"><img src=\"https://colab.research.google.com/assets/colab-badge.svg\" alt=\"Open In Colab\"/></a>"
      ]
    },
    {
      "cell_type": "markdown",
      "source": [
        "functions are used for reusable of code and to organize the code in a proper way.\n",
        "\n",
        "to define functions we use keyword def and pair of paranthesis and colon:"
      ],
      "metadata": {
        "id": "Ocg5qg2Nl17B"
      }
    },
    {
      "cell_type": "code",
      "execution_count": 1,
      "metadata": {
        "colab": {
          "base_uri": "https://localhost:8080/"
        },
        "id": "cGzzwf6sl1CP",
        "outputId": "a7c60dda-a208-4dab-83ec-dc91b9a250f6"
      },
      "outputs": [
        {
          "output_type": "stream",
          "name": "stdout",
          "text": [
            "hello code\n"
          ]
        }
      ],
      "source": [
        "def greet():\n",
        "  print(\"hello code\")\n",
        "\n",
        "greet()"
      ]
    },
    {
      "cell_type": "markdown",
      "source": [
        "Function Parameters:\n",
        "You can define parameters inside the parentheses to pass data into the function. Parameters act as placeholders for the actual values that you provide when calling the function.\n"
      ],
      "metadata": {
        "id": "ZLcE-dlEmY_X"
      }
    },
    {
      "cell_type": "code",
      "source": [
        "def greetuser(name):\n",
        "  print(f\"hello {name}\")\n",
        "\n",
        "greetuser(\"sujith\")"
      ],
      "metadata": {
        "colab": {
          "base_uri": "https://localhost:8080/"
        },
        "id": "QHfyp4SzmdE1",
        "outputId": "6075df54-1ac6-4b2d-c4a0-56f8c9b5fa5b"
      },
      "execution_count": 2,
      "outputs": [
        {
          "output_type": "stream",
          "name": "stdout",
          "text": [
            "hello sujith\n"
          ]
        }
      ]
    },
    {
      "cell_type": "markdown",
      "source": [
        "Return Statement:\n",
        "Functions can return values using the return keyword. When a function returns a value, you can capture it and use it elsewhere in your code."
      ],
      "metadata": {
        "id": "5HUbR1Rum8NB"
      }
    },
    {
      "cell_type": "code",
      "source": [
        "def add_numbers(a,b):\n",
        "  return a+b\n",
        "\n",
        "add_numbers(5,4)"
      ],
      "metadata": {
        "colab": {
          "base_uri": "https://localhost:8080/"
        },
        "id": "QY0Iey_InFdw",
        "outputId": "a01fc3f1-15c0-4146-e070-a7d8e5564cde"
      },
      "execution_count": 3,
      "outputs": [
        {
          "output_type": "execute_result",
          "data": {
            "text/plain": [
              "9"
            ]
          },
          "metadata": {},
          "execution_count": 3
        }
      ]
    },
    {
      "cell_type": "code",
      "source": [
        "def sub_numbers(a,b):\n",
        "  return a-b\n",
        "\n",
        "sub_numbers(5,4)"
      ],
      "metadata": {
        "colab": {
          "base_uri": "https://localhost:8080/"
        },
        "id": "5IjBZHYpnTZ7",
        "outputId": "0de7f24f-6d7c-4c93-be3c-56da64d76a2b"
      },
      "execution_count": 4,
      "outputs": [
        {
          "output_type": "execute_result",
          "data": {
            "text/plain": [
              "1"
            ]
          },
          "metadata": {},
          "execution_count": 4
        }
      ]
    },
    {
      "cell_type": "markdown",
      "source": [
        "Problem 1: Simple function without parameters\n",
        "Write a function called greet that takes no parameters and returns the string \"Hello, World!\"\n",
        "Expected Output:\n"
      ],
      "metadata": {
        "id": "ra4J-YTcnn1f"
      }
    },
    {
      "cell_type": "code",
      "source": [
        "def greet():\n",
        "  return \"hello,world!\"\n",
        "\n",
        "greet()"
      ],
      "metadata": {
        "colab": {
          "base_uri": "https://localhost:8080/",
          "height": 35
        },
        "id": "vm6gYrgknqEf",
        "outputId": "82ee8c4a-207c-47c1-b2ba-13534678499e"
      },
      "execution_count": 5,
      "outputs": [
        {
          "output_type": "execute_result",
          "data": {
            "text/plain": [
              "'hello,world!'"
            ],
            "application/vnd.google.colaboratory.intrinsic+json": {
              "type": "string"
            }
          },
          "metadata": {},
          "execution_count": 5
        }
      ]
    },
    {
      "cell_type": "markdown",
      "source": [
        "Problem 2: Function with one parameter\n",
        "Write a function called greet_user that takes a name parameter and returns a greeting message with the name.\n",
        "Expected Output:\n"
      ],
      "metadata": {
        "id": "GN9kunUKny1w"
      }
    },
    {
      "cell_type": "code",
      "source": [
        "def greet_user(name):\n",
        "  return f\"hello {name}\"\n",
        "\n",
        "greet_user(\"sujith\")"
      ],
      "metadata": {
        "colab": {
          "base_uri": "https://localhost:8080/",
          "height": 35
        },
        "id": "UOe9bIwJn3oD",
        "outputId": "065f1155-6c5b-42ae-8017-b85d159d6055"
      },
      "execution_count": 6,
      "outputs": [
        {
          "output_type": "execute_result",
          "data": {
            "text/plain": [
              "'hello sujith'"
            ],
            "application/vnd.google.colaboratory.intrinsic+json": {
              "type": "string"
            }
          },
          "metadata": {},
          "execution_count": 6
        }
      ]
    },
    {
      "cell_type": "markdown",
      "source": [
        "Problem 3: Function with two parameters and mathematical operation\n",
        "Write a function called add_numbers that takes two parameters a and b, and returns their sum."
      ],
      "metadata": {
        "id": "r74qXxnfoCl2"
      }
    },
    {
      "cell_type": "code",
      "source": [
        "def sum_numbers(a,b):\n",
        "  return a+b\n",
        "\n",
        "sum_numbers(5,4)"
      ],
      "metadata": {
        "colab": {
          "base_uri": "https://localhost:8080/"
        },
        "id": "gQxXygwaoG28",
        "outputId": "4872748c-8b69-4057-be00-49995a261947"
      },
      "execution_count": 7,
      "outputs": [
        {
          "output_type": "execute_result",
          "data": {
            "text/plain": [
              "9"
            ]
          },
          "metadata": {},
          "execution_count": 7
        }
      ]
    },
    {
      "cell_type": "markdown",
      "source": [
        "**Problem 4: Function with a conditional statement**\n",
        "Write a function called `check_even_odd` that takes a `number` parameter and returns \"Even\" if the number is even, and \"Odd\" if the number is odd.\n",
        "\n",
        "Expected Output:"
      ],
      "metadata": {
        "id": "kuwAF0c-oPB1"
      }
    },
    {
      "cell_type": "code",
      "source": [
        "def check_even_odd(numbers):\n",
        "  if numbers%2==0:\n",
        "    print(\"even\")\n",
        "  else:\n",
        "    print(\"odd\")\n",
        "\n",
        "check_even_odd(4)"
      ],
      "metadata": {
        "colab": {
          "base_uri": "https://localhost:8080/"
        },
        "id": "L9U5uAgFoUV_",
        "outputId": "6214bc32-6c6a-4231-f8a2-6bdceedc8b0b"
      },
      "execution_count": 10,
      "outputs": [
        {
          "output_type": "stream",
          "name": "stdout",
          "text": [
            "even\n"
          ]
        }
      ]
    },
    {
      "cell_type": "markdown",
      "source": [
        "**Problem 5: Function with default parameter value**\n",
        "Write a function called `greet_user` that takes an optional `name` parameter with a default value of \"Guest\". The function should return a greeting message with the provided name or \"Guest\" if no name is provided."
      ],
      "metadata": {
        "id": "KYg3SJY4olTW"
      }
    },
    {
      "cell_type": "code",
      "source": [
        "def greet_user(name=\"guest\"):\n",
        "  print(f\"hello {name}\")\n",
        "\n",
        "greet_user()\n",
        "greet_user(\"sujith\")"
      ],
      "metadata": {
        "colab": {
          "base_uri": "https://localhost:8080/"
        },
        "id": "Z4MtZQYVoo5T",
        "outputId": "a2185c71-1d56-4b21-ac2b-bc565200bc4d"
      },
      "execution_count": 11,
      "outputs": [
        {
          "output_type": "stream",
          "name": "stdout",
          "text": [
            "hello guest\n",
            "hello sujith\n"
          ]
        }
      ]
    },
    {
      "cell_type": "markdown",
      "source": [
        "**Problem 6: Function with a variable number of arguments (variadic function)**\n",
        "Write a function called `sum_numbers` that takes a variable number of arguments and returns the sum of all the arguments.\n",
        "\n",
        "Expected Output:"
      ],
      "metadata": {
        "id": "IPIMEKc5o86S"
      }
    },
    {
      "cell_type": "code",
      "source": [
        "def sum_numbers(*args):\n",
        "  return sum(args)\n",
        "\n",
        "sum_numbers(1,2,3,4,5)"
      ],
      "metadata": {
        "colab": {
          "base_uri": "https://localhost:8080/"
        },
        "id": "xx-qVxPmpAgx",
        "outputId": "0caae393-ee8e-4b36-f6b8-66b8217dfbc5"
      },
      "execution_count": 19,
      "outputs": [
        {
          "output_type": "execute_result",
          "data": {
            "text/plain": [
              "15"
            ]
          },
          "metadata": {},
          "execution_count": 19
        }
      ]
    },
    {
      "cell_type": "markdown",
      "source": [
        "Problem 7: Nested Functions\n",
        "Write a function called square that takes a number x as input and returns the square of that number using a nested function called multiply to perform the calculation.\n",
        "Expected Output:\n"
      ],
      "metadata": {
        "id": "WLimRqi6p-ui"
      }
    },
    {
      "cell_type": "code",
      "source": [
        "def square(x):\n",
        "    # Nested function to multiply two numbers\n",
        "    def multiply(a, b):\n",
        "        return a * b\n",
        "\n",
        "    # Using the multiply function to return the square of x\n",
        "    return multiply(x, x)\n",
        "\n",
        "# Example usage:\n",
        "print(square(4))  # Output: 16\n",
        "print(square(5))  # Output: 25\n",
        "print(square(0))  # Output: 0\n"
      ],
      "metadata": {
        "colab": {
          "base_uri": "https://localhost:8080/"
        },
        "id": "nwGoo2vhrR9l",
        "outputId": "248a76fa-41e7-4cc8-bc3f-68169d9f0a5c"
      },
      "execution_count": 4,
      "outputs": [
        {
          "output_type": "stream",
          "name": "stdout",
          "text": [
            "16\n",
            "25\n",
            "0\n"
          ]
        }
      ]
    }
  ]
}