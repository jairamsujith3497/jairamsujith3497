{
  "nbformat": 4,
  "nbformat_minor": 0,
  "metadata": {
    "colab": {
      "provenance": [],
      "authorship_tag": "ABX9TyNCniR7GgidDm3aid1UH1ps",
      "include_colab_link": true
    },
    "kernelspec": {
      "name": "python3",
      "display_name": "Python 3"
    },
    "language_info": {
      "name": "python"
    }
  },
  "cells": [
    {
      "cell_type": "markdown",
      "metadata": {
        "id": "view-in-github",
        "colab_type": "text"
      },
      "source": [
        "<a href=\"https://colab.research.google.com/github/jairamsujith3497/jairamsujith3497/blob/main/Built_in_functions.ipynb\" target=\"_parent\"><img src=\"https://colab.research.google.com/assets/colab-badge.svg\" alt=\"Open In Colab\"/></a>"
      ]
    },
    {
      "cell_type": "markdown",
      "source": [
        "max() and min() - Returns the maximum and minimum values from a sequence"
      ],
      "metadata": {
        "id": "f4jQsuupdqZJ"
      }
    },
    {
      "cell_type": "markdown",
      "source": [
        "sum() - returns the sum of elements in a sequence"
      ],
      "metadata": {
        "id": "uKJkcRPWdwN8"
      }
    },
    {
      "cell_type": "markdown",
      "source": [
        "range() - generates a sequence of numbers with specified range"
      ],
      "metadata": {
        "id": "6Tm1NIp0d2Aq"
      }
    },
    {
      "cell_type": "markdown",
      "source": [
        "sorted() - retuens a new sorted listed elememts"
      ],
      "metadata": {
        "id": "evPL4yjcd-IG"
      }
    },
    {
      "cell_type": "code",
      "source": [
        "numbers = [10, 5, 8, 15, 3]\n",
        "max_value = max(numbers)\n",
        "min_value = min(numbers)\n",
        "print(max_value)\n",
        "print(min_value)"
      ],
      "metadata": {
        "colab": {
          "base_uri": "https://localhost:8080/"
        },
        "id": "ucW56C0weFSP",
        "outputId": "f9a21482-7578-463d-fbb3-f03d6ac22d34"
      },
      "execution_count": 1,
      "outputs": [
        {
          "output_type": "stream",
          "name": "stdout",
          "text": [
            "15\n",
            "3\n"
          ]
        }
      ]
    },
    {
      "cell_type": "code",
      "source": [
        "numbers = [10, 5, 8, 15, 3]\n",
        "sum_value = sum(numbers)\n",
        "print(sum_value)"
      ],
      "metadata": {
        "colab": {
          "base_uri": "https://localhost:8080/"
        },
        "id": "qZ_6DRmBecUw",
        "outputId": "44b6ae58-5067-4543-8128-75570c9ed9af"
      },
      "execution_count": 2,
      "outputs": [
        {
          "output_type": "stream",
          "name": "stdout",
          "text": [
            "41\n"
          ]
        }
      ]
    },
    {
      "cell_type": "code",
      "source": [
        "my_range = range(1,11)\n",
        "print(list(my_range))"
      ],
      "metadata": {
        "colab": {
          "base_uri": "https://localhost:8080/"
        },
        "id": "FRKjm-NoelZq",
        "outputId": "4c0e2598-31de-4ea3-b188-89344d5d2bcb"
      },
      "execution_count": 3,
      "outputs": [
        {
          "output_type": "stream",
          "name": "stdout",
          "text": [
            "[1, 2, 3, 4, 5, 6, 7, 8, 9, 10]\n"
          ]
        }
      ]
    },
    {
      "cell_type": "code",
      "source": [
        "numbers = [3, 1, 4, 1, 5, 9, 2, 6]\n",
        "sorted_numbers = sorted(numbers)\n",
        "print(sorted_numbers)\n"
      ],
      "metadata": {
        "colab": {
          "base_uri": "https://localhost:8080/"
        },
        "id": "RqF2z28JetOB",
        "outputId": "f8950074-b428-4c5a-a552-4652ac0ab709"
      },
      "execution_count": 4,
      "outputs": [
        {
          "output_type": "stream",
          "name": "stdout",
          "text": [
            "[1, 1, 2, 3, 4, 5, 6, 9]\n"
          ]
        }
      ]
    },
    {
      "cell_type": "markdown",
      "source": [
        "### Questions to practice (Day - 26):\n",
        "\n",
        "**Question 1: Using `max()` and `min()`**\n",
        "Write a Python program that takes a list of numbers as input and prints the maximum and minimum values from that list."
      ],
      "metadata": {
        "id": "Q_dZaSg-e7HB"
      }
    },
    {
      "cell_type": "code",
      "source": [
        "numbers = [20,25,30,70,43]\n",
        "min_value = min(numbers)\n",
        "max_value = max(numbers)\n",
        "print(min_value)\n",
        "print(max_value)"
      ],
      "metadata": {
        "colab": {
          "base_uri": "https://localhost:8080/"
        },
        "id": "-CBKcV-CfBcc",
        "outputId": "ddbb939c-48cc-4af9-c55d-be016b7d05af"
      },
      "execution_count": 5,
      "outputs": [
        {
          "output_type": "stream",
          "name": "stdout",
          "text": [
            "20\n",
            "70\n"
          ]
        }
      ]
    },
    {
      "cell_type": "markdown",
      "source": [
        "Question 2: Using sum()\n",
        "Write a Python program that takes a list of numbers as input and prints the sum of all the elements in that list."
      ],
      "metadata": {
        "id": "0fXRYcs1fQUf"
      }
    },
    {
      "cell_type": "code",
      "source": [
        "numbers = [1, 2, 3, 4, 5]\n",
        "sum_value = sum(numbers)\n",
        "print(sum_value)"
      ],
      "metadata": {
        "colab": {
          "base_uri": "https://localhost:8080/"
        },
        "id": "tgjwganufRWC",
        "outputId": "f9f4e3f6-8305-4afe-a50e-a3bb0fafc5ba"
      },
      "execution_count": 6,
      "outputs": [
        {
          "output_type": "stream",
          "name": "stdout",
          "text": [
            "15\n"
          ]
        }
      ]
    },
    {
      "cell_type": "markdown",
      "source": [
        "Write a Python program that generates a list of even numbers from 2 to 10 using the range() function."
      ],
      "metadata": {
        "id": "HzULD-G9fbFY"
      }
    },
    {
      "cell_type": "code",
      "source": [
        "my_range = range(2,11)\n",
        "for i in my_range:\n",
        "    if i % 2 == 0:\n",
        "        print(list(my_range))\n",
        "        break"
      ],
      "metadata": {
        "colab": {
          "base_uri": "https://localhost:8080/"
        },
        "id": "4ELBfc7SfcE4",
        "outputId": "c86ef8cb-139b-46bc-dad5-d0c53b79660b"
      },
      "execution_count": 9,
      "outputs": [
        {
          "output_type": "stream",
          "name": "stdout",
          "text": [
            "[2, 3, 4, 5, 6, 7, 8, 9, 10]\n"
          ]
        }
      ]
    },
    {
      "cell_type": "markdown",
      "source": [
        "Question 4: Using sorted()\n",
        "Write a Python program that takes a list of numbers as input, sorts the list in ascending order using the sorted() function, and prints the sorted list."
      ],
      "metadata": {
        "id": "CwsjqpSGfxWJ"
      }
    },
    {
      "cell_type": "code",
      "source": [
        "numbers = [3, 1, 4, 1, 5, 9, 2, 6]\n",
        "sorted_numbers = sorted(numbers)\n",
        "print(sorted_numbers)"
      ],
      "metadata": {
        "colab": {
          "base_uri": "https://localhost:8080/"
        },
        "id": "ME_wNwOxfyS4",
        "outputId": "3594dedf-d65e-4a88-d132-b8c66f9df7e1"
      },
      "execution_count": 10,
      "outputs": [
        {
          "output_type": "stream",
          "name": "stdout",
          "text": [
            "[1, 1, 2, 3, 4, 5, 6, 9]\n"
          ]
        }
      ]
    },
    {
      "cell_type": "markdown",
      "source": [
        "Question 5: Using len()\n",
        "Write a Python program that takes a string as input and prints the length of the string using the len() function."
      ],
      "metadata": {
        "id": "a9kEoxs_f65G"
      }
    },
    {
      "cell_type": "code",
      "source": [
        "text = \"hello,world!\"\n",
        "length = len(text)\n",
        "print(length)"
      ],
      "metadata": {
        "colab": {
          "base_uri": "https://localhost:8080/"
        },
        "id": "S4rnuAugf-Fd",
        "outputId": "e822fab5-48d1-4258-b790-3f2bfe74c7d6"
      },
      "execution_count": 11,
      "outputs": [
        {
          "output_type": "stream",
          "name": "stdout",
          "text": [
            "12\n"
          ]
        }
      ]
    },
    {
      "cell_type": "markdown",
      "source": [
        "Question 6: Using abs()\n",
        "Write a Python program that takes a number as input and prints its absolute value using the abs() function."
      ],
      "metadata": {
        "id": "_GgcsrdvgG0W"
      }
    },
    {
      "cell_type": "code",
      "source": [
        "numbers = -10\n",
        "abs_value = abs(numbers)\n",
        "print(abs_value)"
      ],
      "metadata": {
        "colab": {
          "base_uri": "https://localhost:8080/"
        },
        "id": "Fjxcd6UWgHz4",
        "outputId": "d910808a-6203-4869-d793-67e2edde0a9d"
      },
      "execution_count": 12,
      "outputs": [
        {
          "output_type": "stream",
          "name": "stdout",
          "text": [
            "10\n"
          ]
        }
      ]
    },
    {
      "cell_type": "markdown",
      "source": [
        "Question 7: Using all() and any()\n",
        "Write a Python program that takes a list of boolean values as input and checks if all values are True using the all() function. Then, check if at least one value is True using the any() function."
      ],
      "metadata": {
        "id": "inGef_7kgTFp"
      }
    },
    {
      "cell_type": "code",
      "source": [
        "bool_list = [True,True,False]\n",
        "All_true = all(bool_list)\n",
        "Any_list = any(bool_list)\n",
        "print(All_true)\n",
        "print(Any_list)"
      ],
      "metadata": {
        "colab": {
          "base_uri": "https://localhost:8080/"
        },
        "id": "Mm8v8yksgUOx",
        "outputId": "932f010c-8681-4bc6-8bfb-99203a1a8fda"
      },
      "execution_count": 13,
      "outputs": [
        {
          "output_type": "stream",
          "name": "stdout",
          "text": [
            "False\n",
            "True\n"
          ]
        }
      ]
    }
  ]
}